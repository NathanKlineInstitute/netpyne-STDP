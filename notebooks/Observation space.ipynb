{
 "cells": [
  {
   "cell_type": "code",
   "execution_count": null,
   "id": "df21950c",
   "metadata": {},
   "outputs": [],
   "source": [
    "import json\n",
    "import numpy as np\n",
    "\n",
    "with open('../config.json') as f:\n",
    "    config = json.load(f)"
   ]
  },
  {
   "cell_type": "code",
   "execution_count": null,
   "id": "e662888b",
   "metadata": {},
   "outputs": [],
   "source": [
    "config['env']['observation_map']"
   ]
  },
  {
   "cell_type": "code",
   "execution_count": null,
   "id": "9dce3c44",
   "metadata": {},
   "outputs": [],
   "source": [
    "from neurosim.game_interface import _parse_rf_map\n",
    "\n",
    "obs_rf = [_parse_rf_map(func_def) for func_def in config['env']['observation_map']]"
   ]
  },
  {
   "cell_type": "code",
   "execution_count": null,
   "id": "a3d1fcef",
   "metadata": {},
   "outputs": [],
   "source": [
    "def find_boundary(idx, f, imin=None, imax=None, eps=1e-6):\n",
    "    if imin == None:\n",
    "        imin = -10000\n",
    "    if imax == None:\n",
    "        imax = 10000\n",
    "        \n",
    "    midpoint = imin + (imax - imin) / 2\n",
    "    if f(imin).index(1.0) < idx:\n",
    "        while f(midpoint).index(1.0) > idx:\n",
    "            midpoint = imin + (midpoint - imin) / 2\n",
    "        return find_boundary(idx, f, midpoint, imax, eps)\n",
    "    if f(imax).index(1.0) > idx + 1:\n",
    "        while f(midpoint).index(1.0) < idx + 1:\n",
    "            midpoint = midpoint + (imax - midpoint) / 2\n",
    "        return find_boundary(idx, f, imin, midpoint, eps)\n",
    "    \n",
    "    if imax - imin < eps:\n",
    "        return round(imin, 5), imin, imax\n",
    "    \n",
    "    if f(midpoint).index(1.0) == idx:\n",
    "        return find_boundary(idx, f, midpoint, imax, eps)\n",
    "    if f(midpoint).index(1.0) == idx + 1:\n",
    "        return find_boundary(idx, f, imin, midpoint, eps)\n",
    "    "
   ]
  },
  {
   "cell_type": "code",
   "execution_count": null,
   "id": "108c56a2",
   "metadata": {},
   "outputs": [],
   "source": [
    "find_boundary(5, obs_rf[0])"
   ]
  },
  {
   "cell_type": "code",
   "execution_count": null,
   "id": "d897d2a2",
   "metadata": {},
   "outputs": [],
   "source": [
    "space = []\n",
    "for obs_idx,obs in enumerate(config['env']['observation_map']):\n",
    "    obs_space = []\n",
    "    for idx in range(obs['bins'] - 1):\n",
    "        boundary, _, _ = find_boundary(idx, obs_rf[obs_idx])\n",
    "        obs_space.append(boundary)\n",
    "    space.append(obs_space)"
   ]
  },
  {
   "cell_type": "code",
   "execution_count": null,
   "id": "072d402e",
   "metadata": {},
   "outputs": [],
   "source": [
    "sp = np.array(space)\n",
    "\n",
    "import pickle as pkl\n",
    "\n",
    "with open('obs_space.pkl', 'wb') as out:\n",
    "    pkl.dump(sp, out)"
   ]
  },
  {
   "cell_type": "code",
   "execution_count": null,
   "id": "97cdab4e",
   "metadata": {},
   "outputs": [],
   "source": [
    "sp[:, 9:12]"
   ]
  },
  {
   "cell_type": "code",
   "execution_count": null,
   "id": "51dd3c25",
   "metadata": {},
   "outputs": [],
   "source": []
  },
  {
   "cell_type": "code",
   "execution_count": null,
   "id": "84b67477",
   "metadata": {},
   "outputs": [],
   "source": [
    "import numpy as np\n",
    "import matplotlib.pyplot as plt\n",
    "\n",
    "obs_names = ['Position', 'Velocity', 'Angle', 'Angular Velocity']\n",
    "colors = ['b', 'g', 'r', 'y']\n",
    "\n",
    "_,axs = plt.subplots(nrows=2, ncols=2, figsize=(12,10))\n",
    "\n",
    "for idx1,axr in enumerate(axs):\n",
    "    for idx2,ax in enumerate(axr):\n",
    "        idx = idx1*len(axr) + idx2\n",
    "        intervals = []\n",
    "        d = space[idx][1] - space[idx][0]\n",
    "        intervals.append([space[idx][0] - 1.75 * d, space[idx][0]])\n",
    "        for si in range(len(space[idx])-1):\n",
    "            intervals.append([space[idx][si], space[idx][si+1]])\n",
    "        si = len(space[idx])-1\n",
    "        d = space[idx][si] - space[idx][si-1]\n",
    "        intervals.append([space[idx][si], space[idx][si] + 1.75 * d])\n",
    "\n",
    "\n",
    "        x = np.arange(1, len(intervals)+1)\n",
    "        height = [i2-i1 for i1, i2 in intervals]\n",
    "        bottom = [i1 for i1, i2 in intervals]\n",
    "\n",
    "        ax.bar(x,height, bottom=bottom, color=colors[idx])\n",
    "        ax.set_ylim([min(intervals)[0], max(intervals)[1]])\n",
    "        ax.set_xticks(x)\n",
    "        ax.set_xlabel('Neuron ID')\n",
    "        ax.set_ylabel('Receptive Field')\n",
    "        ax.legend([obs_names[idx]])\n",
    "\n",
    "        ax.grid(alpha=0.4)\n",
    "        \n",
    "plt.suptitle('Receptive Fields of Neurons ES population')\n",
    "plt.tight_layout()\n",
    "plt.show()"
   ]
  },
  {
   "cell_type": "code",
   "execution_count": null,
   "id": "a12d714e",
   "metadata": {},
   "outputs": [],
   "source": [
    "\n"
   ]
  },
  {
   "cell_type": "code",
   "execution_count": null,
   "id": "fd361e32",
   "metadata": {},
   "outputs": [],
   "source": [
    "\n"
   ]
  },
  {
   "cell_type": "code",
   "execution_count": null,
   "id": "70323e04",
   "metadata": {},
   "outputs": [],
   "source": []
  },
  {
   "cell_type": "code",
   "execution_count": null,
   "id": "cdad753a",
   "metadata": {},
   "outputs": [],
   "source": [
    "obs_rf[0](-0.47654547839024697).index(1.0)"
   ]
  },
  {
   "cell_type": "code",
   "execution_count": null,
   "id": "a91a4e31",
   "metadata": {},
   "outputs": [],
   "source": [
    "obs_rf[0](-0.3239503162583135).index(1.0)"
   ]
  },
  {
   "cell_type": "code",
   "execution_count": null,
   "id": "c20ae811",
   "metadata": {},
   "outputs": [],
   "source": []
  },
  {
   "cell_type": "code",
   "execution_count": null,
   "id": "b935555f",
   "metadata": {},
   "outputs": [],
   "source": []
  },
  {
   "cell_type": "code",
   "execution_count": null,
   "id": "259d1d90",
   "metadata": {},
   "outputs": [],
   "source": []
  },
  {
   "cell_type": "code",
   "execution_count": null,
   "id": "dec4f1bb",
   "metadata": {},
   "outputs": [],
   "source": []
  },
  {
   "cell_type": "code",
   "execution_count": null,
   "id": "16d963fc",
   "metadata": {},
   "outputs": [],
   "source": [
    "import os\n",
    "import csv\n",
    "import numpy as np\n",
    "\n",
    "wdirs = '../results/hpsearch-2021-09-01/'\n",
    "config_file = '../config.json'\n",
    "\n",
    "run_dirs = [os.path.join(wdirs, d) for d in os.listdir(wdirs) if d.startswith('run_')]"
   ]
  },
  {
   "cell_type": "code",
   "execution_count": null,
   "id": "f4e3e69f",
   "metadata": {},
   "outputs": [],
   "source": [
    "from neurosim.game_interface import GameInterface\n",
    "import gym\n",
    "import json\n",
    "\n",
    "class MockAIGame:\n",
    "    observations = []\n",
    "    rewards = []\n",
    "    env = None\n",
    "    def __init__(self, env):\n",
    "        self.env = env\n",
    "\n",
    "with open(config_file) as f:\n",
    "    config = json.load(f)\n",
    "\n",
    "env = gym.make('CartPole-v1')\n",
    "game = MockAIGame(env)\n",
    "gi = GameInterface(game, config)"
   ]
  },
  {
   "cell_type": "code",
   "execution_count": null,
   "id": "f8aec0bd",
   "metadata": {},
   "outputs": [],
   "source": [
    "import math\n",
    "BASE = 20 # The number of neurons\n",
    "OBS_CNT = 4\n",
    "CNST_SUM = np.array([i*BASE for i in range(OBS_CNT)])\n",
    "CNST_PROD = np.array([BASE**i for i in range(OBS_CNT)])\n",
    "\n",
    "def obsfrind_to_obscode(obsfrind):\n",
    "    assert sum([o >= BASE for o in obsfrind]) == 0\n",
    "    return np.sum(obsfrind * CNST_PROD)\n",
    "\n",
    "def obscode_to_obsfrind(obscode):\n",
    "    arr = []\n",
    "    curr = obscode\n",
    "    for i in range(OBS_CNT):\n",
    "        arr.append(curr % BASE)\n",
    "        curr = math.floor(curr / BASE)\n",
    "    return np.array(arr)\n",
    "\n",
    "\n",
    "obs_test = [\n",
    "    np.array([10, 13, 8, 7]),\n",
    "    np.array([19, 19, 19, 19]),\n",
    "    np.array([0, 0, 0, 0]),\n",
    "    np.array([0, 1, 2, 3])]\n",
    "for o in obs_test:\n",
    "    assert np.sum(obscode_to_obsfrind(obsfrind_to_obscode(o)) == o) == 4\n",
    "    \n",
    "MAX_OBS = obsfrind_to_obscode(np.array([19, 19, 19, 19])) + 1\n",
    "print('MAX_OBS', MAX_OBS)"
   ]
  },
  {
   "cell_type": "code",
   "execution_count": null,
   "id": "be02520a",
   "metadata": {},
   "outputs": [],
   "source": [
    "SPACE = {}"
   ]
  },
  {
   "cell_type": "code",
   "execution_count": null,
   "id": "f1627b6c",
   "metadata": {},
   "outputs": [],
   "source": [
    "run_dirs = ['../results/hpsearch-2021-09-06/best/1_run_168/evaluation_8/']"
   ]
  },
  {
   "cell_type": "code",
   "execution_count": null,
   "id": "88a3c998",
   "metadata": {},
   "outputs": [],
   "source": [
    "import json\n",
    "\n",
    "for run_dir in run_dirs:\n",
    "    # Read\n",
    "    actionsPerEps = []\n",
    "    with open(os.path.join(run_dir, 'ActionsPerEpisode.txt')) as f:\n",
    "        for row in csv.reader(f, delimiter='\\t'):\n",
    "            actionsPerEps.append(int(float(row[1])))\n",
    "    print(run_dir, 'actionsPerEps', len(actionsPerEps))\n",
    "\n",
    "    actions = []\n",
    "    with open(os.path.join(run_dir, 'ActionsRewards.txt')) as f:\n",
    "        for row in csv.reader(f, delimiter='\\t'):\n",
    "            move = int(float(row[1]))\n",
    "            obs = json.loads(row[-1])\n",
    "            actions.append((move, obs))\n",
    "    print(run_dir, 'actions', len(actions))\n",
    "\n",
    "    # Process\n",
    "\n",
    "    curr_step = 0\n",
    "    for eps in actionsPerEps:\n",
    "        first_step = 1 if curr_step == 0 else 0\n",
    "        acts = actions[curr_step:curr_step+eps-first_step]\n",
    "        codes = []\n",
    "        for _,obs in acts:\n",
    "            game.observations = [obs]\n",
    "            fr = gi.input_firing_rates()\n",
    "            frind = (fr > 0).nonzero()[0] - CNST_SUM\n",
    "            codes.append(obsfrind_to_obscode(frind))\n",
    "\n",
    "        for idx,((move,_), code) in enumerate(zip(acts,codes)):\n",
    "            next_code = codes[idx+1] if idx + 1 < len(codes) else MAX_OBS\n",
    "            if code not in SPACE:\n",
    "                SPACE[code] = {}\n",
    "            if move not in SPACE[code]:\n",
    "                SPACE[code][move] = {}\n",
    "            if next_code not in SPACE[code][move]:\n",
    "                SPACE[code][move][next_code] = 0\n",
    "            SPACE[code][move][next_code] += 1\n",
    "        curr_step += eps-first_step\n",
    "        \n",
    "    print('SPACE size', len(SPACE))"
   ]
  },
  {
   "cell_type": "code",
   "execution_count": null,
   "id": "5ce5c3a6",
   "metadata": {},
   "outputs": [],
   "source": []
  },
  {
   "cell_type": "code",
   "execution_count": null,
   "id": "206b8b60",
   "metadata": {},
   "outputs": [],
   "source": []
  },
  {
   "cell_type": "code",
   "execution_count": null,
   "id": "addc83bc",
   "metadata": {},
   "outputs": [],
   "source": [
    "cnt_two_moves = 0\n",
    "cnt_one_move = 0\n",
    "for k,v in SPACE.items():\n",
    "    if len(v) > 1:\n",
    "        cnt_two_moves += 1\n",
    "    else:\n",
    "        cnt_one_move += 1\n",
    "        \n",
    "print('cnt_one_move', cnt_one_move)\n",
    "print('cnt_two_moves', cnt_two_moves)"
   ]
  },
  {
   "cell_type": "code",
   "execution_count": null,
   "id": "f710bd79",
   "metadata": {},
   "outputs": [],
   "source": []
  },
  {
   "cell_type": "code",
   "execution_count": null,
   "id": "abf88d86",
   "metadata": {},
   "outputs": [],
   "source": [
    "def investigate(code, _space=SPACE):\n",
    "    print(code, obscode_to_obsfrind(code))\n",
    "    for move, outputs in sorted(list(_space[code].items()), key=lambda x:x[0]):\n",
    "        tot = sum(outputs.values())\n",
    "        print('move', move)\n",
    "        for next_code, cnt in sorted(list(outputs.items()), key=lambda x:x[1], reverse=True):\n",
    "            print('  {}, {}: {:.4f}'.format(next_code,  obscode_to_obsfrind(next_code), cnt / tot))\n",
    "        \n",
    "        \n",
    "investigate(0)"
   ]
  },
  {
   "cell_type": "code",
   "execution_count": null,
   "id": "759c494b",
   "metadata": {},
   "outputs": [],
   "source": [
    "obsfrind_to_obscode(obscode_to_obsfrind(20))"
   ]
  },
  {
   "cell_type": "code",
   "execution_count": null,
   "id": "0a63b03e",
   "metadata": {},
   "outputs": [],
   "source": [
    "from tqdm import tqdm\n",
    "\n",
    "SPACE_X = {}\n",
    "SPACE_ANG = {}\n",
    "\n",
    "def decode(space_map, code_map, obs, i1, i2):\n",
    "    pre_code = obsfrind_to_obscode(np.array(list(obs[i1:i2]) + [0, 0]))\n",
    "    if pre_code not in space_map:\n",
    "        space_map[pre_code] = {}\n",
    "    for move, res_map in code_map.items():\n",
    "        if move not in space_map[pre_code]:\n",
    "            space_map[pre_code][move] = {}\n",
    "        for next_code, cnt in res_map.items():\n",
    "            next_obs = obscode_to_obsfrind(next_code)\n",
    "            post_code = obsfrind_to_obscode(np.array(list(next_obs[i1:i2]) + [0, 0]))\n",
    "            if post_code not in space_map[pre_code][move]:\n",
    "                space_map[pre_code][move][post_code] = 0\n",
    "            space_map[pre_code][move][post_code] += cnt\n",
    "\n",
    "for code, code_map in tqdm(SPACE.items()):\n",
    "    obs = obscode_to_obsfrind(code)\n",
    "    decode(SPACE_X, code_map, obs, 0, 2)\n",
    "    decode(SPACE_ANG, code_map, obs, 2, 4)"
   ]
  },
  {
   "cell_type": "code",
   "execution_count": null,
   "id": "000169d7",
   "metadata": {},
   "outputs": [],
   "source": [
    "SPACE_X"
   ]
  },
  {
   "cell_type": "code",
   "execution_count": null,
   "id": "59c04bb7",
   "metadata": {},
   "outputs": [],
   "source": [
    "investigate(210, SPACE_X)"
   ]
  },
  {
   "cell_type": "code",
   "execution_count": null,
   "id": "f5878b71",
   "metadata": {},
   "outputs": [],
   "source": [
    "investigate(210, SPACE_ANG)"
   ]
  },
  {
   "cell_type": "code",
   "execution_count": null,
   "id": "4f152bd6",
   "metadata": {},
   "outputs": [],
   "source": [
    "investigate(210 + 175 * 400)"
   ]
  },
  {
   "cell_type": "code",
   "execution_count": null,
   "id": "79592306",
   "metadata": {},
   "outputs": [],
   "source": []
  }
 ],
 "metadata": {
  "kernelspec": {
   "display_name": "Python 3",
   "language": "python",
   "name": "python3"
  },
  "language_info": {
   "codemirror_mode": {
    "name": "ipython",
    "version": 3
   },
   "file_extension": ".py",
   "mimetype": "text/x-python",
   "name": "python",
   "nbconvert_exporter": "python",
   "pygments_lexer": "ipython3",
   "version": "3.7.9"
  }
 },
 "nbformat": 4,
 "nbformat_minor": 5
}
