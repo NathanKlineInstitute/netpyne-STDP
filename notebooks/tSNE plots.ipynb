{
 "cells": [
  {
   "cell_type": "code",
   "execution_count": null,
   "id": "b8283ae2",
   "metadata": {
    "scrolled": true
   },
   "outputs": [],
   "source": [
    "import os\n",
    "import pickle as pkl\n",
    "import csv\n",
    "import math\n",
    "import pandas as pd\n",
    "import numpy as np\n",
    "\n",
    "from kmapper import KeplerMapper, Cover\n",
    "from sklearn.manifold import TSNE\n",
    "from sklearn.cluster import DBSCAN\n",
    "\n",
    "WDIRS = ['/Users/danielhasegan/workspace/netpyne-project/results/20210907-ES1500it/evaluation_0/',\n",
    "    '/Users/danielhasegan/workspace/netpyne-project/results/20210907-ES1500it/evaluation_15/',\n",
    "    '/Users/danielhasegan/workspace/netpyne-project/results/hpsearch-2021-09-06/best/1_run_168/evaluation_8/',]\n",
    "\n",
    "NAMES = ['INIT', 'EVOL', 'STDP']\n",
    "\n",
    "\n",
    "# wdir= '/Users/danielhasegan/workspace/netpyne-project/results/20210907-ES1500it/evaluation_0/'\n",
    "# wdir= '/Users/danielhasegan/workspace/netpyne-project/results/20210907-ES1500it/evaluation_15/'\n",
    "# wdir= '/Users/danielhasegan/workspace/netpyne-project/results/hpsearch-2021-09-06/best/1_run_168/evaluation_8/'\n",
    "\n",
    "LENSES = []\n",
    "\n",
    "\n",
    "resolution = 49.8 / 4\n",
    "offset = 49.8 * 3\n",
    "N = 10000 # total_length // 5\n",
    "\n",
    "for wdir in WDIRS:\n",
    "    print(wdir)\n",
    "\n",
    "    sim_path = os.path.join(wdir, 'sim.pkl')\n",
    "\n",
    "    with open(sim_path, 'rb') as f:\n",
    "        sim = pkl.load(f)\n",
    "\n",
    "    total_length = math.ceil((sim['simData']['spkt'][-1] - offset) / resolution)\n",
    "    num_gids = int(max(sim['simData']['spkid']) + 1)\n",
    "#     N = 10000 # total_length // 5\n",
    "    M = num_gids\n",
    "\n",
    "    X = np.zeros((N, M), dtype=np.short)\n",
    "\n",
    "    for spkt, spkid in zip(sim['simData']['spkt'], sim['simData']['spkid']):\n",
    "        if spkt < offset:\n",
    "            continue\n",
    "\n",
    "        t = math.floor((spkt - offset) / resolution)\n",
    "        if t >= N:\n",
    "            continue\n",
    "        X[t][int(spkid)] = 1\n",
    "\n",
    "    # Generate shape graph using KeplerMapper\n",
    "    mapper = KeplerMapper(verbose=1)\n",
    "    lens = mapper.fit_transform(X, projection=TSNE(2, perplexity=50, random_state=1))\n",
    "\n",
    "    LENSES.append(lens)"
   ]
  },
  {
   "cell_type": "code",
   "execution_count": null,
   "id": "d6b66472",
   "metadata": {},
   "outputs": [],
   "source": [
    "MOT_OUTS = []\n",
    "\n",
    "\n",
    "for wdir in WDIRS:\n",
    "    mot_path = os.path.join(wdir, 'MotorOutputs.txt')\n",
    "    \n",
    "    with open(mot_path) as f:\n",
    "        mot_rews = [line for line in csv.reader(f, delimiter='\\t')]\n",
    "\n",
    "    y = np.zeros(N, dtype=np.short)\n",
    "\n",
    "    for idx, row in enumerate(mot_rews):\n",
    "        if float(row[0]) < offset:\n",
    "            continue\n",
    "        tstart = math.floor((float(row[0]) - offset) / resolution)\n",
    "\n",
    "        if idx < len(mot_rews) - 1:\n",
    "            tnext = math.floor((float(mot_rews[idx+1][0]) - offset) / resolution)\n",
    "        else:\n",
    "            tnext = N\n",
    "\n",
    "        lmove, rmove = float(row[1]), float(row[2])\n",
    "        move = 1 if lmove == rmove else (2 if lmove > rmove else 3)\n",
    "\n",
    "        for t in range(tstart, tnext):\n",
    "            if t >= N:\n",
    "                continue\n",
    "            y[t] = move\n",
    "            \n",
    "    MOT_OUTS.append(y)"
   ]
  },
  {
   "cell_type": "code",
   "execution_count": null,
   "id": "9d1f858f",
   "metadata": {
    "scrolled": false
   },
   "outputs": [],
   "source": [
    "import matplotlib.pyplot as plt\n",
    "\n",
    "\n",
    "for wdir, name, lens, y in zip(WDIRS, NAMES, LENSES, MOT_OUTS):\n",
    "    print(name)\n",
    "\n",
    "    S = 5\n",
    "    plt.figure(figsize=(5,5))\n",
    "\n",
    "    L = []\n",
    "\n",
    "    for i in [2,3,1]:\n",
    "        plt.scatter(lens[y == i][:,0], lens[y == i][:,1], 5, alpha=0.4)\n",
    "        L.append(['stay', 'left', 'right'][i-1])\n",
    "\n",
    "    plt.title('t-SNE on {} activations'.format(name))\n",
    "    plt.tight_layout()\n",
    "\n",
    "    plt.legend(L)\n",
    "    plt.xticks([])\n",
    "    plt.yticks([])\n",
    "    plt.savefig('tSNE-{}.png'.format(name.lower()), dpi=300)"
   ]
  },
  {
   "cell_type": "code",
   "execution_count": null,
   "id": "27e9ba42",
   "metadata": {},
   "outputs": [],
   "source": []
  },
  {
   "cell_type": "markdown",
   "id": "fb40d7ba",
   "metadata": {},
   "source": [
    "## Below is deprecated"
   ]
  },
  {
   "cell_type": "code",
   "execution_count": null,
   "id": "70297702",
   "metadata": {},
   "outputs": [],
   "source": [
    "import matplotlib\n",
    "matplotlib.rcParams['font.family']\n"
   ]
  },
  {
   "cell_type": "code",
   "execution_count": null,
   "id": "afea9942",
   "metadata": {},
   "outputs": [],
   "source": []
  },
  {
   "cell_type": "code",
   "execution_count": null,
   "id": "6afed61d",
   "metadata": {},
   "outputs": [],
   "source": [
    "ACTS_EPS = []\n",
    "\n",
    "# EPS_INTERVALS = [\n",
    "#     [0, 20],\n",
    "#     [20, 30],\n",
    "#     [30, 40],\n",
    "#     [40, 60],\n",
    "#     [60, 100],\n",
    "#     [100, 150],\n",
    "#     [150, 200],\n",
    "#     [200, 300],\n",
    "#     [300, 501]]\n",
    "\n",
    "EPS_INTERVALS = [\n",
    "    [0, 50],\n",
    "    [50, 100],\n",
    "    [100, 200],\n",
    "    [200, 501]]\n",
    "\n",
    "\n",
    "for wdir in WDIRS:\n",
    "    acts_path = os.path.join(wdir, 'ActionsPerEpisode.txt')\n",
    "    \n",
    "    with open(acts_path) as f:\n",
    "        acts = [int(float(line[1])) for line in csv.reader(f, delimiter='\\t')]\n",
    "\n",
    "    y = np.zeros(N, dtype=np.short)\n",
    "    \n",
    "    current_eps = 0\n",
    "    for idx, eps in enumerate(acts):\n",
    "        interval_idx = [i for i,(s,e) in enumerate(EPS_INTERVALS) if s <= eps and eps < e][0]\n",
    "        \n",
    "        tstart = current_eps\n",
    "        tend = tstart + eps  + (-3 if idx == 0 else 0)\n",
    "\n",
    "        for t in range(tstart, tnext):\n",
    "            if t >= N:\n",
    "                continue\n",
    "            y[t] = interval_idx\n",
    "            \n",
    "        current_eps = tend\n",
    "            \n",
    "    ACTS_EPS.append(y)"
   ]
  },
  {
   "cell_type": "code",
   "execution_count": null,
   "id": "b06b5d74",
   "metadata": {
    "scrolled": false
   },
   "outputs": [],
   "source": [
    "for wdir, name, lens, y in zip(WDIRS, NAMES, LENSES, ACTS_EPS):\n",
    "    print(name)\n",
    "\n",
    "    plt.figure(figsize=(10,10))\n",
    "\n",
    "    L = []\n",
    "\n",
    "    for i,(s,e) in enumerate(EPS_INTERVALS):\n",
    "        plt.scatter(lens[y == i][:,0], lens[y == i][:,1], 5, alpha=0.7)\n",
    "        L.append('Acts per Eps in [{},{})'.format(s,e))\n",
    "\n",
    "    plt.title('t-SNE on {} activations'.format(name))\n",
    "    plt.tight_layout()\n",
    "\n",
    "    plt.legend(L)\n",
    "    plt.xticks([])\n",
    "    plt.yticks([])\n",
    "    plt.savefig('tSNE_actseps-{}.png'.format(name.lower()), dpi=300)"
   ]
  },
  {
   "cell_type": "code",
   "execution_count": null,
   "id": "645691df",
   "metadata": {},
   "outputs": [],
   "source": []
  },
  {
   "cell_type": "code",
   "execution_count": null,
   "id": "135755bd",
   "metadata": {},
   "outputs": [],
   "source": []
  },
  {
   "cell_type": "code",
   "execution_count": null,
   "id": "62226fb6",
   "metadata": {},
   "outputs": [],
   "source": []
  },
  {
   "cell_type": "code",
   "execution_count": null,
   "id": "2042f5a5",
   "metadata": {},
   "outputs": [],
   "source": [
    "import matplotlib.pyplot as plt\n",
    "\n",
    "d = np.sum((lens[1:] - lens[:-1]) ** 2, axis=1)\n",
    "\n",
    "plt.hist(d)"
   ]
  },
  {
   "cell_type": "code",
   "execution_count": null,
   "id": "16c3c5e8",
   "metadata": {},
   "outputs": [],
   "source": []
  },
  {
   "cell_type": "code",
   "execution_count": null,
   "id": "89c6f2fd",
   "metadata": {},
   "outputs": [],
   "source": [
    "graph = mapper.map(lens, X, cover=Cover(10, 0.8), clusterer=DBSCAN(eps=10.0))"
   ]
  },
  {
   "cell_type": "code",
   "execution_count": null,
   "id": "53631135",
   "metadata": {},
   "outputs": [],
   "source": [
    "from dyneusr import DyNeuGraph\n",
    "\n",
    "# Visualize the shape graph using DyNeuSR's DyNeuGraph                          \n",
    "dG = DyNeuGraph(G=graph, y=y)\n",
    "dG.visualize('dyneusr_stdp_p50.html')\n"
   ]
  },
  {
   "cell_type": "code",
   "execution_count": null,
   "id": "bb491ea8",
   "metadata": {},
   "outputs": [],
   "source": []
  },
  {
   "cell_type": "code",
   "execution_count": null,
   "id": "c72eae3a",
   "metadata": {},
   "outputs": [],
   "source": [
    "from dyneusr.tools import visualize_mapper_stages\n",
    "\n",
    "fig, axes = visualize_mapper_stages(\n",
    "    X, y=y, lens=lens, graph=graph, cover=mapper.cover,\n",
    "    node_size=20, edge_size=0.5, edge_color='gray',\n",
    "    layout=\"kamada_kawai\",  figsize=(16, 4)\n",
    "    )\n",
    "\n",
    "plt.savefig('tSNE-stdp.png', dpi=300)\n",
    "plt.show()"
   ]
  },
  {
   "cell_type": "code",
   "execution_count": null,
   "id": "482dd8c4",
   "metadata": {},
   "outputs": [],
   "source": [
    "lens[y == 1][:,0]"
   ]
  }
 ],
 "metadata": {
  "kernelspec": {
   "display_name": "Python 3",
   "language": "python",
   "name": "python3"
  },
  "language_info": {
   "codemirror_mode": {
    "name": "ipython",
    "version": 3
   },
   "file_extension": ".py",
   "mimetype": "text/x-python",
   "name": "python",
   "nbconvert_exporter": "python",
   "pygments_lexer": "ipython3",
   "version": "3.7.9"
  }
 },
 "nbformat": 4,
 "nbformat_minor": 5
}
