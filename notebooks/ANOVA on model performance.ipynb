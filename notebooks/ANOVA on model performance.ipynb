{
 "cells": [
  {
   "cell_type": "code",
   "execution_count": 31,
   "id": "d5f8210c",
   "metadata": {},
   "outputs": [],
   "source": [
    "import os\n",
    "import csv\n",
    "\n",
    "m0=\"results/random_cartpole_ActionsPerEpisode.txt\"\n",
    "m1=\"results/seedrun_m1-2022-01-16/run_seed1394398/evaluation_0\"\n",
    "m2=\"results/seedrun_m1-2022-01-16/run_seed1394398/continue_1/continue_1/continue_2/continue_2/continue_2/evaluation_1\"\n",
    "m3=\"results/seedrun_m1-2022-01-16/run_seed5397326/evaluation_0\"\n",
    "m4=\"results/seedrun_m1-2022-01-16/run_seed5397326/continue_1/continue_1/continue_2/continue_2/continue_2/evaluation_50\"\n",
    "\n",
    "perfs = {}\n",
    "for mfile,mname in zip([m0, m1, m2, m3, m4], ['rand', 's6b', 's6a', 's3b', 's3a']):\n",
    "    perfs[mname] = []\n",
    "    fullpath = os.path.join('../', mfile, 'ActionsPerEpisode.txt')\n",
    "    if mfile.endswith('_ActionsPerEpisode.txt'):\n",
    "        fullpath = os.path.join('../', mfile)\n",
    "    with open(fullpath) as f:\n",
    "        for row in csv.reader(f, delimiter='\\t'):\n",
    "#             print(float(row[1]))\n",
    "            perfs[mname].append(float(row[1]))"
   ]
  },
  {
   "cell_type": "code",
   "execution_count": 32,
   "id": "80cbc09e",
   "metadata": {},
   "outputs": [
    {
     "data": {
      "text/plain": [
       "['rand', 's6b', 's6a', 's3b', 's3a']"
      ]
     },
     "execution_count": 32,
     "metadata": {},
     "output_type": "execute_result"
    }
   ],
   "source": [
    "list(perfs.keys())"
   ]
  },
  {
   "cell_type": "code",
   "execution_count": 33,
   "id": "3e1279aa",
   "metadata": {},
   "outputs": [
    {
     "name": "stdout",
     "output_type": "stream",
     "text": [
      "p-value:  0.10058199487772984\n",
      "maxvar/minvar=  1.4909730423815382\n"
     ]
    }
   ],
   "source": [
    "from scipy import stats\n",
    "import numpy as np\n",
    "\n",
    "list(perfs.values())\n",
    "\n",
    "comparisons = ['rand', 's6b', 's3b']\n",
    "# s6 before and after\n",
    "F, p = stats.f_oneway(*[perfs[c] for c in comparisons])\n",
    "print('p-value: ', p)\n",
    "stds = [np.std(perfs[c]) for c in comparisons]\n",
    "print('maxvar/minvar= ', max(stds) / min(stds))"
   ]
  },
  {
   "cell_type": "code",
   "execution_count": 34,
   "id": "b3bc3035",
   "metadata": {},
   "outputs": [
    {
     "name": "stdout",
     "output_type": "stream",
     "text": [
      "p-value:  7.132563987191665e-33\n",
      "maxvar/minvar=  6.848726626604206\n"
     ]
    }
   ],
   "source": [
    "comparisons = ['s6b', 's6a']\n",
    "# s6 before and after\n",
    "F, p = stats.f_oneway(*[perfs[c] for c in comparisons])\n",
    "print('p-value: ', p)\n",
    "stds = [np.std(perfs[c]) for c in comparisons]\n",
    "print('maxvar/minvar= ', max(stds) / min(stds))"
   ]
  },
  {
   "cell_type": "code",
   "execution_count": 64,
   "id": "a195ce7b",
   "metadata": {},
   "outputs": [
    {
     "name": "stdout",
     "output_type": "stream",
     "text": [
      "p-value:  1.033312269957866e-18\n",
      "maxvar/minvar=  2.9763152442513845\n"
     ]
    }
   ],
   "source": [
    "comparisons = ['s3b', 's3a']\n",
    "# s6 before and after\n",
    "F, p = stats.f_oneway(*[perfs[c] for c in comparisons])\n",
    "print('p-value: ', p)\n",
    "stds = [np.std(perfs[c]) for c in comparisons]\n",
    "print('maxvar/minvar= ', max(stds) / min(stds))"
   ]
  },
  {
   "cell_type": "code",
   "execution_count": 60,
   "id": "bf6933ad",
   "metadata": {
    "scrolled": false
   },
   "outputs": [],
   "source": [
    "log_perfs = {key: [np.log2(v) for v in vals] for key,vals in perfs.items()}"
   ]
  },
  {
   "cell_type": "code",
   "execution_count": 58,
   "id": "414c7cea",
   "metadata": {},
   "outputs": [
    {
     "data": {
      "text/plain": [
       "<matplotlib.axes._subplots.AxesSubplot at 0x1235dfa50>"
      ]
     },
     "execution_count": 58,
     "metadata": {},
     "output_type": "execute_result"
    },
    {
     "data": {
      "image/png": "[encoded data removed]",
      "text/plain": [
       "<Figure size 432x288 with 1 Axes>"
      ]
     },
     "metadata": {
      "needs_background": "light"
     },
     "output_type": "display_data"
    }
   ],
   "source": [
    "import seaborn as sns\n",
    "\n",
    "kkeys = list(log_perfs.keys())\n",
    "sns.boxplot(data=[log_perfs[k] for k in kkeys])"
   ]
  },
  {
   "cell_type": "code",
   "execution_count": 92,
   "id": "76e0e035",
   "metadata": {},
   "outputs": [
    {
     "data": {
      "image/png": "[encoded data removed]",
      "text/plain": [
       "<Figure size 432x288 with 1 Axes>"
      ]
     },
     "metadata": {
      "needs_background": "light"
     },
     "output_type": "display_data"
    }
   ],
   "source": [
    "import matplotlib.pyplot as plt\n",
    "\n",
    "kkeys = list(log_perfs.keys())\n",
    "ax = sns.boxplot(data=[log_perfs[k] for k in kkeys])\n",
    "\n",
    "x1, x2 = 1, 2\n",
    "maxval = max(max(log_perfs[kkeys[x1]]), max(log_perfs[kkeys[x2]]))\n",
    "y, h, col = maxval * 1.05, maxval*0.03, 'k'\n",
    "ax.plot([x1, x1, x2, x2], [y, y+h, y+h, y], lw=1.5, c=col)\n",
    "ax.text((x1+x2)*.5, y+h*1.3, '***', ha='center', va='bottom', color=col)\n",
    "ylim = ax.get_ylim()\n",
    "ax.set_ylim([ylim[0], ylim[1] * 1.05])\n",
    "\n",
    "plt.show()"
   ]
  },
  {
   "cell_type": "code",
   "execution_count": 89,
   "id": "8fcea180",
   "metadata": {},
   "outputs": [
    {
     "data": {
      "text/plain": [
       "10.973216290032482"
      ]
     },
     "execution_count": 89,
     "metadata": {},
     "output_type": "execute_result"
    }
   ],
   "source": []
  },
  {
   "cell_type": "code",
   "execution_count": 73,
   "id": "8dae7d26",
   "metadata": {},
   "outputs": [
    {
     "data": {
      "text/plain": [
       "6.108524456778169"
      ]
     },
     "execution_count": 73,
     "metadata": {},
     "output_type": "execute_result"
    }
   ],
   "source": [
    "maxval"
   ]
  },
  {
   "cell_type": "code",
   "execution_count": null,
   "id": "66f10900",
   "metadata": {},
   "outputs": [],
   "source": []
  },
  {
   "cell_type": "code",
   "execution_count": 63,
   "id": "97f98827",
   "metadata": {},
   "outputs": [
    {
     "name": "stdout",
     "output_type": "stream",
     "text": [
      "p-value:  1.8673991362619493e-56\n",
      "maxvar/minvar=  1.3436535361541737\n"
     ]
    }
   ],
   "source": [
    "comparisons = ['s6b', 's6a']\n",
    "# s6 before and after\n",
    "F, p = stats.f_oneway(*[log_perfs[c] for c in comparisons])\n",
    "print('p-value: ', p)\n",
    "stds = [np.std(log_perfs[c]) for c in comparisons]\n",
    "print('maxvar/minvar= ', max(stds) / min(stds))"
   ]
  },
  {
   "cell_type": "code",
   "execution_count": 65,
   "id": "70fce858",
   "metadata": {},
   "outputs": [
    {
     "name": "stdout",
     "output_type": "stream",
     "text": [
      "p-value:  8.57290642449473e-26\n",
      "maxvar/minvar=  1.265061823890177\n"
     ]
    }
   ],
   "source": [
    "comparisons = ['s3b', 's3a']\n",
    "# s6 before and after\n",
    "F, p = stats.f_oneway(*[log_perfs[c] for c in comparisons])\n",
    "print('p-value: ', p)\n",
    "stds = [np.std(log_perfs[c]) for c in comparisons]\n",
    "print('maxvar/minvar= ', max(stds) / min(stds))"
   ]
  },
  {
   "cell_type": "code",
   "execution_count": null,
   "id": "93505d16",
   "metadata": {},
   "outputs": [],
   "source": []
  }
 ],
 "metadata": {
  "kernelspec": {
   "display_name": "Python 3",
   "language": "python",
   "name": "python3"
  },
  "language_info": {
   "codemirror_mode": {
    "name": "ipython",
    "version": 3
   },
   "file_extension": ".py",
   "mimetype": "text/x-python",
   "name": "python",
   "nbconvert_exporter": "python",
   "pygments_lexer": "ipython3",
   "version": "3.7.9"
  }
 },
 "nbformat": 4,
 "nbformat_minor": 5
}
