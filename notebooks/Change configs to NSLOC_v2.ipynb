{
 "cells": [
  {
   "cell_type": "code",
   "execution_count": 13,
   "id": "6882ba7b",
   "metadata": {},
   "outputs": [],
   "source": [
    "import os\n",
    "import json\n",
    "\n",
    "def change_configs(wdir):\n",
    "    for fname in os.listdir(wdir):\n",
    "        new_path = os.path.join(wdir, fname)\n",
    "        if fname in ['init_config.json', 'backupcfg_sim.json']:\n",
    "            j = None\n",
    "            with open(new_path) as f:\n",
    "                j = json.load(f)\n",
    "            j['net']['nsloc_version'] = 'NSLOC_V2'\n",
    "            print(new_path, j['net']['nsloc_version'])\n",
    "            with open(new_path, 'w') as out:\n",
    "                out.write(json.dumps(j, indent=4) + '\\n')\n",
    "        elif os.path.isdir(new_path):\n",
    "            change_configs(new_path)\n",
    "            \n"
   ]
  },
  {
   "cell_type": "code",
   "execution_count": 15,
   "id": "5dd3acb6",
   "metadata": {},
   "outputs": [
    {
     "name": "stdout",
     "output_type": "stream",
     "text": [
      "../results/hpsearch-2021-09-20/run_5262/backupcfg_sim.json NSLOC_V2\n",
      "../results/hpsearch-2021-09-20/run_309/backupcfg_sim.json NSLOC_V2\n",
      "../results/hpsearch-2021-09-20/run_4177/backupcfg_sim.json NSLOC_V2\n",
      "../results/hpsearch-2021-09-20/run_5461/backupcfg_sim.json NSLOC_V2\n",
      "../results/hpsearch-2021-09-20/run_1570/backupcfg_sim.json NSLOC_V2\n",
      "../results/hpsearch-2021-09-20/run_5125/backupcfg_sim.json NSLOC_V2\n",
      "../results/hpsearch-2021-09-20/run_1759/backupcfg_sim.json NSLOC_V2\n",
      "../results/hpsearch-2021-09-20/run_6323/backupcfg_sim.json NSLOC_V2\n",
      "../results/hpsearch-2021-09-20/run_3491/backupcfg_sim.json NSLOC_V2\n",
      "../results/hpsearch-2021-09-20/run_6694/backupcfg_sim.json NSLOC_V2\n",
      "../results/hpsearch-2021-09-20/run_3782/backupcfg_sim.json NSLOC_V2\n",
      "../results/hpsearch-2021-09-20/run_4750/backupcfg_sim.json NSLOC_V2\n",
      "../results/hpsearch-2021-09-20/best/2_run_2241/evaluation_20/backupcfg_sim.json NSLOC_V2\n",
      "../results/hpsearch-2021-09-20/best/2_run_2241/evaluation_16/backupcfg_sim.json NSLOC_V2\n",
      "../results/hpsearch-2021-09-20/best/2_run_2241/backupcfg_sim.json NSLOC_V2\n",
      "../results/hpsearch-2021-09-20/best/1_run_2599/evaluation_20/backupcfg_sim.json NSLOC_V2\n",
      "../results/hpsearch-2021-09-20/best/1_run_2599/evaluation_18/backupcfg_sim.json NSLOC_V2\n",
      "../results/hpsearch-2021-09-20/best/1_run_2599/backupcfg_sim.json NSLOC_V2\n",
      "../results/hpsearch-2021-09-20/run_3145/backupcfg_sim.json NSLOC_V2\n",
      "../results/hpsearch-2021-09-20/run_1416/backupcfg_sim.json NSLOC_V2\n",
      "../results/hpsearch-2021-09-20/run_588/backupcfg_sim.json NSLOC_V2\n",
      "../results/hpsearch-2021-09-20/run_6006/backupcfg_sim.json NSLOC_V2\n",
      "../results/hpsearch-2021-09-20/run_2464/backupcfg_sim.json NSLOC_V2\n",
      "../results/hpsearch-2021-09-20/run_5271/backupcfg_sim.json NSLOC_V2\n",
      "../results/hpsearch-2021-09-20/run_1879/backupcfg_sim.json NSLOC_V2\n",
      "../results/hpsearch-2021-09-20/run_359/backupcfg_sim.json NSLOC_V2\n",
      "../results/hpsearch-2021-09-20/run_4128/backupcfg_sim.json NSLOC_V2\n",
      "../results/hpsearch-2021-09-20/run_537/backupcfg_sim.json NSLOC_V2\n",
      "../results/hpsearch-2021-09-20/run_6640/backupcfg_sim.json NSLOC_V2\n",
      "../results/hpsearch-2021-09-20/run_4723/backupcfg_sim.json NSLOC_V2\n",
      "../results/hpsearch-2021-09-20/run_2241/backupcfg_sim.json NSLOC_V2\n",
      "../results/hpsearch-2021-09-20/init_config.json NSLOC_V2\n",
      "../results/hpsearch-2021-09-20/run_215/backupcfg_sim.json NSLOC_V2\n",
      "../results/hpsearch-2021-09-20/run_2599/backupcfg_sim.json NSLOC_V2\n",
      "../results/hpsearch-2021-09-20/run_4804/backupcfg_sim.json NSLOC_V2\n",
      "../results/hpsearch-2021-09-20/run_612/backupcfg_sim.json NSLOC_V2\n",
      "../results/hpsearch-2021-09-20/run_3416/backupcfg_sim.json NSLOC_V2\n",
      "../results/hpsearch-2021-09-20/run_7277/backupcfg_sim.json NSLOC_V2\n",
      "../results/hpsearch-2021-09-20/run_494/backupcfg_sim.json NSLOC_V2\n",
      "../results/hpsearch-2021-09-20/run_5764/backupcfg_sim.json NSLOC_V2\n",
      "../results/hpsearch-2021-09-20/run_6319/backupcfg_sim.json NSLOC_V2\n",
      "../results/hpsearch-2021-09-20/run_4686/backupcfg_sim.json NSLOC_V2\n",
      "../results/hpsearch-2021-09-20/run_1909/backupcfg_sim.json NSLOC_V2\n",
      "../results/hpsearch-2021-09-20/run_7512/backupcfg_sim.json NSLOC_V2\n",
      "../results/hpsearch-2021-09-20/run_6061/backupcfg_sim.json NSLOC_V2\n",
      "../results/hpsearch-2021-09-20/run_522/backupcfg_sim.json NSLOC_V2\n",
      "../results/hpsearch-2021-09-20/run_5689/backupcfg_sim.json NSLOC_V2\n"
     ]
    }
   ],
   "source": [
    "change_configs('../results/hpsearch-2021-09-20/')\n",
    "\n",
    "# change_configs('../results/20210920')"
   ]
  },
  {
   "cell_type": "code",
   "execution_count": null,
   "id": "4171208a",
   "metadata": {},
   "outputs": [],
   "source": []
  }
 ],
 "metadata": {
  "kernelspec": {
   "display_name": "Python 3",
   "language": "python",
   "name": "python3"
  },
  "language_info": {
   "codemirror_mode": {
    "name": "ipython",
    "version": 3
   },
   "file_extension": ".py",
   "mimetype": "text/x-python",
   "name": "python",
   "nbconvert_exporter": "python",
   "pygments_lexer": "ipython3",
   "version": "3.7.9"
  }
 },
 "nbformat": 4,
 "nbformat_minor": 5
}
