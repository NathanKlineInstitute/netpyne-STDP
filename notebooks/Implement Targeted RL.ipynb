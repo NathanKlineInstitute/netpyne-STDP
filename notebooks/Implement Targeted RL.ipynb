{
 "cells": [
  {
   "cell_type": "code",
   "execution_count": null,
   "id": "a815afdb",
   "metadata": {},
   "outputs": [],
   "source": []
  },
  {
   "cell_type": "code",
   "execution_count": 2,
   "id": "cebfc4d7",
   "metadata": {},
   "outputs": [],
   "source": [
    "pop_to_moves= {\"EM\": [\"LEFT\", \"RIGHT\"]}\n",
    "moves= {\n",
    "        \"LEFT\": 0,\n",
    "        \"RIGHT\": 1\n",
    "    }"
   ]
  },
  {
   "cell_type": "code",
   "execution_count": 2,
   "id": "fc09dc0a",
   "metadata": {},
   "outputs": [
    {
     "name": "stdout",
     "output_type": "stream",
     "text": [
      "EM\n",
      "['LEFT', 'RIGHT']\n",
      "LEFT : 0\n",
      "RIGHT : 1\n"
     ]
    }
   ],
   "source": [
    "for p, pop_moves in pop_to_moves.items():\n",
    "    print(p)\n",
    "    print(pop_moves)\n",
    "    for move in pop_moves:\n",
    "        print(move, \":\",moves[move])\n"
   ]
  },
  {
   "cell_type": "code",
   "execution_count": 4,
   "id": "05a12210",
   "metadata": {},
   "outputs": [
    {
     "name": "stdout",
     "output_type": "stream",
     "text": [
      "RIGHT\n"
     ]
    }
   ],
   "source": [
    "print(pop_moves[1])"
   ]
  },
  {
   "cell_type": "code",
   "execution_count": 5,
   "id": "5c6455a6",
   "metadata": {},
   "outputs": [
    {
     "name": "stdout",
     "output_type": "stream",
     "text": [
      "STDP to  LEFT , 0\n",
      "-STDP to  RIGHT\n",
      "STDP to  RIGHT , 1\n",
      "-STDP to  LEFT\n"
     ]
    }
   ],
   "source": [
    "for moveName, moveID in moves.items():\n",
    "    print(\"STDP to \", moveName, \",\", moveID)\n",
    "    for oppMoveName in moves.keys():\n",
    "        if oppMoveName != moveName:\n",
    "            print(\"-STDP to \", oppMoveName)"
   ]
  },
  {
   "cell_type": "code",
   "execution_count": 6,
   "id": "b12188e9",
   "metadata": {},
   "outputs": [
    {
     "name": "stdout",
     "output_type": "stream",
     "text": [
      "EM\n"
     ]
    }
   ],
   "source": [
    "for p in pop_to_moves.keys():\n",
    "    print(p)"
   ]
  },
  {
   "cell_type": "code",
   "execution_count": 7,
   "id": "0a6ca053",
   "metadata": {},
   "outputs": [
    {
     "name": "stdout",
     "output_type": "stream",
     "text": [
      "LEFT : LEFT\n",
      "RIGHT : RIGHT\n"
     ]
    }
   ],
   "source": [
    "for p, pop_moves in pop_to_moves.items():\n",
    "    for move in pop_moves:\n",
    "        for moveName, moveID in moves.items():\n",
    "            if move==moveName:print(move, \":\",moveName)"
   ]
  },
  {
   "cell_type": "code",
   "execution_count": 3,
   "id": "f3b34792",
   "metadata": {},
   "outputs": [
    {
     "name": "stdout",
     "output_type": "stream",
     "text": [
      "EM\n"
     ]
    }
   ],
   "source": [
    "for p, pop_moves in pop_to_moves.items():\n",
    "    print(p)"
   ]
  },
  {
   "cell_type": "code",
   "execution_count": null,
   "id": "7bf6d825",
   "metadata": {},
   "outputs": [],
   "source": []
  }
 ],
 "metadata": {
  "kernelspec": {
   "display_name": "env",
   "language": "python",
   "name": "env"
  },
  "language_info": {
   "codemirror_mode": {
    "name": "ipython",
    "version": 3
   },
   "file_extension": ".py",
   "mimetype": "text/x-python",
   "name": "python",
   "nbconvert_exporter": "python",
   "pygments_lexer": "ipython3",
   "version": "3.7.6"
  }
 },
 "nbformat": 4,
 "nbformat_minor": 5
}
