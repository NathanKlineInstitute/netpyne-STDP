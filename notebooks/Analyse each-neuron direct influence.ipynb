{
 "cells": [
  {
   "cell_type": "code",
   "execution_count": null,
   "id": "f88d509d",
   "metadata": {},
   "outputs": [],
   "source": [
    "import os\n",
    "import csv\n",
    "import json\n",
    "import pickle as pkl\n",
    "\n",
    "wdir = '../results/hpsearch-2021-09-06/best/1_run_168/evalmockAllStates/step_0/'\n",
    "\n",
    "with open(os.path.join(wdir, 'sim.pkl'), 'rb') as f:\n",
    "    sim = pkl.load(f)\n",
    "\n",
    "ts = []\n",
    "with open(os.path.join(wdir, 'ActionsRewards.txt')) as f:\n",
    "    for row in csv.reader(f, delimiter='\\t'):\n",
    "        ts.append(float(row[0]))\n",
    "        \n",
    "ts.append(ts[-1] + 50)\n",
    "\n",
    "spkt = sim['simData']['spkt']\n",
    "spkid = sim['simData']['spkid']"
   ]
  },
  {
   "cell_type": "code",
   "execution_count": null,
   "id": "80d5cd64",
   "metadata": {},
   "outputs": [],
   "source": []
  },
  {
   "cell_type": "code",
   "execution_count": null,
   "id": "967b9ee1",
   "metadata": {},
   "outputs": [],
   "source": []
  },
  {
   "cell_type": "code",
   "execution_count": null,
   "id": "e2f0a169",
   "metadata": {},
   "outputs": [],
   "source": [
    "input_pop = list(range(0, 80))\n",
    "space_between = 50.0 # ms\n",
    "\n",
    "prev_st = -1\n",
    "curr_step = -1\n",
    "activations = []\n",
    "\n",
    "for st, sid in zip(spkt, spkid):\n",
    "    if st < 150:\n",
    "        continue\n",
    "\n",
    "    if st > prev_st + space_between:\n",
    "        curr_step += 1\n",
    "        activations.append({ 'es': [], 'rest': [], 'min': spkt[-1] + 100, 'max': -1})\n",
    "    activations[curr_step]['es' if sid in input_pop else 'rest'].append(sid)\n",
    "    activations[curr_step]['min'] = min(st, activations[curr_step]['min'])\n",
    "    activations[curr_step]['max'] = max(st, activations[curr_step]['max'])\n",
    "    \n",
    "    prev_st = st\n",
    "    \n",
    "assert len(activations) == 8000"
   ]
  },
  {
   "cell_type": "code",
   "execution_count": null,
   "id": "46540239",
   "metadata": {},
   "outputs": [],
   "source": [
    "print('len', len(activations))\n",
    "print(activations[2012])"
   ]
  },
  {
   "cell_type": "code",
   "execution_count": null,
   "id": "d68cd657",
   "metadata": {},
   "outputs": [],
   "source": [
    "diffs = [act['max'] - act['min']  for act in activations]"
   ]
  },
  {
   "cell_type": "code",
   "execution_count": null,
   "id": "ca1be73f",
   "metadata": {},
   "outputs": [],
   "source": [
    "min(diffs), max(diffs)"
   ]
  },
  {
   "cell_type": "code",
   "execution_count": null,
   "id": "4772ea35",
   "metadata": {},
   "outputs": [],
   "source": [
    "import matplotlib.pyplot as plt\n",
    "\n",
    "es_acts = [len(act['es']) for act in activations]\n",
    "\n",
    "plt.hist(es_acts)\n",
    "plt.yscale('log')\n",
    "plt.show()"
   ]
  },
  {
   "cell_type": "code",
   "execution_count": null,
   "id": "74e5b626",
   "metadata": {},
   "outputs": [],
   "source": []
  },
  {
   "cell_type": "code",
   "execution_count": null,
   "id": "970e3738",
   "metadata": {},
   "outputs": [],
   "source": []
  },
  {
   "cell_type": "code",
   "execution_count": null,
   "id": "8b9be2d9",
   "metadata": {},
   "outputs": [],
   "source": [
    "import os\n",
    "import csv\n",
    "import json\n",
    "import pickle as pkl\n",
    "from tqdm import tqdm\n",
    "\n",
    "input_pop = list(range(0, 80))\n",
    "space_between = 50.0 # ms\n",
    "\n",
    "all_activations = []\n",
    "for STEP_IDX in tqdm(range(20), total=20):\n",
    "#     wdir = '../results/hpsearch-2021-09-06/best/1_run_168/evalmockAllStates/step_{}/'.format(STEP_IDX)\n",
    "#     wdir = '../results/20210907-ES1500it/evalmockAllStates/step_{}/'.format(STEP_IDX)\n",
    "    wdir = '../results/20210907-ES1500it/evalmockAllStates_atInit/step_{}/'.format(STEP_IDX)\n",
    "\n",
    "    with open(os.path.join(wdir, 'sim.pkl'), 'rb') as f:\n",
    "        sim = pkl.load(f)\n",
    "\n",
    "    ts = []\n",
    "    with open(os.path.join(wdir, 'ActionsRewards.txt')) as f:\n",
    "        for row in csv.reader(f, delimiter='\\t'):\n",
    "            ts.append(float(row[0]))\n",
    "\n",
    "    ts.append(ts[-1] + 50)\n",
    "\n",
    "    spkt = sim['simData']['spkt']\n",
    "    spkid = sim['simData']['spkid']\n",
    "\n",
    "    prev_st = -1\n",
    "    curr_step = -1\n",
    "    activations = []\n",
    "\n",
    "    for st, sid in zip(spkt, spkid):\n",
    "        if st < 150:\n",
    "            continue\n",
    "\n",
    "        if st > prev_st + space_between:\n",
    "            curr_step += 1\n",
    "            activations.append({ 'es': [], 'rest': [], 'min': spkt[-1] + 100, 'max': -1})\n",
    "        activations[curr_step]['es' if sid in input_pop else 'rest'].append(sid)\n",
    "        activations[curr_step]['min'] = min(st, activations[curr_step]['min'])\n",
    "        activations[curr_step]['max'] = max(st, activations[curr_step]['max'])\n",
    "\n",
    "        prev_st = st\n",
    "\n",
    "    assert len(activations) == 8000\n",
    "    \n",
    "    all_activations.extend(activations)"
   ]
  },
  {
   "cell_type": "code",
   "execution_count": null,
   "id": "d206ba54",
   "metadata": {},
   "outputs": [],
   "source": [
    "print(len(all_activations))"
   ]
  },
  {
   "cell_type": "code",
   "execution_count": null,
   "id": "878611c9",
   "metadata": {},
   "outputs": [],
   "source": [
    "pop_left = {k: True for k in range(140, 160)}\n",
    "pop_right = {k: True for k in range(160, 180)}\n",
    "\n",
    "for act in tqdm(all_activations):\n",
    "    moves = [0, 0, 0]\n",
    "    for cid in act['rest']:\n",
    "        moves[0 if cid in pop_left else (1 if cid in pop_right else 2)] += 1\n",
    "    if moves[0] == 0 and moves[1] == 0:\n",
    "        act['move'] = '0'\n",
    "    elif moves[0] == moves[1]:\n",
    "        act['move'] = 'u'\n",
    "    elif moves[0] < moves[1]:\n",
    "        act['move'] = 'r'\n",
    "    elif moves[0] > moves[1]:\n",
    "        act['move'] = 'l'\n",
    "    else:\n",
    "        assert False"
   ]
  },
  {
   "cell_type": "code",
   "execution_count": null,
   "id": "edb6a9d8",
   "metadata": {},
   "outputs": [],
   "source": [
    "# es_all_activations = all_activations\n",
    "# stdp_all_activations = all_activations\n",
    "start_all_activations = all_activations"
   ]
  },
  {
   "cell_type": "code",
   "execution_count": null,
   "id": "3381b5d3",
   "metadata": {},
   "outputs": [],
   "source": []
  },
  {
   "cell_type": "code",
   "execution_count": null,
   "id": "2d37686c",
   "metadata": {},
   "outputs": [],
   "source": [
    "from collections import Counter\n",
    "\n",
    "for activations, name in [[stdp_all_activations, 'STDP'], [es_all_activations, 'ES']]:\n",
    "    keys = ['0', 'u', 'l', 'r']\n",
    "    keys_names = ['no EM activation', 'undecided', 'left move', 'right move']\n",
    "\n",
    "    moves = Counter(''.join([act['move'] for act in activations]))\n",
    "#     moves\n",
    "\n",
    "    x = list(range(len(keys)))\n",
    "    plt.figure(figsize=(10,10))\n",
    "    plt.grid(axis='y', alpha=0.3)\n",
    "    plt.bar(x, [moves[k] for k in keys])\n",
    "    plt.xticks(x, keys_names)\n",
    "    plt.ylim(0, max(moves.values()) + 5000)\n",
    "    plt.xlabel('move result')\n",
    "    plt.ylabel('count of states')\n",
    "    plt.title('Distribution of {} result types on all states'.format(name))\n",
    "    plt.show()"
   ]
  },
  {
   "cell_type": "code",
   "execution_count": null,
   "id": "157e4e8d",
   "metadata": {},
   "outputs": [],
   "source": []
  },
  {
   "cell_type": "code",
   "execution_count": null,
   "id": "975a9055",
   "metadata": {},
   "outputs": [],
   "source": []
  },
  {
   "cell_type": "code",
   "execution_count": null,
   "id": "d26e8126",
   "metadata": {},
   "outputs": [],
   "source": []
  },
  {
   "cell_type": "code",
   "execution_count": null,
   "id": "a10b7c06",
   "metadata": {},
   "outputs": [],
   "source": [
    "import numpy as np\n",
    "\n",
    "M = np.zeros((len(keys), len(keys)))\n",
    "\n",
    "for act_stdp, act_es in zip(stdp_all_activations, es_all_activations):\n",
    "    m1 = keys.index(act_stdp['move'])\n",
    "    m2 = keys.index(act_es['move'])\n",
    "    M[m1][m2] += 1\n",
    "    \n",
    "M"
   ]
  },
  {
   "cell_type": "code",
   "execution_count": null,
   "id": "fd80338b",
   "metadata": {},
   "outputs": [],
   "source": [
    "fig = plt.figure(figsize=(10,10))\n",
    "plt.imshow(M)\n",
    "plt.xticks(range(len(keys)), keys_names)\n",
    "plt.yticks(range(len(keys)), keys_names)\n",
    "\n",
    "# Loop over data dimensions and create text annotations.\n",
    "for i in range(len(keys)):\n",
    "    for j in range(len(keys)):\n",
    "        text = plt.text(j, i, M[i, j],\n",
    "                       ha=\"center\", va=\"center\", color=\"w\")\n",
    "        \n",
    "plt.colorbar()\n",
    "\n",
    "plt.ylabel('STDP choice')\n",
    "plt.xlabel('ES choice')\n",
    "\n",
    "plt.show()"
   ]
  },
  {
   "cell_type": "code",
   "execution_count": null,
   "id": "ab83fe08",
   "metadata": {},
   "outputs": [],
   "source": [
    "M[0]"
   ]
  },
  {
   "cell_type": "code",
   "execution_count": null,
   "id": "f10998f3",
   "metadata": {},
   "outputs": [],
   "source": [
    "print('similar moves', sum(np.diag(M)))\n",
    "print('percentage', sum(np.diag(M)) / np.sum(M))"
   ]
  },
  {
   "cell_type": "code",
   "execution_count": null,
   "id": "47e4b694",
   "metadata": {},
   "outputs": [],
   "source": []
  },
  {
   "cell_type": "code",
   "execution_count": null,
   "id": "5181fbdd",
   "metadata": {},
   "outputs": [],
   "source": [
    "keys = ['0', 'u', 'l', 'r']\n",
    "keys_names = ['no EM activation', 'undecided', 'left move', 'right move']"
   ]
  },
  {
   "cell_type": "code",
   "execution_count": null,
   "id": "850cdc66",
   "metadata": {},
   "outputs": [],
   "source": [
    "import numpy as np\n",
    "# for act_stdp, act_es in zip(stdp_all_activations, es_all_activations):\n",
    "\n",
    "all_influences = {}\n",
    "# for all_activations, name in [[stdp_all_activations, 'stdp'], [es_all_activations, 'es']]:\n",
    "    \n",
    "# all_activations = stdp_all_activations\n",
    "all_activations = all_activations\n",
    "\n",
    "# TODO: loop over all activations once only and create the matrix from that\n",
    "\n",
    "influence = []\n",
    "for cid in tqdm(range(200)):\n",
    "    activated = np.zeros((len(keys)))\n",
    "    total = np.zeros((len(keys)))\n",
    "    for act in all_activations:\n",
    "        if cid in act['es'] or cid in act['rest']:\n",
    "            activated[keys.index(act['move'])] += 1\n",
    "        total[keys.index(act['move'])] += 1\n",
    "    influence.append(activated / total)\n",
    "\n",
    "all_influences[name] = influence"
   ]
  },
  {
   "cell_type": "code",
   "execution_count": null,
   "id": "4c48df3f",
   "metadata": {},
   "outputs": [],
   "source": []
  },
  {
   "cell_type": "code",
   "execution_count": null,
   "id": "26419bb9",
   "metadata": {},
   "outputs": [],
   "source": [
    "activated"
   ]
  },
  {
   "cell_type": "code",
   "execution_count": null,
   "id": "9a93219d",
   "metadata": {},
   "outputs": [],
   "source": [
    "total"
   ]
  },
  {
   "cell_type": "code",
   "execution_count": null,
   "id": "0839c9e0",
   "metadata": {},
   "outputs": [],
   "source": []
  },
  {
   "cell_type": "code",
   "execution_count": null,
   "id": "fcd2ed7a",
   "metadata": {},
   "outputs": [],
   "source": [
    "from neurosim.tools.utils import _get_pop_name\n",
    "\n",
    "sorted_min_ids = [('stimModES', 200),\n",
    " ('IML', 190),\n",
    " ('IM', 180),\n",
    " ('EM-RIGHT', 160),\n",
    " ('EM-LEFT', 140),\n",
    " ('IAL', 130),\n",
    " ('IA', 120),\n",
    " ('EA', 80),\n",
    " ('ES', 0)]"
   ]
  },
  {
   "cell_type": "code",
   "execution_count": null,
   "id": "a5f7635c",
   "metadata": {},
   "outputs": [],
   "source": [
    "es_c_stats = c_stats"
   ]
  },
  {
   "cell_type": "code",
   "execution_count": null,
   "id": "4f816694",
   "metadata": {},
   "outputs": [],
   "source": [
    "c_stats = []\n",
    "\n",
    "for i, inf in enumerate(influence):\n",
    "    power = inf[2:].sum()\n",
    "    norm = inf[2:] / power\n",
    "    left_pref = norm[0]\n",
    "#     right_pref = norm[3]\n",
    "\n",
    "    pop_name = _get_pop_name(i, sorted_min_ids)\n",
    "    c_stats.append([i, pop_name, left_pref, power])\n"
   ]
  },
  {
   "cell_type": "code",
   "execution_count": null,
   "id": "a5ce9046",
   "metadata": {
    "scrolled": true
   },
   "outputs": [],
   "source": [
    "sorted(c_stats, key=lambda x:x[3])"
   ]
  },
  {
   "cell_type": "code",
   "execution_count": null,
   "id": "1a43fe8b",
   "metadata": {},
   "outputs": [],
   "source": [
    "\n",
    "indices = list(range(len(sorted_min_ids)-1, -1, -1))\n",
    "pops = [sorted_min_ids[i][0] for i in indices]\n",
    "\n",
    "plt.figure(figsize=(10,10))\n",
    "\n",
    "for pop_name in pops:\n",
    "    pop_stats = [(left_pref, power) for _,pname,left_pref,power in c_stats if pname == pop_name]\n",
    "    xvals = [1.0-x for x,y in pop_stats]\n",
    "    yvals = [y / 2.0 for x,y in pop_stats]\n",
    "    plt.scatter(xvals, yvals, s=100.0)\n",
    "    \n",
    "plt.legend(pops[:-1])\n",
    "plt.xlabel('Right Preference')\n",
    "plt.ylabel('Power of influence')\n",
    "plt.xlim(0, 1.0)\n",
    "plt.xticks(np.arange(0, 1.0, 0.1))\n",
    "plt.grid(alpha=0.2)\n",
    "plt.title('ES model influence of each neuron based on all activation types from ES pop')\n",
    "plt.show()"
   ]
  },
  {
   "cell_type": "code",
   "execution_count": null,
   "id": "98a57cb6",
   "metadata": {},
   "outputs": [],
   "source": [
    "\n",
    "indices = list(range(len(sorted_min_ids)-1, -1, -1))\n",
    "pops = [sorted_min_ids[i][0] for i in indices]\n",
    "\n",
    "plt.figure(figsize=(10,10))\n",
    "\n",
    "for pop_name in pops:\n",
    "    pop_stats = [(left_pref, power) for _,pname,left_pref,power in c_stats if pname == pop_name]\n",
    "    xvals = [(0.5-x)*2 for x,y in pop_stats]\n",
    "    yvals = [y / 2.0 for x,y in pop_stats]\n",
    "    plt.scatter(xvals, yvals, s=100.0)\n",
    "    \n",
    "plt.legend(pops[:-1])\n",
    "plt.xlabel('Right Preference')\n",
    "plt.ylabel('Power of influence')\n",
    "plt.xlim(0, 1.0)\n",
    "plt.xticks(np.arange(-1, 1.0, 0.2))\n",
    "plt.grid(alpha=0.2)\n",
    "plt.title('STDP model influence of each neuron based on all activation types from ES pop')\n",
    "plt.show()"
   ]
  },
  {
   "cell_type": "code",
   "execution_count": null,
   "id": "be0c2704",
   "metadata": {},
   "outputs": [],
   "source": [
    "import matplotlib.pyplot as plt\n",
    "\n",
    "\n",
    "indices = list(range(len(sorted_min_ids)-1, -1, -1))\n",
    "pops = [sorted_min_ids[i][0] for i in indices]\n",
    "\n",
    "plt.figure(figsize=(10,10))\n",
    "\n",
    "for pop_name in pops:\n",
    "    pop_stats = [(left_pref, power) for _,pname,left_pref,power in c_stats if pname == pop_name]\n",
    "    xvals = [(0.5-x)*2 for x,y in pop_stats]\n",
    "    yvals = [y / 2.0 for x,y in pop_stats]\n",
    "    plt.scatter(xvals, yvals, s=100.0)\n",
    "    \n",
    "plt.legend(pops[:-1])\n",
    "plt.xlabel('Right Preference')\n",
    "plt.ylabel('Power of influence')\n",
    "plt.xlim(0, 1.0)\n",
    "plt.xticks(np.arange(-1, 1.0, 0.2))\n",
    "plt.grid(alpha=0.2)\n",
    "plt.title('Before Training model influence of each neuron based on all activation types from ES pop')\n",
    "plt.show()"
   ]
  },
  {
   "cell_type": "code",
   "execution_count": null,
   "id": "c2ad1875",
   "metadata": {},
   "outputs": [],
   "source": []
  },
  {
   "cell_type": "code",
   "execution_count": null,
   "id": "54ce8a3d",
   "metadata": {},
   "outputs": [],
   "source": []
  },
  {
   "cell_type": "code",
   "execution_count": null,
   "id": "fee925ec",
   "metadata": {},
   "outputs": [],
   "source": []
  },
  {
   "cell_type": "code",
   "execution_count": null,
   "id": "f06dc618",
   "metadata": {},
   "outputs": [],
   "source": []
  },
  {
   "cell_type": "markdown",
   "id": "96a996bb",
   "metadata": {},
   "source": [
    "Previous, code for only 1 activation on ES"
   ]
  },
  {
   "cell_type": "code",
   "execution_count": null,
   "id": "7abd4e3f",
   "metadata": {
    "scrolled": true
   },
   "outputs": [],
   "source": [
    "tidx = 0 # index of the place in the step-wise time increment\n",
    "curr_sid = None\n",
    "curr_tidx = None\n",
    "\n",
    "causal_graph = {}\n",
    "curr_sid = None\n",
    "curr_tidx = None\n",
    "\n",
    "verbose = True\n",
    "\n",
    "for st, sid in zip(spkt, spkid):\n",
    "    if st < 150:\n",
    "        continue\n",
    "#     if st < 24216:\n",
    "#         continue\n",
    "    if verbose: print(st, sid)\n",
    "    if st > ts[tidx]:\n",
    "        if verbose: print('incr', ts[tidx])\n",
    "        tidx += 1\n",
    "    while st > ts[tidx]:\n",
    "        if verbose: print('incr++', ts[tidx])\n",
    "        curr_sid = None\n",
    "        curr_tidx = None\n",
    "        tidx += 1\n",
    "    if curr_sid == None:\n",
    "        curr_sid = sid\n",
    "        curr_tidx = tidx\n",
    "        if curr_sid in causal_graph:\n",
    "            print('Stopping at {} of spkid {}'.format(st, sid))\n",
    "            break\n",
    "    if curr_sid not in causal_graph:\n",
    "        causal_graph[curr_sid] = [[]]\n",
    "    if tidx - curr_tidx == len(causal_graph[curr_sid]):\n",
    "        causal_graph[curr_sid].append([])\n",
    "    causal_graph[curr_sid][tidx - curr_tidx].append(sid)\n",
    "    if verbose: print('curr_sid', curr_sid)\n",
    "    "
   ]
  },
  {
   "cell_type": "code",
   "execution_count": null,
   "id": "09c38954",
   "metadata": {
    "scrolled": true
   },
   "outputs": [],
   "source": [
    "causal_graph"
   ]
  },
  {
   "cell_type": "code",
   "execution_count": null,
   "id": "c2ba1472",
   "metadata": {},
   "outputs": [],
   "source": []
  },
  {
   "cell_type": "code",
   "execution_count": null,
   "id": "73850f63",
   "metadata": {},
   "outputs": [],
   "source": [
    "for i1,i2 in zip(sorted(list(causal_graph.keys())), range(80)):\n",
    "    assert i1 == i2"
   ]
  },
  {
   "cell_type": "code",
   "execution_count": null,
   "id": "18c779ad",
   "metadata": {},
   "outputs": [],
   "source": []
  },
  {
   "cell_type": "code",
   "execution_count": null,
   "id": "112062a6",
   "metadata": {},
   "outputs": [],
   "source": []
  },
  {
   "cell_type": "code",
   "execution_count": null,
   "id": "7b4e71a2",
   "metadata": {},
   "outputs": [],
   "source": [
    "for st, sid in zip(spkt, spkid):\n",
    "#     if st > 300:\n",
    "        print(st, sid)"
   ]
  },
  {
   "cell_type": "code",
   "execution_count": null,
   "id": "25c1efbf",
   "metadata": {},
   "outputs": [],
   "source": [
    "spkid"
   ]
  },
  {
   "cell_type": "code",
   "execution_count": null,
   "id": "5cc0a392",
   "metadata": {},
   "outputs": [],
   "source": []
  },
  {
   "cell_type": "code",
   "execution_count": null,
   "id": "36bb1fdf",
   "metadata": {},
   "outputs": [],
   "source": []
  },
  {
   "cell_type": "code",
   "execution_count": null,
   "id": "d74cbe9d",
   "metadata": {},
   "outputs": [],
   "source": []
  },
  {
   "cell_type": "code",
   "execution_count": null,
   "id": "f3948914",
   "metadata": {},
   "outputs": [],
   "source": [
    "from neurosim.game_interface import GameInterface\n",
    "import gym\n",
    "\n",
    "env = gym.make('CartPole-v1')\n",
    "\n",
    "class MockAIGame:\n",
    "    observations = []\n",
    "    rewards = []\n",
    "    env = None\n",
    "\n",
    "    def __init__(self, env):\n",
    "        self.env = env\n",
    "        \n",
    "config = None\n",
    "with open('../config.json') as f:\n",
    "    config = json.load(f)\n",
    "\n",
    "game = MockAIGame(env)\n",
    "gi = GameInterface(game, config)"
   ]
  },
  {
   "cell_type": "code",
   "execution_count": null,
   "id": "8e1a445a",
   "metadata": {},
   "outputs": [],
   "source": []
  },
  {
   "cell_type": "code",
   "execution_count": null,
   "id": "305db0c5",
   "metadata": {},
   "outputs": [],
   "source": [
    "import os\n",
    "import csv\n",
    "import json\n",
    "import pickle as pkl\n",
    "\n",
    "wdir = '../results/hpsearch-2021-09-06/best/1_run_168/evaluation_8/'\n",
    "\n",
    "with open(os.path.join(wdir, 'sim.pkl'), 'rb') as f:\n",
    "    sim = pkl.load(f)\n",
    "\n",
    "ts = []\n",
    "obs_fr = []\n",
    "with open(os.path.join(wdir, 'ActionsRewards.txt')) as f:\n",
    "    for row in csv.reader(f, delimiter='\\t'):\n",
    "        ts.append(float(row[0]))\n",
    "        obs = json.loads(row[3])\n",
    "        \n",
    "        game.observations = [obs]\n",
    "        f_r = gi.input_firing_rates()\n",
    "        f_ind = (f_r > 0).nonzero()[0]\n",
    "        obs_fr.append(f_ind)\n",
    "        \n",
    "ts.append(ts[-1] + 50)\n",
    "\n",
    "spkt = sim['simData']['spkt']\n",
    "spkid = sim['simData']['spkid']"
   ]
  },
  {
   "cell_type": "code",
   "execution_count": null,
   "id": "5ec5b689",
   "metadata": {},
   "outputs": [],
   "source": [
    "tidx = 0 # index of the place in the step-wise time increment\n",
    "\n",
    "es_spks_at_times = {}\n",
    "for st, sid in zip(spkt, spkid):\n",
    "    if sid < 80:\n",
    "        while st > ts[tidx]:\n",
    "            tidx += 1\n",
    "#         print('\\t'.join([str(k) for k in [ts[tidx-1], round(st, 2), ts[tidx], sid]]))\n",
    "        if tidx not in es_spks_at_times:\n",
    "            es_spks_at_times[tidx] = []\n",
    "        es_spks_at_times[tidx].append(sid)\n",
    "        es_spks_at_times[tidx] = sorted(es_spks_at_times[tidx])\n",
    "        \n",
    "print(len(es_spks_at_times))"
   ]
  },
  {
   "cell_type": "code",
   "execution_count": null,
   "id": "6979e206",
   "metadata": {
    "scrolled": true
   },
   "outputs": [],
   "source": [
    "for idx, (k,v) in enumerate(es_spks_at_times.items()):\n",
    "    print('---', k, [int(s) for s in sorted(list(set(v)))], obs_fr[idx-1])"
   ]
  },
  {
   "cell_type": "code",
   "execution_count": null,
   "id": "1c420f3b",
   "metadata": {},
   "outputs": [],
   "source": [
    "import matplotlib.pyplot as plt\n",
    "from matplotlib.ticker import PercentFormatter\n",
    "import numpy as np\n",
    "\n",
    "plt.figure(figsize=(10,10))\n",
    "# plt.boxplot()\n",
    "d = [len(set(v)) for k,v in es_spks_at_times.items()][3:]\n",
    "t_d = sum(d)\n",
    "plt.hist(d, weights=np.ones(len(d)) / len(d))\n",
    "\n",
    "plt.gca().yaxis.set_major_formatter(PercentFormatter(1))\n",
    "plt.xlabel('number of distinct ES neurons firing in a timestep')\n",
    "plt.ylabel('percentage of timesteps')\n",
    "plt.show()"
   ]
  },
  {
   "cell_type": "code",
   "execution_count": null,
   "id": "b05ea924",
   "metadata": {},
   "outputs": [],
   "source": [
    "import matplotlib.pyplot as plt\n",
    "from matplotlib.ticker import PercentFormatter\n",
    "import numpy as np\n",
    "\n",
    "plt.figure(figsize=(10,10))\n",
    "# plt.boxplot()\n",
    "d = [len(set(v)) for k,v in es_spks_at_times.items()][3:]\n",
    "# d = [len(v) for k,v in es_spks_at_times.items()][3:]\n",
    "t_d = sum(d)\n",
    "plt.hist(d, weights=np.ones(len(d)) / len(d))\n",
    "\n",
    "plt.gca().yaxis.set_major_formatter(PercentFormatter(1))\n",
    "plt.xlabel('number of distinct ES neurons firing in a timestep')\n",
    "plt.ylabel('percentage of timesteps')\n",
    "plt.show()"
   ]
  },
  {
   "cell_type": "code",
   "execution_count": null,
   "id": "6d459457",
   "metadata": {},
   "outputs": [],
   "source": [
    "[len(set(v)) for k,v in es_spks_at_times.items()][4:]"
   ]
  },
  {
   "cell_type": "code",
   "execution_count": null,
   "id": "4ab2af78",
   "metadata": {},
   "outputs": [],
   "source": []
  },
  {
   "cell_type": "code",
   "execution_count": null,
   "id": "312e7420",
   "metadata": {},
   "outputs": [],
   "source": [
    "len([s for s in [len(set(v)) for k,v in es_spks_at_times.items()] if s == 5]) / len([len(set(v)) for k,v in es_spks_at_times.items()])"
   ]
  },
  {
   "cell_type": "code",
   "execution_count": null,
   "id": "4e364542",
   "metadata": {},
   "outputs": [],
   "source": []
  }
 ],
 "metadata": {
  "kernelspec": {
   "display_name": "Python 3",
   "language": "python",
   "name": "python3"
  },
  "language_info": {
   "codemirror_mode": {
    "name": "ipython",
    "version": 3
   },
   "file_extension": ".py",
   "mimetype": "text/x-python",
   "name": "python",
   "nbconvert_exporter": "python",
   "pygments_lexer": "ipython3",
   "version": "3.7.9"
  }
 },
 "nbformat": 4,
 "nbformat_minor": 5
}
