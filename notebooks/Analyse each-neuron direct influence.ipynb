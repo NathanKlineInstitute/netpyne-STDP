{
 "cells": [
  {
   "cell_type": "code",
   "execution_count": 3,
   "id": "f88d509d",
   "metadata": {},
   "outputs": [],
   "source": [
    "import os\n",
    "import csv\n",
    "import json\n",
    "import pickle as pkl\n",
    "\n",
    "# wdir = '../results/hpsearch-2021-09-06/best/1_run_168/evalmockAllStates/step_0/'\n",
    "# wdir = '../results/stdp-es-model/evalmockAllStates/step_0/'\n",
    "wdir = '../results/seedrun_m1-2022-01-16/run_seed1394398/continue_1/continue_1/continue_2/continue_2/continue_2/evalmockAllStates/step_0/'\n",
    "\n",
    "with open(os.path.join(wdir, 'sim.pkl'), 'rb') as f:\n",
    "    sim = pkl.load(f)\n",
    "\n",
    "ts = []\n",
    "with open(os.path.join(wdir, 'ActionsRewards.txt')) as f:\n",
    "    for row in csv.reader(f, delimiter='\\t'):\n",
    "        ts.append(float(row[0]))\n",
    "        \n",
    "ts.append(ts[-1] + 50)\n",
    "\n",
    "spkt = sim['simData']['spkt']\n",
    "spkid = sim['simData']['spkid']"
   ]
  },
  {
   "cell_type": "code",
   "execution_count": null,
   "id": "80d5cd64",
   "metadata": {},
   "outputs": [],
   "source": []
  },
  {
   "cell_type": "code",
   "execution_count": null,
   "id": "08296db8",
   "metadata": {},
   "outputs": [],
   "source": []
  },
  {
   "cell_type": "code",
   "execution_count": 91,
   "id": "e2f0a169",
   "metadata": {},
   "outputs": [],
   "source": [
    "input_pop = list(range(0, 80))\n",
    "space_between = 49.8 # ms\n",
    "\n",
    "prev_st = -1\n",
    "curr_step = -1\n",
    "activations = []\n",
    "\n",
    "for st, sid in zip(spkt, spkid):\n",
    "    if st < space_between * 3:\n",
    "        continue\n",
    "\n",
    "    if st > prev_st + space_between:\n",
    "        curr_step += 1\n",
    "        activations.append({ 'es': [], 'rest': [], 'min': spkt[-1] + 100, 'max': -1})\n",
    "    activations[curr_step]['es' if sid in input_pop else 'rest'].append(sid)\n",
    "    activations[curr_step]['min'] = min(st, activations[curr_step]['min'])\n",
    "    activations[curr_step]['max'] = max(st, activations[curr_step]['max'])\n",
    "    \n",
    "    prev_st = st\n",
    "    \n",
    "assert len(activations) == 8000"
   ]
  },
  {
   "cell_type": "code",
   "execution_count": 6,
   "id": "46540239",
   "metadata": {},
   "outputs": [
    {
     "name": "stdout",
     "output_type": "stream",
     "text": [
      "len 8000\n",
      "{'es': [45.0, 60.0, 12.0, 20.0, 45.0, 60.0, 12.0, 20.0, 45.0, 60.0, 12.0, 20.0], 'rest': [91.0, 106.0, 93.0, 115.0, 113.0, 91.0, 106.0, 119.0, 96.0, 98.0, 93.0, 115.0, 107.0, 94.0, 102.0, 113.0, 159.0, 169.0, 157.0, 153.0, 158.0, 150.0, 132.0, 151.0, 161.0, 163.0, 137.0, 152.0, 144.0, 129.0, 160.0, 173.0, 174.0, 149.0, 178.0, 139.0, 131.0, 133.0, 175.0, 167.0, 168.0, 172.0, 141.0, 179.0, 128.0, 124.0, 171.0, 134.0, 138.0, 166.0, 120.0, 170.0, 123.0, 165.0, 130.0, 185.0, 183.0, 192.0, 186.0, 181.0, 189.0, 184.0, 187.0, 182.0, 180.0, 196.0, 188.0, 199.0, 195.0, 191.0, 197.0, 198.0, 190.0, 194.0, 193.0, 93.0, 115.0], 'min': 300743.9834778774, 'max': 300786.2418745454}\n"
     ]
    }
   ],
   "source": [
    "print('len', len(activations))\n",
    "print(activations[2012])"
   ]
  },
  {
   "cell_type": "code",
   "execution_count": 16,
   "id": "d68cd657",
   "metadata": {},
   "outputs": [],
   "source": [
    "diffs = [act['max'] - act['min']  for act in activations]"
   ]
  },
  {
   "cell_type": "code",
   "execution_count": 17,
   "id": "ca1be73f",
   "metadata": {},
   "outputs": [
    {
     "data": {
      "text/plain": [
       "(40.0426725151483, 51.98353253561072)"
      ]
     },
     "execution_count": 17,
     "metadata": {},
     "output_type": "execute_result"
    }
   ],
   "source": [
    "min(diffs), max(diffs)"
   ]
  },
  {
   "cell_type": "code",
   "execution_count": 14,
   "id": "4772ea35",
   "metadata": {},
   "outputs": [
    {
     "data": {
      "image/png": "[encoded data removed]",
      "text/plain": [
       "<Figure size 432x288 with 1 Axes>"
      ]
     },
     "metadata": {
      "needs_background": "light"
     },
     "output_type": "display_data"
    }
   ],
   "source": [
    "import matplotlib.pyplot as plt\n",
    "\n",
    "es_acts = [len(act['es']) for act in activations]\n",
    "\n",
    "plt.hist(es_acts)\n",
    "plt.yscale('log')\n",
    "plt.show()"
   ]
  },
  {
   "cell_type": "code",
   "execution_count": 19,
   "id": "74e5b626",
   "metadata": {},
   "outputs": [
    {
     "data": {
      "image/png": "[encoded data removed]",
      "text/plain": [
       "<Figure size 432x288 with 1 Axes>"
      ]
     },
     "metadata": {
      "needs_background": "light"
     },
     "output_type": "display_data"
    }
   ],
   "source": [
    "import matplotlib.pyplot as plt\n",
    "\n",
    "plt.hist(diffs)\n",
    "plt.yscale('log')\n",
    "plt.show()"
   ]
  },
  {
   "cell_type": "code",
   "execution_count": null,
   "id": "af04772f",
   "metadata": {},
   "outputs": [],
   "source": []
  },
  {
   "cell_type": "code",
   "execution_count": null,
   "id": "02901662",
   "metadata": {},
   "outputs": [],
   "source": []
  },
  {
   "cell_type": "code",
   "execution_count": null,
   "id": "36d71c63",
   "metadata": {},
   "outputs": [],
   "source": []
  },
  {
   "cell_type": "markdown",
   "id": "2025e782",
   "metadata": {},
   "source": [
    "# Test all activations if there are overflowing spikes"
   ]
  },
  {
   "cell_type": "code",
   "execution_count": 57,
   "id": "432339b4",
   "metadata": {
    "scrolled": true
   },
   "outputs": [
    {
     "name": "stdout",
     "output_type": "stream",
     "text": [
      "0\n",
      "1\n",
      "[185.0]\n",
      "[180.0]\n",
      "[167.0]\n",
      "2\n",
      "[180.0, 188.0]\n",
      "[188.0]\n",
      "[167.0]\n",
      "[188.0]\n",
      "[188.0]\n",
      "[167.0]\n",
      "3\n",
      "[185.0]\n",
      "[188.0]\n",
      "4\n",
      "[180.0]\n",
      "5\n",
      "[167.0]\n",
      "[167.0]\n",
      "[167.0]\n",
      "[167.0]\n",
      "[167.0]\n",
      "[167.0]\n",
      "[167.0]\n",
      "[167.0]\n",
      "[167.0]\n",
      "[167.0]\n",
      "6\n",
      "[185.0]\n",
      "7\n",
      "8\n",
      "[171.0, 189.0]\n",
      "[185.0]\n",
      "[185.0]\n",
      "[185.0]\n",
      "[185.0]\n",
      "9\n",
      "[185.0]\n",
      "10\n",
      "[185.0]\n",
      "11\n",
      "[185.0]\n",
      "12\n",
      "13\n",
      "[167.0]\n",
      "[167.0]\n",
      "[167.0]\n",
      "14\n",
      "15\n",
      "[185.0]\n",
      "16\n",
      "[181.0]\n",
      "[167.0]\n",
      "[167.0]\n",
      "17\n",
      "18\n",
      "[167.0]\n",
      "19\n",
      "[181.0]\n",
      "[167.0]\n",
      "[167.0]\n",
      "total_overflows 44\n"
     ]
    }
   ],
   "source": [
    "import os\n",
    "import csv\n",
    "import json\n",
    "import pickle as pkl\n",
    "import bisect\n",
    "\n",
    "# model_dir = '../results/seedrun_m1-2022-01-16/run_seed1394398/continue_1/continue_1/continue_2/continue_2/continue_2/'\n",
    "model_dir = '../results/seedrun_m1-2022-01-16/run_seed5397326/continue_1/continue_1/continue_2/continue_2/continue_2/'\n",
    "\n",
    "input_pop = list(range(0, 80))\n",
    "space_between = 49.8 # ms\n",
    "\n",
    "total_overflows = 0\n",
    "    \n",
    "for step in range(20):\n",
    "    print(step)\n",
    "    wdir = os.path.join(model_dir, 'evalmockAllStates/step_{}/'.format(step))\n",
    "\n",
    "    with open(os.path.join(wdir, 'sim.pkl'), 'rb') as f:\n",
    "        sim = pkl.load(f)\n",
    "\n",
    "    ts = []\n",
    "    with open(os.path.join(wdir, 'ActionsRewards.txt')) as f:\n",
    "        for row in csv.reader(f, delimiter='\\t'):\n",
    "            ts.append(float(row[0]))\n",
    "    ts.append(ts[-1] + 50)\n",
    "\n",
    "    spkt = sim['simData']['spkt']\n",
    "    spkid = sim['simData']['spkid']\n",
    "    \n",
    "    # get the activations\n",
    "    prev_st = -1\n",
    "    curr_step = -1\n",
    "    activations = []\n",
    "    for st, sid in zip(spkt, spkid):\n",
    "        if st < space_between * 3:\n",
    "            continue\n",
    "\n",
    "        if st > prev_st + space_between:\n",
    "            curr_step += 1\n",
    "            activations.append({ 'es': [], 'rest': [], 'min': spkt[-1] + 100, 'max': -1})\n",
    "        activations[curr_step]['es' if sid in input_pop else 'rest'].append(sid)\n",
    "        activations[curr_step]['min'] = min(st, activations[curr_step]['min'])\n",
    "        activations[curr_step]['max'] = max(st, activations[curr_step]['max'])\n",
    "        prev_st = st\n",
    "\n",
    "    assert len(activations) == 8000\n",
    "    \n",
    "    # Find the extra activations outside the usual stepsize\n",
    "    for a in activations:\n",
    "        if a['max'] - a['min'] > 49.8:\n",
    "            step_min = a['min'] - a['min'] % space_between\n",
    "            tid = bisect.bisect_left(spkt, step_min)\n",
    "            extras = []\n",
    "            while spkt[tid] <= a['max']:\n",
    "                if spkt[tid] >= step_min + space_between:\n",
    "                    extras.append(spkid[tid])\n",
    "                tid += 1\n",
    "            print(extras)\n",
    "            total_overflows += len(extras)\n",
    "            \n",
    "print('total_overflows', total_overflows)"
   ]
  },
  {
   "cell_type": "code",
   "execution_count": null,
   "id": "e23f0e42",
   "metadata": {},
   "outputs": [],
   "source": []
  },
  {
   "cell_type": "code",
   "execution_count": null,
   "id": "fd9bca18",
   "metadata": {},
   "outputs": [],
   "source": []
  },
  {
   "cell_type": "markdown",
   "id": "459814e6",
   "metadata": {},
   "source": [
    "## Prepare all activations for all inputs dataset for all seeds (models)"
   ]
  },
  {
   "cell_type": "code",
   "execution_count": 4,
   "id": "2508dc8e",
   "metadata": {},
   "outputs": [],
   "source": [
    "import os\n",
    "import csv\n",
    "import json\n",
    "import pickle as pkl\n",
    "import bisect\n",
    "\n",
    "input_pop = list(range(0, 80))\n",
    "space_between = 49.8 # ms\n",
    "EM_LEFT = list(range(140, 160))\n",
    "EM_RIGHT = list(range(160, 180))\n",
    "\n",
    "def get_activations(wdir):\n",
    "    with open(os.path.join(wdir, 'sim.pkl'), 'rb') as f:\n",
    "        sim = pkl.load(f)\n",
    "\n",
    "    spkt = sim['simData']['spkt']\n",
    "    spkid = sim['simData']['spkid']\n",
    "    \n",
    "    # get the activations\n",
    "    prev_st = -1\n",
    "    curr_step = -1\n",
    "    activations = []\n",
    "    for st, sid in zip(spkt, spkid):\n",
    "        if st < space_between * 3:\n",
    "            continue\n",
    "\n",
    "        if st > prev_st + space_between:\n",
    "            curr_step += 1\n",
    "            activations.append({ 'es': [], 'rest': [], 'min': spkt[-1] + 100, 'max': -1})\n",
    "        activations[curr_step]['es' if sid in input_pop else 'rest'].append(int(sid))\n",
    "        activations[curr_step]['min'] = min(st, activations[curr_step]['min'])\n",
    "        activations[curr_step]['max'] = max(st, activations[curr_step]['max'])\n",
    "        prev_st = st\n",
    "        \n",
    "    assert len(activations) == 8000\n",
    "\n",
    "    for a in activations:\n",
    "        if a['max'] - a['min'] > 49.8:\n",
    "            step_min = a['min'] - a['min'] % space_between\n",
    "            tid = bisect.bisect_left(spkt, step_min)\n",
    "            extras = []\n",
    "            while spkt[tid] <= a['max']:\n",
    "                if spkt[tid] >= step_min + space_between:\n",
    "                    extras.append(spkid[tid])\n",
    "                tid += 1\n",
    "            a['overflow'] = extras\n",
    "        else:\n",
    "            a['overflow'] = []\n",
    "            \n",
    "        cnt_left = sum([1 for n in a['rest'] if n in EM_LEFT])\n",
    "        cnt_right = sum([1 for n in a['rest'] if n in EM_RIGHT])\n",
    "        a['move'] = 'L' if cnt_left > cnt_right else ('R' if cnt_right > cnt_left else 'U')\n",
    "        \n",
    "    return activations\n",
    "            "
   ]
  },
  {
   "cell_type": "code",
   "execution_count": 118,
   "id": "3d9b74d8",
   "metadata": {},
   "outputs": [
    {
     "name": "stderr",
     "output_type": "stream",
     "text": [
      "100%|██████████| 20/20 [00:57<00:00,  2.87s/it]"
     ]
    },
    {
     "name": "stdout",
     "output_type": "stream",
     "text": [
      "all_activations 160000\n"
     ]
    },
    {
     "name": "stderr",
     "output_type": "stream",
     "text": [
      "\n"
     ]
    }
   ],
   "source": [
    "from tqdm import tqdm\n",
    "\n",
    "# model_dir = '../results/seedrun_m1-2022-01-16/run_seed1394398/continue_1/continue_1/continue_2/continue_2/continue_2/'\n",
    "model_dir = '../results/seedrun_m1-2022-01-16/run_seed5397326/continue_1/continue_1/continue_2/continue_2/continue_2/'\n",
    "    \n",
    "all_activations = []\n",
    "for step in tqdm(range(20)):\n",
    "    wdir = os.path.join(model_dir, 'evalmockAllStates/step_{}/'.format(step))\n",
    "    activations = get_activations(wdir)\n",
    "    all_activations.extend(activations)\n",
    "\n",
    "print('all_activations', len(all_activations))\n"
   ]
  },
  {
   "cell_type": "code",
   "execution_count": 119,
   "id": "ee655cfb",
   "metadata": {},
   "outputs": [],
   "source": [
    "outdir = '../results/seedrun_m1-2022-01-16/evalmockAllStates_STDP-RL/'\n",
    "\n",
    "seed = 'run_seed5397326'\n",
    "with open(os.path.join(outdir, 'activations', 'all_activations_{}.json'.format(seed)), 'w') as out:\n",
    "    for act in all_activations:\n",
    "        out.write(json.dumps(act) + '\\n')\n"
   ]
  },
  {
   "cell_type": "code",
   "execution_count": null,
   "id": "e4294e52",
   "metadata": {},
   "outputs": [],
   "source": []
  },
  {
   "cell_type": "code",
   "execution_count": 120,
   "id": "d0d3089e",
   "metadata": {},
   "outputs": [
    {
     "name": "stdout",
     "output_type": "stream",
     "text": [
      "run_seed1257804\n"
     ]
    },
    {
     "name": "stderr",
     "output_type": "stream",
     "text": [
      "100%|██████████| 20/20 [00:52<00:00,  2.63s/it]\n"
     ]
    },
    {
     "name": "stdout",
     "output_type": "stream",
     "text": [
      "run_seed1932160\n"
     ]
    },
    {
     "name": "stderr",
     "output_type": "stream",
     "text": [
      "100%|██████████| 20/20 [00:50<00:00,  2.51s/it]\n"
     ]
    },
    {
     "name": "stdout",
     "output_type": "stream",
     "text": [
      "run_seed2544501\n"
     ]
    },
    {
     "name": "stderr",
     "output_type": "stream",
     "text": [
      "100%|██████████| 20/20 [00:54<00:00,  2.70s/it]\n"
     ]
    },
    {
     "name": "stdout",
     "output_type": "stream",
     "text": [
      "run_seed5140568\n"
     ]
    },
    {
     "name": "stderr",
     "output_type": "stream",
     "text": [
      "100%|██████████| 20/20 [00:50<00:00,  2.54s/it]\n"
     ]
    },
    {
     "name": "stdout",
     "output_type": "stream",
     "text": [
      "run_seed5381445\n"
     ]
    },
    {
     "name": "stderr",
     "output_type": "stream",
     "text": [
      "100%|██████████| 20/20 [00:52<00:00,  2.65s/it]\n"
     ]
    },
    {
     "name": "stdout",
     "output_type": "stream",
     "text": [
      "run_seed6623146\n"
     ]
    },
    {
     "name": "stderr",
     "output_type": "stream",
     "text": [
      "100%|██████████| 20/20 [00:55<00:00,  2.77s/it]\n"
     ]
    },
    {
     "name": "stdout",
     "output_type": "stream",
     "text": [
      "run_seed7892276\n"
     ]
    },
    {
     "name": "stderr",
     "output_type": "stream",
     "text": [
      "100%|██████████| 20/20 [00:54<00:00,  2.73s/it]\n"
     ]
    },
    {
     "name": "stdout",
     "output_type": "stream",
     "text": [
      "run_seed9300610\n"
     ]
    },
    {
     "name": "stderr",
     "output_type": "stream",
     "text": [
      "100%|██████████| 20/20 [00:52<00:00,  2.60s/it]\n"
     ]
    }
   ],
   "source": [
    "from tqdm import tqdm\n",
    "\n",
    "SEEDS = ['run_seed1257804', 'run_seed1932160', 'run_seed2544501', 'run_seed5140568', 'run_seed5381445', 'run_seed6623146', 'run_seed7892276', 'run_seed9300610']\n",
    "outdir = '../results/seedrun_m1-2022-01-16/evalmockAllStates_STDP-RL/'\n",
    "\n",
    "for seed in SEEDS:\n",
    "    print(seed)\n",
    "    model_dir = outdir + '/evalmockAllStates_{}/'.format(seed)\n",
    "\n",
    "    all_activations = []\n",
    "    for step in tqdm(range(20)):\n",
    "        wdir = os.path.join(model_dir, 'step_{}/'.format(step))\n",
    "        activations = get_activations(wdir)\n",
    "        all_activations.extend(activations)\n",
    "\n",
    "    assert len(all_activations) == 160000\n",
    "    \n",
    "    with open(os.path.join(outdir, 'activations', 'all_activations_{}.json'.format(seed)), 'w') as out:\n",
    "        for act in all_activations:\n",
    "            out.write(json.dumps(act) + '\\n')\n"
   ]
  },
  {
   "cell_type": "code",
   "execution_count": null,
   "id": "b8db8755",
   "metadata": {},
   "outputs": [],
   "source": []
  },
  {
   "cell_type": "markdown",
   "id": "bc3db6a6",
   "metadata": {},
   "source": [
    "### For EVOL\n"
   ]
  },
  {
   "cell_type": "code",
   "execution_count": 181,
   "id": "cd0e9767",
   "metadata": {},
   "outputs": [
    {
     "name": "stdout",
     "output_type": "stream",
     "text": [
      "run_seed1257804\n"
     ]
    },
    {
     "name": "stderr",
     "output_type": "stream",
     "text": [
      "100%|██████████| 20/20 [00:44<00:00,  2.23s/it]\n"
     ]
    },
    {
     "name": "stdout",
     "output_type": "stream",
     "text": [
      "run_seed1394398\n"
     ]
    },
    {
     "name": "stderr",
     "output_type": "stream",
     "text": [
      "100%|██████████| 20/20 [00:47<00:00,  2.36s/it]\n"
     ]
    },
    {
     "name": "stdout",
     "output_type": "stream",
     "text": [
      "run_seed1932160\n"
     ]
    },
    {
     "name": "stderr",
     "output_type": "stream",
     "text": [
      "100%|██████████| 20/20 [00:42<00:00,  2.11s/it]\n"
     ]
    },
    {
     "name": "stdout",
     "output_type": "stream",
     "text": [
      "run_seed2544501\n"
     ]
    },
    {
     "name": "stderr",
     "output_type": "stream",
     "text": [
      "100%|██████████| 20/20 [00:40<00:00,  2.02s/it]\n"
     ]
    },
    {
     "name": "stdout",
     "output_type": "stream",
     "text": [
      "run_seed5140568\n"
     ]
    },
    {
     "name": "stderr",
     "output_type": "stream",
     "text": [
      "100%|██████████| 20/20 [00:44<00:00,  2.22s/it]\n"
     ]
    },
    {
     "name": "stdout",
     "output_type": "stream",
     "text": [
      "run_seed5381445\n"
     ]
    },
    {
     "name": "stderr",
     "output_type": "stream",
     "text": [
      "100%|██████████| 20/20 [00:39<00:00,  1.99s/it]\n"
     ]
    },
    {
     "name": "stdout",
     "output_type": "stream",
     "text": [
      "run_seed5397326\n"
     ]
    },
    {
     "name": "stderr",
     "output_type": "stream",
     "text": [
      "100%|██████████| 20/20 [00:45<00:00,  2.30s/it]\n"
     ]
    },
    {
     "name": "stdout",
     "output_type": "stream",
     "text": [
      "run_seed6623146\n"
     ]
    },
    {
     "name": "stderr",
     "output_type": "stream",
     "text": [
      "100%|██████████| 20/20 [00:44<00:00,  2.24s/it]\n"
     ]
    },
    {
     "name": "stdout",
     "output_type": "stream",
     "text": [
      "run_seed7892276\n"
     ]
    },
    {
     "name": "stderr",
     "output_type": "stream",
     "text": [
      "100%|██████████| 20/20 [00:46<00:00,  2.31s/it]\n"
     ]
    },
    {
     "name": "stdout",
     "output_type": "stream",
     "text": [
      "run_seed9300610\n"
     ]
    },
    {
     "name": "stderr",
     "output_type": "stream",
     "text": [
      "100%|██████████| 20/20 [00:46<00:00,  2.33s/it]\n"
     ]
    }
   ],
   "source": [
    "from tqdm import tqdm\n",
    "\n",
    "SEEDS = ['run_seed1257804', 'run_seed1394398', 'run_seed1932160', 'run_seed2544501',\n",
    "         'run_seed5140568', 'run_seed5381445', 'run_seed5397326', 'run_seed6623146',\n",
    "         'run_seed7892276', 'run_seed9300610']\n",
    "outdir = '../results/seedrun_evol-2022-02-20/evalmockAllStates_EVOL'\n",
    "\n",
    "for seed in SEEDS:\n",
    "    print(seed)\n",
    "    model_dir = outdir + '/{}/'.format(seed)\n",
    "    \n",
    "    if not os.path.isdir(os.path.join(model_dir, 'step_0')):\n",
    "        model_dir = os.path.join(model_dir, 'continue_1', 'evalmockAllStates')\n",
    "\n",
    "    all_activations = []\n",
    "    for step in tqdm(range(20)):\n",
    "        wdir = os.path.join(model_dir, 'step_{}/'.format(step))\n",
    "        activations = get_activations(wdir)\n",
    "        all_activations.extend(activations)\n",
    "\n",
    "    assert len(all_activations) == 160000\n",
    "\n",
    "    with open(os.path.join(outdir, 'activations_EVOL', 'all_activations_{}.json'.format(seed)), 'w') as out:\n",
    "        for act in all_activations:\n",
    "            out.write(json.dumps(act) + '\\n')\n"
   ]
  },
  {
   "cell_type": "code",
   "execution_count": null,
   "id": "dc52cf92",
   "metadata": {},
   "outputs": [],
   "source": []
  },
  {
   "cell_type": "markdown",
   "id": "9bfaa822",
   "metadata": {},
   "source": [
    "### For INIT\n"
   ]
  },
  {
   "cell_type": "code",
   "execution_count": 5,
   "id": "cfde9f85",
   "metadata": {},
   "outputs": [
    {
     "name": "stdout",
     "output_type": "stream",
     "text": [
      "run_seed1394398\n"
     ]
    },
    {
     "name": "stderr",
     "output_type": "stream",
     "text": [
      "100%|██████████| 20/20 [00:53<00:00,  2.68s/it]\n"
     ]
    },
    {
     "name": "stdout",
     "output_type": "stream",
     "text": [
      "run_seed5397326\n"
     ]
    },
    {
     "name": "stderr",
     "output_type": "stream",
     "text": [
      "100%|██████████| 20/20 [00:51<00:00,  2.60s/it]\n"
     ]
    }
   ],
   "source": [
    "from tqdm import tqdm\n",
    "\n",
    "SEEDS = ['run_seed1394398', 'run_seed5397326']\n",
    "basedir = '../results/seedrun_m1-2022-01-16'\n",
    "outdir = basedir + '/evalmockAllStates_STDP-RL/activations_INIT'\n",
    "outdir\n",
    "\n",
    "for seed in SEEDS:\n",
    "    print(seed)\n",
    "    model_dir = '{}/{}/atinit_evalmockAllStates'.format(basedir, seed)\n",
    "\n",
    "    all_activations = []\n",
    "    for step in tqdm(range(20)):\n",
    "        wdir = os.path.join(model_dir, 'step_{}/'.format(step))\n",
    "        activations = get_activations(wdir)\n",
    "        all_activations.extend(activations)\n",
    "\n",
    "    assert len(all_activations) == 160000\n",
    "    \n",
    "    with open(os.path.join(outdir, 'all_activations_{}.json'.format(seed)), 'w') as out:\n",
    "        for act in all_activations:\n",
    "            out.write(json.dumps(act) + '\\n')\n"
   ]
  },
  {
   "cell_type": "markdown",
   "id": "78270b83",
   "metadata": {},
   "source": [
    "### STDP-RL without Gain normalization"
   ]
  },
  {
   "cell_type": "code",
   "execution_count": 27,
   "id": "7cf5bacb",
   "metadata": {},
   "outputs": [
    {
     "name": "stdout",
     "output_type": "stream",
     "text": [
      "run_seed1394398\n"
     ]
    },
    {
     "name": "stderr",
     "output_type": "stream",
     "text": [
      "100%|██████████| 20/20 [00:58<00:00,  2.90s/it]\n"
     ]
    }
   ],
   "source": [
    "from tqdm import tqdm\n",
    "\n",
    "seed = 'run_seed1394398'\n",
    "basedir = '../results/seedrun_n2-plast_check/run_seed1394398/continue_1/continue_1/continue_1/continue_1/continue_1'\n",
    "outdir = '../results/seedrun_m1-2022-01-16/evalmockAllStates_STDP-RL/activations_noNorm_STDP-RL'\n",
    "\n",
    "print(seed)\n",
    "model_dir = '{}/evalmockAllStates'.format(basedir)\n",
    "\n",
    "all_activations = []\n",
    "for step in tqdm(range(20)):\n",
    "    wdir = os.path.join(model_dir, 'step_{}/'.format(step))\n",
    "    activations = get_activations(wdir)\n",
    "    all_activations.extend(activations)\n",
    "\n",
    "assert len(all_activations) == 160000\n",
    "\n",
    "with open(os.path.join(outdir, 'all_activations_{}.json'.format(seed)), 'w') as out:\n",
    "    for act in all_activations:\n",
    "        out.write(json.dumps(act) + '\\n')\n"
   ]
  },
  {
   "cell_type": "code",
   "execution_count": null,
   "id": "5d72fa92",
   "metadata": {},
   "outputs": [],
   "source": []
  },
  {
   "cell_type": "markdown",
   "id": "2f104e12",
   "metadata": {},
   "source": [
    "# Analyze the activations results"
   ]
  },
  {
   "cell_type": "code",
   "execution_count": 182,
   "id": "93c01a1c",
   "metadata": {},
   "outputs": [
    {
     "name": "stderr",
     "output_type": "stream",
     "text": [
      "100%|██████████| 10/10 [00:54<00:00,  5.41s/it]\n",
      "100%|██████████| 10/10 [00:54<00:00,  5.49s/it]\n"
     ]
    }
   ],
   "source": [
    "import os\n",
    "import json\n",
    "import numpy as np\n",
    "from tqdm import tqdm\n",
    "\n",
    "SEEDS = ['run_seed1257804', 'run_seed1394398', 'run_seed1932160', 'run_seed2544501',\n",
    "         'run_seed5140568', 'run_seed5397326', 'run_seed5381445', 'run_seed6623146',\n",
    "         'run_seed7892276', 'run_seed9300610']\n",
    "\n",
    "acts_dir_STDPRL = '../results/seedrun_m1-2022-01-16/evalmockAllStates_STDP-RL/activations_STDP-RL/'\n",
    "acts_dir_EVOL = '../results/seedrun_evol-2022-02-20/evalmockAllStates_EVOL/activations_EVOL/'\n",
    "\n",
    "def extract_all_acts(acts_dir, seeds):\n",
    "    acts = {}\n",
    "    for seed in tqdm(SEEDS):\n",
    "        activations = []\n",
    "        with open(os.path.join(acts_dir,'all_activations_{}.json'.format(seed))) as f:\n",
    "            for idx, line in enumerate(f):\n",
    "                j = json.loads(line)\n",
    "                ins = np.array(sorted(np.unique(j['es']).tolist()))\n",
    "                code = sum((ins - np.array([0, 20, 40, 60])) * np.array([1, 20, 400, 8000]))\n",
    "\n",
    "                assert code == idx, 'code: {}, idx: {}, ins: {}'.format(code, idx, ins)\n",
    "                activations.append(j['move'])\n",
    "        acts[seed] = activations\n",
    "    return acts\n",
    "\n",
    "actsRL = extract_all_acts(acts_dir_STDPRL, SEEDS)\n",
    "actsEV = extract_all_acts(acts_dir_EVOL, SEEDS)\n"
   ]
  },
  {
   "cell_type": "code",
   "execution_count": 135,
   "id": "444dd83d",
   "metadata": {},
   "outputs": [
    {
     "name": "stdout",
     "output_type": "stream",
     "text": [
      "[{'seed': 'run_seed5397326', 'median': 53.0}, {'seed': 'run_seed7892276', 'median': 58.0}, {'seed': 'run_seed1932160', 'median': 63.0}, {'seed': 'run_seed6623146', 'median': 69.0}, {'seed': 'run_seed9300610', 'median': 76.0}, {'seed': 'run_seed5381445', 'median': 77.0}, {'seed': 'run_seed2544501', 'median': 78.0}, {'seed': 'run_seed5140568', 'median': 103.0}, {'seed': 'run_seed1257804', 'median': 114.0}, {'seed': 'run_seed1394398', 'median': 130.5}]\n"
     ]
    }
   ],
   "source": [
    "import csv\n",
    "\n",
    "order = []\n",
    "\n",
    "with open('seed-medians_STDPRL.csv') as f:\n",
    "    for row in csv.DictReader(f):\n",
    "        order.append({\n",
    "            'seed': row['seed'],\n",
    "            'median': float(row['median on STDP-RL'])})\n",
    "\n",
    "order = sorted(order, key=lambda x:x['median'])\n",
    "        \n",
    "print(order)"
   ]
  },
  {
   "cell_type": "code",
   "execution_count": 142,
   "id": "8f2c03d7",
   "metadata": {},
   "outputs": [],
   "source": [
    "from collections import Counter\n",
    "\n",
    "counts_per_seed = {}\n",
    "for seed,act_list in acts.items(): \n",
    "    counts_per_seed[seed] = Counter(act_list)\n",
    "    \n",
    "lefts = [counts_per_seed[s['seed']]['L'] for s in order]\n",
    "rights = [counts_per_seed[s['seed']]['R'] for s in order]\n",
    "unks = [counts_per_seed[s['seed']]['U'] for s in order]"
   ]
  },
  {
   "cell_type": "code",
   "execution_count": 143,
   "id": "1ac74437",
   "metadata": {},
   "outputs": [
    {
     "data": {
      "text/plain": [
       "[70318, 73401, 95368, 70186, 78192, 79667, 56525, 78669, 63983, 74386]"
      ]
     },
     "execution_count": 143,
     "metadata": {},
     "output_type": "execute_result"
    }
   ],
   "source": [
    "lefts"
   ]
  },
  {
   "cell_type": "code",
   "execution_count": null,
   "id": "cdaf53e6",
   "metadata": {},
   "outputs": [],
   "source": []
  },
  {
   "cell_type": "code",
   "execution_count": 152,
   "id": "4d8a1e98",
   "metadata": {},
   "outputs": [
    {
     "data": {
      "image/png": "[encoded data removed]",
      "text/plain": [
       "<Figure size 432x288 with 1 Axes>"
      ]
     },
     "metadata": {
      "needs_background": "light"
     },
     "output_type": "display_data"
    }
   ],
   "source": [
    "\n",
    "\n",
    "fig, ax = plt.subplots()\n",
    "\n",
    "labels = [s['seed'].replace('run_', '') for s in order]\n",
    "\n",
    "width = 0.35\n",
    "ax.bar(labels, lefts, width, label='Left')\n",
    "ax.bar(labels, rights, width, bottom=lefts, label='Right')\n",
    "ax.bar(labels, unks, width, bottom=np.array(lefts) + np.array(rights), label='Undecided')\n",
    "\n",
    "ax.grid(alpha=0.4, axis='y')\n",
    "ax.set_xticklabels(labels, rotation=90)\n",
    "ax.set_ylabel('Count')\n",
    "ax.set_title('Distribution of moves')\n",
    "ax.legend()\n",
    "\n",
    "plt.show()"
   ]
  },
  {
   "cell_type": "code",
   "execution_count": 188,
   "id": "92c1cad2",
   "metadata": {},
   "outputs": [
    {
     "data": {
      "text/plain": [
       "0.6390875"
      ]
     },
     "execution_count": 188,
     "metadata": {},
     "output_type": "execute_result"
    }
   ],
   "source": [
    "np.min(agreement[agreement > 0])\n",
    "np.max(agreement[agreement > 0])"
   ]
  },
  {
   "cell_type": "code",
   "execution_count": null,
   "id": "15038ae0",
   "metadata": {},
   "outputs": [],
   "source": []
  },
  {
   "cell_type": "code",
   "execution_count": 272,
   "id": "2bfc6e62",
   "metadata": {},
   "outputs": [],
   "source": [
    "import seaborn as sns\n",
    "\n",
    "def compute_agreement(acts, order, inspace=None):\n",
    "    agreement = np.zeros((len(order),len(order)))\n",
    "    for i1,s1 in enumerate(order):\n",
    "        for i2,s2 in enumerate(order):\n",
    "            if i1 <= i2:\n",
    "                agreement[i1][i2]= np.nan\n",
    "                continue\n",
    "            if inspace == None:\n",
    "                agreement[i1][i2] = sum([a1 == a2 for a1, a2 in zip(acts[s1], acts[s2])]) / len(acts[s1])\n",
    "            else:\n",
    "                steps_same = [a1 == a2\n",
    "                    for j,(a1, a2) in enumerate(zip(acts[s1], acts[s2]))\n",
    "                    if j in inspace]\n",
    "                total_steps = len([j for j,_ in enumerate(acts[s1]) if j in inspace])\n",
    "                assert total_steps == len(inspace)\n",
    "                agreement[i1][i2] = sum(steps_same) / total_steps\n",
    "    return agreement\n",
    "\n",
    "agreeEV = compute_agreement(actsEV, [s['seed'] for s in order])\n",
    "agreeRL = compute_agreement(actsRL, [s['seed'] for s in order])\n"
   ]
  },
  {
   "cell_type": "code",
   "execution_count": 198,
   "id": "8c5239ce",
   "metadata": {},
   "outputs": [
    {
     "data": {
      "image/png": "[encoded data removed]",
      "text/plain": [
       "<Figure size 432x288 with 2 Axes>"
      ]
     },
     "metadata": {
      "needs_background": "light"
     },
     "output_type": "display_data"
    },
    {
     "data": {
      "image/png": "[encoded data removed]",
      "text/plain": [
       "<Figure size 432x288 with 2 Axes>"
      ]
     },
     "metadata": {
      "needs_background": "light"
     },
     "output_type": "display_data"
    }
   ],
   "source": [
    "\n",
    "lbls =[s['seed'].replace('run_seed', 's')[:4] for s in order]\n",
    "ax = sns.heatmap(agreeRL, xticklabels=lbls, yticklabels=lbls)\n",
    "ax.set_title('Similarity of movements for STDP-RL models')\n",
    "plt.show()\n",
    "\n",
    "lbls =[s['seed'].replace('run_seed', 's')[:4] for s in order]\n",
    "ax = sns.heatmap(agreeEV, xticklabels=lbls, yticklabels=lbls)\n",
    "ax.set_title('Similarity of movements for EVOL models')\n",
    "plt.show()\n"
   ]
  },
  {
   "cell_type": "code",
   "execution_count": 212,
   "id": "f9516d76",
   "metadata": {},
   "outputs": [],
   "source": [
    "actsAll = {}\n",
    "for k,v in actsRL.items():\n",
    "    actsAll['RL' + k] = v\n",
    "for k,v in actsEV.items():\n",
    "    actsAll['EV' + k] = v\n",
    "\n",
    "orderAll = [t + s['seed'] for t in ['RL', 'EV'] for s in order ]\n",
    "agreeAll = compute_agreement(actsAll, orderAll)"
   ]
  },
  {
   "cell_type": "code",
   "execution_count": 214,
   "id": "4104c21a",
   "metadata": {},
   "outputs": [
    {
     "data": {
      "image/png": "[encoded data removed]",
      "text/plain": [
       "<Figure size 432x288 with 2 Axes>"
      ]
     },
     "metadata": {
      "needs_background": "light"
     },
     "output_type": "display_data"
    }
   ],
   "source": [
    "\n",
    "lbls =[s.replace('run_seed', 's')[:6] for s in orderAll]\n",
    "ax = sns.heatmap(agreeAll, xticklabels=lbls, yticklabels=lbls)\n",
    "ax.set_title('Similarity of movements for ALL models')\n",
    "plt.show()"
   ]
  },
  {
   "cell_type": "code",
   "execution_count": null,
   "id": "1fa22259",
   "metadata": {},
   "outputs": [],
   "source": []
  },
  {
   "cell_type": "markdown",
   "id": "c9cc18db",
   "metadata": {},
   "source": [
    "## Look at observations"
   ]
  },
  {
   "cell_type": "code",
   "execution_count": 236,
   "id": "a54c4937",
   "metadata": {},
   "outputs": [],
   "source": [
    "with open('all_observations.json') as f:\n",
    "    obs_map = json.load(f)\n",
    "\n",
    "    \n",
    "all_obs = [o for _,obs in obs_map.items() for o in obs]\n",
    "obs_freq = Counter(all_obs)\n",
    "\n",
    "all_unique_obs = sorted(list(np.unique(all_obs)))\n",
    "uni_obs = {k:True for k in all_unique_obs}"
   ]
  },
  {
   "cell_type": "code",
   "execution_count": 250,
   "id": "49e3ef91",
   "metadata": {},
   "outputs": [
    {
     "data": {
      "image/png": "[encoded data removed]",
      "text/plain": [
       "<Figure size 432x288 with 2 Axes>"
      ]
     },
     "metadata": {
      "needs_background": "light"
     },
     "output_type": "display_data"
    }
   ],
   "source": [
    "freqs = [v for k,v in sorted(list(obs_freq.items()), key=lambda x:x[1], reverse=True)]\n",
    "cs_freqs = np.cumsum(freqs) / sum(freqs)\n",
    "\n",
    "\n",
    "fig, ax1 = plt.subplots()\n",
    "\n",
    "color = 'tab:blue'\n",
    "ax1.tick_params(axis='y', labelcolor=color)\n",
    "ax1.plot(freqs, color=color)\n",
    "ax1.set_ylabel('Count', color=color)\n",
    "ax1.set_xlabel('input space')\n",
    "\n",
    "ax2 = ax1.twinx()  # instantiate a second axes that shares the same x-axis\n",
    "\n",
    "color = 'tab:red'\n",
    "ax2.plot(cs_freqs, color=color)\n",
    "\n",
    "ax2.set_ylabel('Cumulative actions of total', color=color)  # we already handled the x-label with ax1\n",
    "ax2.tick_params(axis='y', labelcolor=color)\n",
    "\n",
    "plt.title('Frequency of input space')\n",
    "plt.grid(alpha=0.4)\n",
    "\n",
    "plt.show()"
   ]
  },
  {
   "cell_type": "code",
   "execution_count": null,
   "id": "7c5c42ff",
   "metadata": {},
   "outputs": [],
   "source": []
  },
  {
   "cell_type": "code",
   "execution_count": 273,
   "id": "8355836a",
   "metadata": {},
   "outputs": [],
   "source": [
    "\n",
    "agreeEVinSpace = compute_agreement(actsEV, [s['seed'] for s in order], uni_obs)\n",
    "agreeRLinSpace = compute_agreement(actsRL, [s['seed'] for s in order], uni_obs)"
   ]
  },
  {
   "cell_type": "code",
   "execution_count": 274,
   "id": "01e4f72b",
   "metadata": {},
   "outputs": [
    {
     "data": {
      "image/png": "[encoded data removed]",
      "text/plain": [
       "<Figure size 432x288 with 2 Axes>"
      ]
     },
     "metadata": {
      "needs_background": "light"
     },
     "output_type": "display_data"
    },
    {
     "data": {
      "image/png": "[encoded data removed]",
      "text/plain": [
       "<Figure size 432x288 with 2 Axes>"
      ]
     },
     "metadata": {
      "needs_background": "light"
     },
     "output_type": "display_data"
    }
   ],
   "source": [
    "\n",
    "lbls =[s['seed'].replace('run_seed', 's')[:4] for s in order]\n",
    "ax = sns.heatmap(agreeRLinSpace, xticklabels=lbls, yticklabels=lbls)\n",
    "ax.set_title('Similarity of movements for STDP-RL models for explored inputs only')\n",
    "plt.show()\n",
    "\n",
    "lbls =[s['seed'].replace('run_seed', 's')[:4] for s in order]\n",
    "ax = sns.heatmap(agreeEVinSpace, xticklabels=lbls, yticklabels=lbls)\n",
    "ax.set_title('Similarity of movements for EVOL models for explored inputs only')\n",
    "plt.show()\n"
   ]
  },
  {
   "cell_type": "code",
   "execution_count": 257,
   "id": "1235ffac",
   "metadata": {},
   "outputs": [],
   "source": [
    "cumsteps_explained = 0.5 # number of total steps explained\n",
    "\n",
    "freqs = [v for k,v in sorted(list(obs_freq.items()), key=lambda x:x[1], reverse=True)]\n",
    "count_of_inspace = np.where((np.cumsum(freqs) / sum(freqs)) > cumsteps_explained)[0][0]\n",
    "most_common = [k for k,v in sorted(list(obs_freq.items()), key=lambda x:x[1], reverse=True)[:count_of_inspace]]\n",
    "uni_obs_mc = {k:True for k in most_common}"
   ]
  },
  {
   "cell_type": "code",
   "execution_count": 255,
   "id": "8251633b",
   "metadata": {},
   "outputs": [
    {
     "data": {
      "text/plain": [
       "1112"
      ]
     },
     "execution_count": 255,
     "metadata": {},
     "output_type": "execute_result"
    }
   ],
   "source": [
    "len(most_common)"
   ]
  },
  {
   "cell_type": "code",
   "execution_count": 275,
   "id": "767c4520",
   "metadata": {},
   "outputs": [],
   "source": [
    "\n",
    "agreeEVinSpaceMC = compute_agreement(actsEV, [s['seed'] for s in order], uni_obs_mc)\n",
    "agreeRLinSpaceMc = compute_agreement(actsRL, [s['seed'] for s in order], uni_obs_mc)"
   ]
  },
  {
   "cell_type": "code",
   "execution_count": 277,
   "id": "20060d2c",
   "metadata": {},
   "outputs": [
    {
     "data": {
      "image/png": "[encoded data removed]",
      "text/plain": [
       "<Figure size 432x288 with 2 Axes>"
      ]
     },
     "metadata": {
      "needs_background": "light"
     },
     "output_type": "display_data"
    },
    {
     "data": {
      "image/png": "[encoded data removed]",
      "text/plain": [
       "<Figure size 432x288 with 2 Axes>"
      ]
     },
     "metadata": {
      "needs_background": "light"
     },
     "output_type": "display_data"
    }
   ],
   "source": [
    "\n",
    "lbls =[s['seed'].replace('run_seed', 's')[:4] for s in order]\n",
    "ax = sns.heatmap(agreeRLinSpaceMc, xticklabels=lbls, yticklabels=lbls)\n",
    "ax.set_title('Similarity of movements for STDP-RL models for top ~1000 explored inputs only')\n",
    "plt.show()\n",
    "\n",
    "lbls =[s['seed'].replace('run_seed', 's')[:4] for s in order]\n",
    "ax = sns.heatmap(agreeEVinSpaceMC, xticklabels=lbls, yticklabels=lbls)\n",
    "ax.set_title('Similarity of movements for EVOL models for top ~1000 explored inputs only')\n",
    "plt.show()\n"
   ]
  },
  {
   "cell_type": "code",
   "execution_count": null,
   "id": "871480c3",
   "metadata": {},
   "outputs": [],
   "source": [
    "actsAll = {}\n",
    "for k,v in actsRL.items():\n",
    "    actsAll['RL' + k] = v\n",
    "for k,v in actsEV.items():\n",
    "    actsAll['EV' + k] = v\n",
    "\n",
    "orderAll = [t + s['seed'] for t in ['RL', 'EV'] for s in order ]\n",
    "agreeAll = compute_agreement(actsAll, orderAll, )"
   ]
  },
  {
   "cell_type": "code",
   "execution_count": null,
   "id": "39edace6",
   "metadata": {},
   "outputs": [],
   "source": [
    "\n",
    "lbls =[s.replace('run_seed', 's')[:6] for s in orderAll]\n",
    "ax = sns.heatmap(agreeAll, xticklabels=lbls, yticklabels=lbls)\n",
    "ax.set_title('Similarity of movements for ALL models')\n",
    "plt.show()"
   ]
  },
  {
   "cell_type": "code",
   "execution_count": null,
   "id": "da6be5a3",
   "metadata": {},
   "outputs": [],
   "source": []
  },
  {
   "cell_type": "markdown",
   "id": "f0a34b7e",
   "metadata": {},
   "source": [
    "## Measuring differences in weights between INIT and STDP-RL"
   ]
  },
  {
   "cell_type": "code",
   "execution_count": 24,
   "id": "33feab43",
   "metadata": {},
   "outputs": [
    {
     "name": "stderr",
     "output_type": "stream",
     "text": [
      "processing: 160000it [00:15, 10462.65it/s]\n",
      "aggregating: 160000it [00:03, 41384.74it/s]\n"
     ]
    }
   ],
   "source": [
    "import numpy as np\n",
    "\n",
    "seed = 'run_seed1394398'\n",
    "# seed = 'run_seed5397326'\n",
    "\n",
    "path_init = '../results/seedrun_m1-2022-01-16/evalmockAllStates_STDP-RL/activations_INIT/all_activations_{}.json'.format(seed)\n",
    "path_stdp = '../results/seedrun_m1-2022-01-16/evalmockAllStates_STDP-RL/activations_STDP-RL/all_activations_{}.json'.format(seed)\n",
    "\n",
    "def read_acts(p):\n",
    "    acts = []\n",
    "    with open(p) as f:\n",
    "        for line in f:\n",
    "            acts.append(json.loads(line))\n",
    "    return acts\n",
    "\n",
    "init_acts = read_acts(path_init)\n",
    "stdp_acts = read_acts(path_stdp)\n",
    "\n",
    "assert len(init_acts) == len(stdp_acts)\n",
    "\n",
    "def get_ins(a):\n",
    "    return sorted(list(set(a)))\n",
    "\n",
    "diffs = []\n",
    "mi_s = []\n",
    "mi_i = []\n",
    "\n",
    "for a_i, a_s in tqdm(zip(init_acts, stdp_acts), desc='processing'):\n",
    "    in1 = get_ins(a_i['es'])\n",
    "    in2 = get_ins(a_s['es'])\n",
    "    assert len(in1) == len(in2) and sum([0 if i1 == i2 else 1 for i1, i2 in zip(in1, in2)]) == 0\n",
    "    r_i = get_ins(a_i['rest'])\n",
    "    r_s = get_ins(a_s['rest'])\n",
    "    r_both = get_ins(a_i['rest'] + a_s['rest'])\n",
    "    \n",
    "    diffs.append([])\n",
    "    mi_s.append([])\n",
    "    mi_i.append([])\n",
    "    for r in r_both:\n",
    "        if r not in r_i or r not in r_s:\n",
    "            diffs[-1].append(r)\n",
    "        if r not in r_i:\n",
    "            mi_i[-1].append(r)\n",
    "        if r not in r_s:\n",
    "            mi_s[-1].append(r)\n",
    "            \n",
    "\n",
    "cnts = np.zeros(200)\n",
    "cnts_mi_s = np.zeros(200)\n",
    "cnts_mi_i = np.zeros(200)\n",
    "\n",
    "for d1,d2,d3 in tqdm(zip(diffs, mi_s, mi_i), desc='aggregating'):\n",
    "    for nid in d1:\n",
    "        cnts[nid] += 1\n",
    "    for nid in d2:\n",
    "        cnts_mi_s[nid] += 1\n",
    "    for nid in d3:\n",
    "        cnts_mi_i[nid] += 1\n"
   ]
  },
  {
   "cell_type": "code",
   "execution_count": 26,
   "id": "14da2104",
   "metadata": {},
   "outputs": [
    {
     "data": {
      "image/png": "[encoded data removed]",
      "text/plain": [
       "<Figure size 432x288 with 1 Axes>"
      ]
     },
     "metadata": {
      "needs_background": "light"
     },
     "output_type": "display_data"
    }
   ],
   "source": [
    "import matplotlib.pyplot as plt\n",
    "\n",
    "plt.plot(cnts)\n",
    "plt.plot(cnts_mi_s)\n",
    "plt.plot(cnts_mi_i)\n",
    "plt.legend(['total', 'INIT only', 'STDP-RL only'])\n",
    "plt.xlabel('neuron id')\n",
    "plt.ylabel('changes counts')\n",
    "plt.title('Neuron activations differences for INIT and STDP-RL models \\n for {}'.format(seed))\n",
    "plt.show()"
   ]
  },
  {
   "cell_type": "code",
   "execution_count": 21,
   "id": "434207fb",
   "metadata": {},
   "outputs": [
    {
     "data": {
      "image/png": "[encoded data removed]",
      "text/plain": [
       "<Figure size 432x288 with 1 Axes>"
      ]
     },
     "metadata": {
      "needs_background": "light"
     },
     "output_type": "display_data"
    }
   ],
   "source": [
    "import matplotlib.pyplot as plt\n",
    "\n",
    "plt.plot(cnts)\n",
    "plt.xlabel('neuron id')\n",
    "plt.ylabel('changes counts')\n",
    "plt.title('Neuron activations differences for INIT and STDP-RL models \\n for {}'.format(seed))\n",
    "plt.show()"
   ]
  },
  {
   "cell_type": "code",
   "execution_count": 12,
   "id": "71a076f9",
   "metadata": {},
   "outputs": [],
   "source": []
  },
  {
   "cell_type": "code",
   "execution_count": 22,
   "id": "339c7a3e",
   "metadata": {},
   "outputs": [
    {
     "name": "stderr",
     "output_type": "stream",
     "text": [
      "processing: 160000it [00:08, 19275.19it/s]\n",
      "aggregating: 100%|██████████| 160000/160000 [00:02<00:00, 56466.37it/s]\n"
     ]
    }
   ],
   "source": [
    "import numpy as np\n",
    "\n",
    "seed1 = 'run_seed1394398'\n",
    "seed2 = 'run_seed5397326'\n",
    "\n",
    "# here we call stdp but its not really, its just the other init\n",
    "path_init = '../results/seedrun_m1-2022-01-16/evalmockAllStates_STDP-RL/activations_INIT/all_activations_{}.json'.format(seed1)\n",
    "path_stdp = '../results/seedrun_m1-2022-01-16/evalmockAllStates_STDP-RL/activations_INIT/all_activations_{}.json'.format(seed2)\n",
    "# path_stdp = '../results/seedrun_m1-2022-01-16/evalmockAllStates_STDP-RL/activations_STDP-RL/all_activations_{}.json'.format(seed)\n",
    "\n",
    "def read_acts(p):\n",
    "    acts = []\n",
    "    with open(p) as f:\n",
    "        for line in f:\n",
    "            acts.append(json.loads(line))\n",
    "    return acts\n",
    "\n",
    "init_acts = read_acts(path_init)\n",
    "stdp_acts = read_acts(path_stdp)\n",
    "\n",
    "assert len(init_acts) == len(stdp_acts)\n",
    "\n",
    "def get_ins(a):\n",
    "    return sorted(list(set(a)))\n",
    "\n",
    "diffs = []\n",
    "\n",
    "for a_i, a_s in tqdm(zip(init_acts, stdp_acts), desc='processing'):\n",
    "    in1 = get_ins(a_i['es'])\n",
    "    in2 = get_ins(a_s['es'])\n",
    "    assert len(in1) == len(in2) and sum([0 if i1 == i2 else 1 for i1, i2 in zip(in1, in2)]) == 0\n",
    "    r_i = get_ins(a_i['rest'])\n",
    "    r_s = get_ins(a_s['rest'])\n",
    "    r_both = get_ins(a_i['rest'] + a_s['rest'])\n",
    "    \n",
    "    diffs.append([])\n",
    "    for r in r_both:\n",
    "        if r not in r_i or r not in r_s:\n",
    "            diffs[-1].append(r)\n",
    "            \n",
    "\n",
    "cnts = np.zeros(200)\n",
    "\n",
    "for d in tqdm(diffs, desc='aggregating'):\n",
    "    for nid in d:\n",
    "        cnts[nid] += 1\n"
   ]
  },
  {
   "cell_type": "code",
   "execution_count": 23,
   "id": "835e234a",
   "metadata": {},
   "outputs": [
    {
     "data": {
      "image/png": "[encoded data removed]",
      "text/plain": [
       "<Figure size 432x288 with 1 Axes>"
      ]
     },
     "metadata": {
      "needs_background": "light"
     },
     "output_type": "display_data"
    }
   ],
   "source": [
    "import matplotlib.pyplot as plt\n",
    "\n",
    "plt.plot(cnts)\n",
    "plt.xlabel('neuron id')\n",
    "plt.ylabel('changes counts')\n",
    "plt.title('Neuron activations differences for INIT models \\n for {} vs {}'.format(seed1, seed2))\n",
    "plt.show()"
   ]
  },
  {
   "cell_type": "code",
   "execution_count": null,
   "id": "926a431c",
   "metadata": {},
   "outputs": [],
   "source": []
  },
  {
   "cell_type": "code",
   "execution_count": null,
   "id": "9718e9dc",
   "metadata": {},
   "outputs": [],
   "source": []
  },
  {
   "cell_type": "markdown",
   "id": "1c1a44cf",
   "metadata": {},
   "source": [
    "### Check differences without Gain normalization"
   ]
  },
  {
   "cell_type": "code",
   "execution_count": 28,
   "id": "efb5b422",
   "metadata": {},
   "outputs": [
    {
     "name": "stderr",
     "output_type": "stream",
     "text": [
      "processing: 160000it [00:12, 12521.73it/s]\n",
      "aggregating: 160000it [00:02, 62299.65it/s]\n"
     ]
    }
   ],
   "source": [
    "import numpy as np\n",
    "\n",
    "seed = 'run_seed1394398'\n",
    "# seed = 'run_seed5397326'\n",
    "\n",
    "path_init = '../results/seedrun_m1-2022-01-16/evalmockAllStates_STDP-RL/activations_INIT/all_activations_{}.json'.format(seed)\n",
    "path_stdp = '../results/seedrun_m1-2022-01-16/evalmockAllStates_STDP-RL/activations_noNorm_STDP-RL/all_activations_{}.json'.format(seed)\n",
    "\n",
    "def read_acts(p):\n",
    "    acts = []\n",
    "    with open(p) as f:\n",
    "        for line in f:\n",
    "            acts.append(json.loads(line))\n",
    "    return acts\n",
    "\n",
    "init_acts = read_acts(path_init)\n",
    "stdp_acts = read_acts(path_stdp)\n",
    "\n",
    "assert len(init_acts) == len(stdp_acts)\n",
    "\n",
    "def get_ins(a):\n",
    "    return sorted(list(set(a)))\n",
    "\n",
    "diffs = []\n",
    "mi_s = []\n",
    "mi_i = []\n",
    "\n",
    "for a_i, a_s in tqdm(zip(init_acts, stdp_acts), desc='processing'):\n",
    "    in1 = get_ins(a_i['es'])\n",
    "    in2 = get_ins(a_s['es'])\n",
    "    assert len(in1) == len(in2) and sum([0 if i1 == i2 else 1 for i1, i2 in zip(in1, in2)]) == 0\n",
    "    r_i = get_ins(a_i['rest'])\n",
    "    r_s = get_ins(a_s['rest'])\n",
    "    r_both = get_ins(a_i['rest'] + a_s['rest'])\n",
    "    \n",
    "    diffs.append([])\n",
    "    mi_s.append([])\n",
    "    mi_i.append([])\n",
    "    for r in r_both:\n",
    "        if r not in r_i or r not in r_s:\n",
    "            diffs[-1].append(r)\n",
    "        if r not in r_i:\n",
    "            mi_i[-1].append(r)\n",
    "        if r not in r_s:\n",
    "            mi_s[-1].append(r)\n",
    "            \n",
    "\n",
    "cnts = np.zeros(200)\n",
    "cnts_mi_s = np.zeros(200)\n",
    "cnts_mi_i = np.zeros(200)\n",
    "\n",
    "for d1,d2,d3 in tqdm(zip(diffs, mi_s, mi_i), desc='aggregating'):\n",
    "    for nid in d1:\n",
    "        cnts[nid] += 1\n",
    "    for nid in d2:\n",
    "        cnts_mi_s[nid] += 1\n",
    "    for nid in d3:\n",
    "        cnts_mi_i[nid] += 1\n"
   ]
  },
  {
   "cell_type": "code",
   "execution_count": 29,
   "id": "427bcc32",
   "metadata": {},
   "outputs": [
    {
     "data": {
      "image/png": "[encoded data removed]",
      "text/plain": [
       "<Figure size 432x288 with 1 Axes>"
      ]
     },
     "metadata": {
      "needs_background": "light"
     },
     "output_type": "display_data"
    }
   ],
   "source": [
    "import matplotlib.pyplot as plt\n",
    "\n",
    "plt.plot(cnts)\n",
    "plt.plot(cnts_mi_s)\n",
    "plt.plot(cnts_mi_i)\n",
    "plt.legend(['total', 'INIT only', 'STDP-RL only'])\n",
    "plt.xlabel('neuron id')\n",
    "plt.ylabel('changes counts')\n",
    "plt.title('Neuron activations differences for INIT and STDP-RL models \\n for {}'.format(seed))\n",
    "plt.show()"
   ]
  },
  {
   "cell_type": "code",
   "execution_count": null,
   "id": "222d8c0d",
   "metadata": {},
   "outputs": [],
   "source": []
  },
  {
   "cell_type": "code",
   "execution_count": null,
   "id": "d5a111e5",
   "metadata": {},
   "outputs": [],
   "source": []
  }
 ],
 "metadata": {
  "kernelspec": {
   "display_name": "Python 3",
   "language": "python",
   "name": "python3"
  },
  "language_info": {
   "codemirror_mode": {
    "name": "ipython",
    "version": 3
   },
   "file_extension": ".py",
   "mimetype": "text/x-python",
   "name": "python",
   "nbconvert_exporter": "python",
   "pygments_lexer": "ipython3",
   "version": "3.7.9"
  }
 },
 "nbformat": 4,
 "nbformat_minor": 5
}
