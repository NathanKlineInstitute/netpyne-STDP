{
 "cells": [
  {
   "cell_type": "code",
   "execution_count": 6,
   "id": "4e95c1f5",
   "metadata": {},
   "outputs": [],
   "source": [
    "import json\n",
    "\n",
    "with open('../config.json') as f:\n",
    "    J = json.load(f)\n"
   ]
  },
  {
   "cell_type": "code",
   "execution_count": 13,
   "id": "9aec050a",
   "metadata": {},
   "outputs": [],
   "source": [
    "from neurosim.utils.conns import getconv\n",
    "\n",
    "table = []\n",
    "\n",
    "gain = J['net']['Gain']\n",
    "def _get_gain(pre, post):\n",
    "    return gain[pre[0] + post[0]]\n",
    "\n",
    "for pre,premap in J['net']['cmat'].items():\n",
    "    for post, postmap in premap.items():\n",
    "        npre = J['net']['allpops'][pre]\n",
    "        conv = getconv(J['net']['cmat'], pre, post, npre)\n",
    "        if conv > 0:\n",
    "            for k in ['AM2', 'NM2', 'GA', 'GA2']:\n",
    "                if k in postmap:\n",
    "                    table.append([pre,post,conv, k, round(postmap[k] * _get_gain(pre,post), 5)])\n",
    "                    \n"
   ]
  },
  {
   "cell_type": "code",
   "execution_count": 16,
   "id": "4da72af0",
   "metadata": {},
   "outputs": [],
   "source": [
    "import pandas as pd\n",
    "\n",
    "cols = ['Pre-synaptic population', 'Post-synaptic population', 'Convergence', 'Synapse Type', 'Synaptic Plasticity']\n",
    "df = pd.DataFrame(table, columns=cols)\n",
    "\n",
    "df.to_csv('conn_table.csv')"
   ]
  },
  {
   "cell_type": "code",
   "execution_count": null,
   "id": "4511fa26",
   "metadata": {},
   "outputs": [],
   "source": []
  }
 ],
 "metadata": {
  "kernelspec": {
   "display_name": "Python 3",
   "language": "python",
   "name": "python3"
  },
  "language_info": {
   "codemirror_mode": {
    "name": "ipython",
    "version": 3
   },
   "file_extension": ".py",
   "mimetype": "text/x-python",
   "name": "python",
   "nbconvert_exporter": "python",
   "pygments_lexer": "ipython3",
   "version": "3.7.9"
  }
 },
 "nbformat": 4,
 "nbformat_minor": 5
}
