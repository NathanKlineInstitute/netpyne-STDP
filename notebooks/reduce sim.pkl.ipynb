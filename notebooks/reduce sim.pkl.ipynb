{
 "cells": [
  {
   "cell_type": "code",
   "execution_count": 3,
   "id": "ece1d5f2",
   "metadata": {},
   "outputs": [],
   "source": [
    "import pickle as pkl\n",
    "import os\n",
    "\n",
    "wdir = '../results/20210907-ES1500it/'\n",
    "\n",
    "with open(os.path.join(wdir, 'sim.pkl'), 'rb') as f:\n",
    "    sim = pkl.load(f)\n"
   ]
  },
  {
   "cell_type": "code",
   "execution_count": 5,
   "id": "5e58d269",
   "metadata": {},
   "outputs": [
    {
     "data": {
      "text/plain": [
       "dict_keys(['spkt', 'spkid', 'V_soma', 't', 'dminID', 'avgRate'])"
      ]
     },
     "execution_count": 5,
     "metadata": {},
     "output_type": "execute_result"
    }
   ],
   "source": [
    "sim['simData'].keys()"
   ]
  },
  {
   "cell_type": "code",
   "execution_count": 6,
   "id": "329fef0a",
   "metadata": {},
   "outputs": [],
   "source": [
    "del sim['simData']['spkt']\n",
    "del sim['simData']['spkid']\n",
    "del sim['simData']['V_soma']\n",
    "del sim['simData']['t']"
   ]
  },
  {
   "cell_type": "code",
   "execution_count": 7,
   "id": "1aae50fb",
   "metadata": {},
   "outputs": [],
   "source": [
    "with open(os.path.join(wdir, 'sim2.pkl'), 'wb') as out:\n",
    "    pkl.dump(sim, out)\n"
   ]
  },
  {
   "cell_type": "code",
   "execution_count": null,
   "id": "7e4fdfdc",
   "metadata": {},
   "outputs": [],
   "source": []
  }
 ],
 "metadata": {
  "kernelspec": {
   "display_name": "Python 3",
   "language": "python",
   "name": "python3"
  },
  "language_info": {
   "codemirror_mode": {
    "name": "ipython",
    "version": 3
   },
   "file_extension": ".py",
   "mimetype": "text/x-python",
   "name": "python",
   "nbconvert_exporter": "python",
   "pygments_lexer": "ipython3",
   "version": "3.7.9"
  }
 },
 "nbformat": 4,
 "nbformat_minor": 5
}
