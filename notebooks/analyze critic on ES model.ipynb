{
 "cells": [
  {
   "cell_type": "code",
   "execution_count": 1,
   "id": "35a07227",
   "metadata": {},
   "outputs": [],
   "source": [
    "import os\n",
    "import json\n",
    "import csv\n",
    "import gym\n",
    "import fire\n",
    "\n",
    "import matplotlib.pyplot as plt\n",
    "import numpy as np\n",
    "from tqdm import tqdm\n",
    "\n",
    "from neurosim.game_interface import GameInterface\n",
    "from neurosim.critic import Critic\n",
    "from neurosim.conf import now_str\n",
    "\n",
    "critic_config = '../config.json'\n",
    "\n",
    "wdir_e = '../results/20210801-1000it-1eps/500s-evaluation_10'\n",
    "rew_file = os.path.join(wdir_e, 'ActionsRewards.txt')\n",
    "results_file = os.path.join(wdir_e, 'ActionsPerEpisode.txt')\n",
    "motor_file = os.path.join(wdir_e, 'MotorOutputs.txt')\n",
    "config_file = os.path.join(wdir_e, 'backupcfg_sim.json')"
   ]
  },
  {
   "cell_type": "code",
   "execution_count": 2,
   "id": "e8970ae1",
   "metadata": {},
   "outputs": [],
   "source": [
    "with open(critic_config) as f:\n",
    "    config = json.load(f)\n",
    "critic = Critic(config)"
   ]
  },
  {
   "cell_type": "code",
   "execution_count": 3,
   "id": "b43afb31",
   "metadata": {},
   "outputs": [],
   "source": [
    "class MockAIGame:\n",
    "    observations = []\n",
    "    rewards = []\n",
    "    env = None\n",
    "    def __init__(self, env):\n",
    "        self.env = env\n",
    "    \n",
    "\n",
    "\n",
    "with open(config_file) as f:\n",
    "    config = json.load(f)\n",
    "\n",
    "env = gym.make('CartPole-v1')\n",
    "game = MockAIGame(env)\n",
    "gi = GameInterface(game, config)\n",
    "\n",
    "motor = {}\n",
    "with open(motor_file) as f:\n",
    "    for row in csv.reader(f, delimiter='\\t'):\n",
    "        motor[row[0]] = [int(float(i)) for i in row[1:]]\n"
   ]
  },
  {
   "cell_type": "code",
   "execution_count": 62,
   "id": "3a9fb8f4",
   "metadata": {},
   "outputs": [
    {
     "name": "stdout",
     "output_type": "stream",
     "text": [
      "total steps:  10041\n",
      "results: 28\n",
      "steps from results: 10026\n"
     ]
    }
   ],
   "source": [
    "# extract the data\n",
    "\n",
    "steps = []\n",
    "\n",
    "with open(rew_file) as f:\n",
    "    prev_obs = None\n",
    "    prev_fr = None\n",
    "    for row in csv.reader(f, delimiter='\\t'):\n",
    "        t, move, critic_val, obs_space_j = row\n",
    "        obs_space = json.loads(obs_space_j)\n",
    "        game.observations = [obs_space]\n",
    "        fr = gi.input_firing_rates()\n",
    "        frind = (fr > 0).nonzero()[0]\n",
    "        motor_v = motor[t] if len(steps) > 0 else [0,0]\n",
    "        is_unk_move = motor_v[0] == motor_v[1]\n",
    "#         print(type(fr) == np.ndarray)\n",
    "#         break\n",
    "        steps.append({\n",
    "            'move': move,\n",
    "            'is_unk_move': is_unk_move,\n",
    "            'critic_run': float(critic_val),\n",
    "            'critic': critic.calc_reward(np.array(obs_space), np.array(prev_obs), is_unk_move),\n",
    "            'motor': motor_v,\n",
    "            'obs': obs_space,\n",
    "            'fr': list(frind),\n",
    "            'prev_obs': prev_obs,\n",
    "            'prev_fr': list(prev_fr) if type(prev_fr) == np.ndarray else None\n",
    "        })\n",
    "        prev_obs = obs_space\n",
    "        prev_fr = frind\n",
    "        \n",
    "\n",
    "print('total steps: ', len(steps))\n",
    "        \n",
    "results = []\n",
    "with open(results_file) as f:\n",
    "    for row in csv.reader(f, delimiter='\\t'):\n",
    "        results.append(int(float(row[1])))\n",
    "        \n",
    "print('results:', len(results))\n",
    "print('steps from results:', sum(results))"
   ]
  },
  {
   "cell_type": "code",
   "execution_count": 63,
   "id": "cd877f51",
   "metadata": {},
   "outputs": [
    {
     "name": "stdout",
     "output_type": "stream",
     "text": [
      "[481, 254, 500, 500, 500, 500, 272, 500, 341, 500, 251, 299, 356, 183, 111, 500, 500, 455, 498, 433, 196, 322, 239, 276, 277, 171, 195, 416]\n"
     ]
    }
   ],
   "source": [
    "# separate by iteration\n",
    "\n",
    "steps_seq = []\n",
    "\n",
    "idx = 0\n",
    "for r in results:\n",
    "    steps_seq.append(steps[idx:idx+r])\n",
    "    idx += r\n",
    "    \n",
    "print([len(s) for s in steps_seq])"
   ]
  },
  {
   "cell_type": "code",
   "execution_count": 64,
   "id": "32fafc76",
   "metadata": {},
   "outputs": [
    {
     "name": "stdout",
     "output_type": "stream",
     "text": [
      "{'move': '1.0', 'is_unk_move': True, 'critic_run': -1.0, 'critic': -0.7017543859649122, 'motor': [3, 3], 'obs': [1.0908147774095465, 0.06959499994893784, -0.19372380871831854, -1.1532560648896841], 'fr': [17, 31, 40, 61], 'prev_obs': [1.0933639153210244, -0.12745689557389214, -0.17751566546633354, -0.8104071625992497], 'prev_fr': [17, 28, 40, 62]}\n",
      "{'move': '0.0', 'is_unk_move': False, 'critic_run': -0.24174, 'critic': 1.2209585265709144, 'motor': [5, 4], 'obs': [-1.8801297761164417, -0.4744682985550732, -0.19931287814305954, -0.820616480409647], 'fr': [0, 24, 40, 62], 'prev_obs': [-1.8744877752194355, -0.28210004485031054, -0.17826360151889317, -1.0524638312083179], 'prev_fr': [0, 26, 40, 61]}\n"
     ]
    }
   ],
   "source": [
    "for s in steps_seq[:2]:\n",
    "    print(s[-2])"
   ]
  },
  {
   "cell_type": "code",
   "execution_count": 65,
   "id": "da4ac963",
   "metadata": {},
   "outputs": [
    {
     "name": "stdout",
     "output_type": "stream",
     "text": [
      "steps for each 500eps run that are not unk: [434, 452, 475, 466, 436, 467, 442, 462]\n"
     ]
    }
   ],
   "source": [
    "\n",
    "critic_vals = []\n",
    "\n",
    "for steps in steps_seq:\n",
    "    vals = []\n",
    "    if len(steps) == 500:\n",
    "        for j in steps[:-1]:\n",
    "            left, right = j['motor']\n",
    "            if left != right:\n",
    "                vals.append(j['critic'])\n",
    "        critic_vals.append(vals)\n",
    "    \n",
    "print('steps for each 500eps run that are not unk:', [len(cv) for cv in critic_vals])"
   ]
  },
  {
   "cell_type": "code",
   "execution_count": 66,
   "id": "890f8eef",
   "metadata": {},
   "outputs": [
    {
     "data": {
      "image/png": "[encoded data removed]",
      "text/plain": [
       "<Figure size 720x720 with 1 Axes>"
      ]
     },
     "metadata": {
      "needs_background": "light"
     },
     "output_type": "display_data"
    }
   ],
   "source": [
    "import matplotlib.pyplot as plt\n",
    "\n",
    "plt.figure(figsize=(10,10))\n",
    "plt.hist([v for cv in critic_vals for v in cv], bins=30)\n",
    "plt.title('critic on ES best model on {} episodes of 500steps'.format(len(critic_vals)))\n",
    "plt.xlabel('critic value')\n",
    "plt.ylabel('steps count')\n",
    "plt.show()"
   ]
  },
  {
   "cell_type": "code",
   "execution_count": 67,
   "id": "a453f822",
   "metadata": {},
   "outputs": [
    {
     "name": "stdout",
     "output_type": "stream",
     "text": [
      "Magnitude of average critic result 0.547\n",
      "Magnitude of average critic result per episode [0.546, 0.553, 0.542, 0.566, 0.552, 0.556, 0.547, 0.514]\n",
      "--\n",
      "Ratio of reward/punishment 0.515\n",
      "Ratio of reward/punishment per episode [0.518, 0.52, 0.507, 0.511, 0.523, 0.51, 0.527, 0.506]\n"
     ]
    }
   ],
   "source": [
    "import numpy as np\n",
    "\n",
    "print('Magnitude of average critic result', round(np.mean([v for cv in critic_vals for v in cv]), 3))\n",
    "print('Magnitude of average critic result per episode', [round(np.mean(cv), 3) for cv in critic_vals])\n",
    "\n",
    "print('--')\n",
    "\n",
    "print('Ratio of reward/punishment', round(\n",
    "    np.mean([1 if v > 0 else 0 for cv in critic_vals for v in cv]), 3))\n",
    "print('Ratio of reward/punishment per episode', [round(np.mean([1 if v > 0 else 0 for v in cv]), 3) for cv in critic_vals])"
   ]
  },
  {
   "cell_type": "markdown",
   "id": "c59ed9e4",
   "metadata": {},
   "source": [
    "## Investigate lowest values in terms of firing rates and observation space"
   ]
  },
  {
   "cell_type": "code",
   "execution_count": 68,
   "id": "97d285ed",
   "metadata": {},
   "outputs": [
    {
     "name": "stdout",
     "output_type": "stream",
     "text": [
      "1762\n"
     ]
    }
   ],
   "source": [
    "steps_of_500 = []\n",
    "\n",
    "for steps in steps_seq:\n",
    "    vals = []\n",
    "    if len(steps) == 500:\n",
    "        for s in steps:\n",
    "            if s['critic'] < 0 and s['is_unk_move'] == False:\n",
    "                steps_of_500.append(s)\n",
    "\n",
    "print(len(steps_of_500))"
   ]
  },
  {
   "cell_type": "code",
   "execution_count": 82,
   "id": "f7ddda5b",
   "metadata": {},
   "outputs": [
    {
     "name": "stdout",
     "output_type": "stream",
     "text": [
      "len ch_sign 705\n"
     ]
    },
    {
     "data": {
      "image/png": "[encoded data removed]",
      "text/plain": [
       "<Figure size 432x288 with 1 Axes>"
      ]
     },
     "metadata": {
      "needs_background": "light"
     },
     "output_type": "display_data"
    },
    {
     "name": "stdout",
     "output_type": "stream",
     "text": [
      "len no change sign 1057\n"
     ]
    },
    {
     "data": {
      "image/png": "[encoded data removed]",
      "text/plain": [
       "<Figure size 432x288 with 1 Axes>"
      ]
     },
     "metadata": {
      "needs_background": "light"
     },
     "output_type": "display_data"
    }
   ],
   "source": [
    "for s in steps_of_500:\n",
    "    s['obs_angv_ch_sign'] = True if s['obs'][3] * s['prev_obs'][3] < 0 else False\n",
    "\n",
    "plt.hist([s['critic'] for s in steps_of_500 if s['obs_angv_ch_sign']])\n",
    "print('len ch_sign', len([s['critic'] for s in steps_of_500 if s['obs_angv_ch_sign']]))\n",
    "plt.title('ch sign')\n",
    "plt.show()\n",
    "plt.hist([s['critic'] for s in steps_of_500 if not s['obs_angv_ch_sign']])\n",
    "print('len no change sign', len([s['critic'] for s in steps_of_500 if not s['obs_angv_ch_sign']]))\n",
    "plt.title('same sign')\n",
    "plt.show()"
   ]
  },
  {
   "cell_type": "code",
   "execution_count": 69,
   "id": "fd38b7f3",
   "metadata": {},
   "outputs": [],
   "source": [
    "steps_of_500 = sorted(steps_of_500, key=lambda x:x['critic'])"
   ]
  },
  {
   "cell_type": "code",
   "execution_count": 70,
   "id": "f08784c9",
   "metadata": {},
   "outputs": [
    {
     "data": {
      "text/plain": [
       "[-0.6660595207403984,\n",
       " -0.6644879370500689,\n",
       " -0.6643506171342741,\n",
       " -0.6640412012759731,\n",
       " -0.6639915954634559]"
      ]
     },
     "execution_count": 70,
     "metadata": {},
     "output_type": "execute_result"
    }
   ],
   "source": [
    "[(s['critic']) for s in steps_of_500[:5]]"
   ]
  },
  {
   "cell_type": "code",
   "execution_count": 83,
   "id": "1cb19981",
   "metadata": {},
   "outputs": [
    {
     "data": {
      "text/plain": [
       "[(-0.6449346298655143,\n",
       "  [0.0018920799051475763, -0.0006112095513426952],\n",
       "  [0.0018798557141207223, 0.2926680904835014]),\n",
       " (-0.6439026619924432,\n",
       "  [0.0015122691237404269, 0.0007906675647836869],\n",
       "  [0.0015280824750361006, -0.2914147365230429]),\n",
       " (-0.6389238685345867,\n",
       "  [-0.001491349507903814, 0.0029698344146297795],\n",
       "  [-0.0014319528196112183, -0.29018325798857936]),\n",
       " (-0.6385488625198519,\n",
       "  [0.0012789745547587463, 0.002755441348006149],\n",
       "  [0.0013340833817188692, -0.28952367917126437]),\n",
       " (-0.6370554790413532,\n",
       "  [0.0030757589203063993, -0.001737426753739002],\n",
       "  [0.0030410103852316194, 0.29191435027844576]),\n",
       " (-0.635606984276435,\n",
       "  [-0.0026455180408014806, -0.0015431372129323107],\n",
       "  [-0.0026763807850601266, 0.2903039237299515]),\n",
       " (-0.6353337403542072,\n",
       "  [-0.0028330549029811675, -0.0012676438283403257],\n",
       "  [-0.002858407779547974, 0.29052007490540105]),\n",
       " (-0.6352335813245547,\n",
       "  [-0.0024231449489331962, -0.0020806427208104328],\n",
       "  [-0.002464757803349405, 0.2898367684106394]),\n",
       " (-0.6345109020236006,\n",
       "  [-0.0030055273781220805, -0.001219848576441862],\n",
       "  [-0.003029924349650918, 0.29051328439156493]),\n",
       " (-0.6337155243648478,\n",
       "  [0.00393163877135006, -0.0016918344889570447],\n",
       "  [0.003897802081570919, 0.29222897455587044]),\n",
       " (-0.6330988698803418,\n",
       "  [-0.003180694827955157, -0.0013892437696372273],\n",
       "  [-0.003208479703347902, 0.2902884403294533]),\n",
       " (-0.6300377995179439,\n",
       "  [0.0008684110161235907, 0.005150839139711483],\n",
       "  [0.0009714277989178203, -0.28725796699479034]),\n",
       " (-0.628737630036726,\n",
       "  [0.004535813352792233, 0.00010222587487329626],\n",
       "  [0.004537857870289698, -0.2911461522299447]),\n",
       " (-0.6263109713048525,\n",
       "  [0.0034374064956842927, -0.004738050663104121],\n",
       "  [0.0033426454824222102, 0.289027434472773]),\n",
       " (-0.6229713020466225,\n",
       "  [-0.005320162278922543, 0.003571471851740171],\n",
       "  [-0.005248732841887739, -0.2907852713643024]),\n",
       " (-0.6228288292428786,\n",
       "  [0.004679058736569377, 0.0021724306056551956],\n",
       "  [0.004722507348682481, -0.28903053112049215]),\n",
       " (-0.6223005651130225,\n",
       "  [-0.00685064501125455, 0.001536068633295029],\n",
       "  [-0.006819923638588649, -0.2933004228847034]),\n",
       " (-0.6210639001179296,\n",
       "  [-0.007302263247115318, 0.0013000113715109785],\n",
       "  [-0.007276263019685098, -0.2936778938414461]),\n",
       " (-0.6210387231414256,\n",
       "  [0.002330008814532724, -0.0069977632358855235],\n",
       "  [0.0021900535498150134, 0.2864193979214362]),\n",
       " (-0.6183018300691845,\n",
       "  [0.00406942836500105, -0.00643888418187788],\n",
       "  [0.003940650681363493, 0.28752521348379445]),\n",
       " (-0.6177538001218232,\n",
       "  [0.006253827577982949, -0.0041284733310644195],\n",
       "  [0.00617125811136166, 0.29052103270148844]),\n",
       " (-0.6174299262435461,\n",
       "  [0.00023359387717792474, 0.008235502863474353],\n",
       "  [0.00039830393444741184, -0.2843737131191274]),\n",
       " (-0.617406859767387,\n",
       "  [-0.004083268268757942, 0.006678902414966714],\n",
       "  [-0.003949690220458608, -0.2872895429088982]),\n",
       " (-0.6171693347396714,\n",
       "  [-0.005432162009907877, -0.0027619131920184614],\n",
       "  [-0.005487400273748246, 0.28820216224859374]),\n",
       " (-0.6161780785444051,\n",
       "  [0.002415971193546911, 0.007318059184088399],\n",
       "  [0.002562332377228679, -0.28460162134274886]),\n",
       " (-0.6153915702892894,\n",
       "  [0.002290800569945646, -0.00839688810126099],\n",
       "  [0.0021228628079204264, 0.2850079327480286]),\n",
       " (-0.6150741066182901,\n",
       "  [0.00305971035378759, 0.006969730318019451],\n",
       "  [0.0031991049601479793, -0.2847462524541598]),\n",
       " (-0.6144357870487245,\n",
       "  [0.00499439772953893, 0.004502900517743658],\n",
       "  [0.005084455739893803, -0.28660005797633836]),\n",
       " (-0.6133785098101533,\n",
       "  [0.0017019719131087276, 0.008527215026040202],\n",
       "  [0.0018725162136295317, -0.2836182335193861]),\n",
       " (-0.6132461885258027,\n",
       "  [-0.0020982001308223015, 0.008986761881495331],\n",
       "  [-0.001918464893192395, -0.2843574331884634]),\n",
       " (-0.6130437495652552,\n",
       "  [0.007421870579554275, 4.878578249795096e-05],\n",
       "  [0.007422846295204234, -0.2902832406307807]),\n",
       " (-0.6106728001943258,\n",
       "  [0.003699825626785143, 0.007425611966571266],\n",
       "  [0.003848337866116568, -0.2840876825137295]),\n",
       " (-0.6101557083318767,\n",
       "  [0.00773321752379075, 0.0005786377484296445],\n",
       "  [0.0077447902787593425, -0.28965436742568007]),\n",
       " (-0.6099062692129186,\n",
       "  [0.000635799008257585, -0.010013169276311573],\n",
       "  [0.0004355356227313535, 0.2828702919667064]),\n",
       " (-0.608689564258772,\n",
       "  [-0.0029304233159036202, -0.008720116762399477],\n",
       "  [-0.00310482565115161, 0.28303678741079136]),\n",
       " (-0.6086798175366732,\n",
       "  [-0.0021338224199227073, -0.009349783859024186],\n",
       "  [-0.002320818097103191, 0.28265913315120506]),\n",
       " (-0.6081664521734086,\n",
       "  [-0.00456213831563965, -0.007052502920004922],\n",
       "  [-0.0047031883740397485, 0.2841875296155534]),\n",
       " (-0.6067417360216592,\n",
       "  [0.005975631584575376, -0.007960587281576004],\n",
       "  [0.005816419838943856, 0.2866017172195152]),\n",
       " (-0.6054980767006656,\n",
       "  [-0.007308204988474339, -0.0033693023198343997],\n",
       "  [-0.007375591034871027, 0.2869988665660254]),\n",
       " (-0.605329356359692,\n",
       "  [-0.00582352463985342, -0.006070981677081144],\n",
       "  [-0.005944944273395043, 0.28476887817831664]),\n",
       " (-0.605113757082895,\n",
       "  [-0.010908512323842063, 0.0020165382110138297],\n",
       "  [-0.010868181559621786, -0.2940880970594931]),\n",
       " (-0.6048580381080706,\n",
       "  [0.008879297390800536, 0.00019206933518145508],\n",
       "  [0.008883138777504164, -0.2896761577470106]),\n",
       " (-0.6043518968702326,\n",
       "  [-0.003706548793252023, -0.009078105137108938],\n",
       "  [-0.0038881108959942018, 0.2824330599182724]),\n",
       " (-0.6034212014474702,\n",
       "  [-0.0012338764175496841, -0.011057503715005412],\n",
       "  [-0.0014550264918497923, 0.28123586501800046]),\n",
       " (-0.6028930425413201,\n",
       "  [0.00440092213190025, 0.00871155517532729],\n",
       "  [0.004575153235406796, -0.28257958485966567]),\n",
       " (-0.6027735144152386,\n",
       "  [0.005509310292007269, 0.0073220136230270905],\n",
       "  [0.00565575056446781, -0.2836175798845371]),\n",
       " (-0.6014540317144277,\n",
       "  [-0.0029310314469602186, -0.010493710671189593],\n",
       "  [-0.0031409056603840103, 0.28126300117868397]),\n",
       " (-0.6009977463665979,\n",
       "  [-0.006690988286777094, 0.008949098763211094],\n",
       "  [-0.006512006311512873, -0.28583738269945874]),\n",
       " (-0.5995609922290147,\n",
       "  [0.0020663004385477295, 0.011526964972091602],\n",
       "  [0.0022968397379895616, -0.28050330368388626]),\n",
       " (-0.5995226514704177,\n",
       "  [-0.0006968474899658322, 0.01234594486438173],\n",
       "  [-0.00044992859267819764, -0.2805567642027365])]"
      ]
     },
     "execution_count": 83,
     "metadata": {},
     "output_type": "execute_result"
    }
   ],
   "source": [
    "[(s['critic'], s['prev_obs'][2:], s['obs'][2:]) for s in steps_of_500 if s['obs_angv_ch_sign']][:50]"
   ]
  },
  {
   "cell_type": "code",
   "execution_count": 75,
   "id": "55fc468f",
   "metadata": {},
   "outputs": [
    {
     "data": {
      "text/plain": [
       "[(-0.20524413665175012,\n",
       "  [0.0026436208020268297, 0.1000832109836649],\n",
       "  [0.004645285021700128, -0.1917644889837017]),\n",
       " (-0.20006715548810977,\n",
       "  [0.00851544793923389, 0.1000834279503478],\n",
       "  [0.010517116498240844, -0.18990077835634]),\n",
       " (-0.19675530323384813,\n",
       "  [0.007835901668587794, 0.10098959164962618],\n",
       "  [0.009855693501580318, -0.18921086559285588]),\n",
       " (-0.19508635630266505,\n",
       "  [-0.010275747091400955, 0.10350754256941536],\n",
       "  [-0.008205596240012648, -0.19239955127536157]),\n",
       " (-0.18980776453285442,\n",
       "  [0.015443964415523408, 0.10057410237769815],\n",
       "  [0.01745544646307737, -0.1871965616361862]),\n",
       " (-0.1896480952886791,\n",
       "  [0.002916569964516783, 0.10353650538742598],\n",
       "  [0.004987300072265303, -0.1882248286759453]),\n",
       " (-0.18773333339078271,\n",
       "  [0.003550134661166305, 0.1038611189045322],\n",
       "  [0.005627357039256949, -0.18769964225613472]),\n",
       " (-0.18254168658043024,\n",
       "  [0.010763970771060685, 0.10353796726692777],\n",
       "  [0.01283473011639924, -0.18572962228832712]),\n",
       " (-0.17763777218541277,\n",
       "  [0.020354579300115472, 0.10186171059521992],\n",
       "  [0.02239181351201987, -0.18433054738762406]),\n",
       " (-0.16477571557234102,\n",
       "  [0.011325261263970756, 0.10746870992252844],\n",
       "  [0.013474635462421326, -0.18161974389230479]),\n",
       " (-0.15171914593474403,\n",
       "  [0.019903755883676884, 0.10819940670344957],\n",
       "  [0.022067744017745874, -0.1781381262575092]),\n",
       " (-0.14929911590311598,\n",
       "  [0.006437267176647825, 0.1120029842676451],\n",
       "  [0.008677326862000727, -0.17864209308067075]),\n",
       " (-0.1480809153276632,\n",
       "  [0.002733617437690631, 0.1128889152278637],\n",
       "  [0.004991395742247905, -0.1789303208973067]),\n",
       " (-0.13993201362812663,\n",
       "  [-0.001341495616623575, 0.11525018811269594],\n",
       "  [0.0009635081456303438, -0.177855668787061]),\n",
       " (-0.1383426654350547,\n",
       "  [0.007848907736367474, 0.11421994099819116],\n",
       "  [0.010133306556331299, -0.17597641152882404]),\n",
       " (-0.12456734664905722,\n",
       "  [0.007533951762938919, 0.11739599287987218],\n",
       "  [0.009881871620536362, -0.17290054271827898]),\n",
       " (-0.12288681235268284,\n",
       "  [0.011888276831211695, 0.11694329644796853],\n",
       "  [0.014227142760171065, -0.1719653904039663]),\n",
       " (-0.12106518262664588,\n",
       "  [0.03641679801474517, 0.11032210899414813],\n",
       "  [0.038623240194628136, -0.17065275419710096]),\n",
       " (-0.12101063456802325,\n",
       "  [0.0018091289204826243, 0.1190894591636002],\n",
       "  [0.004190918103754628, -0.17302215436395385]),\n",
       " (-0.12059935823053589,\n",
       "  [-0.001729125528990563, 0.11961906988656323],\n",
       "  [0.000663255868740702, -0.17360887896262855]),\n",
       " (-0.12053430263670259,\n",
       "  [0.007798314980363806, 0.11826228943044326],\n",
       "  [0.010163560768972672, -0.1719501675833438]),\n",
       " (-0.1202440474076745,\n",
       "  [0.01733975801503761, 0.11633283321597271],\n",
       "  [0.019666414679357064, -0.17082949006528847]),\n",
       " (-0.11963105471540954,\n",
       "  [0.011202550885437458, 0.11782810424790735],\n",
       "  [0.013559112970395606, -0.17129956256456824]),\n",
       " (-0.11106905680975082,\n",
       "  [0.0045960773608575145, 0.12092128917621175],\n",
       "  [0.00701450314438175, -0.17030808120936036]),\n",
       " (-0.1100773239609517,\n",
       "  [0.002421844784206236, 0.12145695261347533],\n",
       "  [0.0048509838364757425, -0.1704609220579945]),\n",
       " (-0.10431049060556408,\n",
       "  [0.004991890155968041, 0.12238245817245069],\n",
       "  [0.0074395393194170555, -0.16872140494156224]),\n",
       " (-0.10031301407306271,\n",
       "  [0.011427937829598772, 0.12220505038360507],\n",
       "  [0.013872038837270874, -0.16685067717249297]),\n",
       " (-0.09439453065179679,\n",
       "  [0.001814929019897259, 0.12505398443020665],\n",
       "  [0.004316008708501393, -0.16705579956136163]),\n",
       " (-0.08493928283481664,\n",
       "  [0.0058150002432624266, 0.12662411225984826],\n",
       "  [0.008347482488459393, -0.16421858984940518]),\n",
       " (-0.08408375701769458,\n",
       "  [0.017304458778088935, 0.12481969971354201],\n",
       "  [0.019800852772359774, -0.16235401475074412]),\n",
       " (-0.08140770601215414,\n",
       "  [0.003843439147458128, 0.12769798015543227],\n",
       "  [0.006397398750566773, -0.16376991265720192]),\n",
       " (-0.08139191236648233,\n",
       "  [-0.011200617746806219, 0.12924977185219555],\n",
       "  [-0.008615622309762308, -0.16694566104607417]),\n",
       " (-0.07472464883298773,\n",
       "  [0.00866881503176921, 0.12850412571412495],\n",
       "  [0.011238897546051708, -0.16143133652250602]),\n",
       " (-0.07288277144422164,\n",
       "  [0.011914122348000145, 0.12840304360022997],\n",
       "  [0.014482183220004744, -0.16049743584381354]),\n",
       " (-0.0727018639335359,\n",
       "  [0.00931179880735836, 0.12886398354416423],\n",
       "  [0.011889078478241645, -0.16086669864638858]),\n",
       " (-0.07137967666692363,\n",
       "  [0.016249824878051294, 0.1279921368504945],\n",
       "  [0.018809667615061185, -0.1595201909820475]),\n",
       " (-0.07058957485894163,\n",
       "  [-0.0045308372483748045, 0.1311026363975521],\n",
       "  [-0.0019087845204237624, -0.16300626004704066]),\n",
       " (-0.06875163286493416,\n",
       "  [0.005922993659601629, 0.13025936884563338],\n",
       "  [0.008528181036514298, -0.1605490588453518]),\n",
       " (-0.06297568085196065,\n",
       "  [-0.0119832863041473, 0.13346893295393336],\n",
       "  [-0.009313907645068634, -0.1629703351171437]),\n",
       " (-0.05934566705092938,\n",
       "  [-0.010656683763685844, 0.13418259153250867],\n",
       "  [-0.007973031933035672, -0.16184322570629855]),\n",
       " (-0.05119866267541677,\n",
       "  [0.009452083927130017, 0.13373466182261906],\n",
       "  [0.012126777163582398, -0.15595134103250585]),\n",
       " (-0.048896667796043194,\n",
       "  [0.024077186378209284, 0.1319005126733785],\n",
       "  [0.026715196631676853, -0.15309019694840847]),\n",
       " (-0.04572162465975867,\n",
       "  [0.007200654156735052, 0.13528707199973328],\n",
       "  [0.009906395596729718, -0.1551154837057262]),\n",
       " (-0.042206906644947154,\n",
       "  [-0.019326339732822752, 0.13874626348698088],\n",
       "  [-0.016551414463083135, -0.15997061453806877]),\n",
       " (-0.023895399594282066,\n",
       "  [0.01659679505793125, 0.13902170134013053],\n",
       "  [0.01937722908473386, -0.1483793425399726]),\n",
       " (-0.021318702959632826,\n",
       "  [0.006497357229317789, 0.14089340944771062],\n",
       "  [0.009315225418272002, -0.1497326495121537]),\n",
       " (-0.012938962046910307,\n",
       "  [0.027850492001932604, 0.14014251195106953],\n",
       "  [0.030653342240953996, -0.14362557751244137]),\n",
       " (-0.012930722782301257,\n",
       "  [0.008699783018870814, 0.1425336253192931],\n",
       "  [0.011550455525256676, -0.14739202559774317]),\n",
       " (-0.009916133598235136,\n",
       "  [0.020001589441793775, 0.1418761127576112],\n",
       "  [0.022839111696946, -0.14443015463401343]),\n",
       " (-0.0030491575454815595,\n",
       "  [0.006648985450966885, 0.14500586288580813],\n",
       "  [0.009549102708683048, -0.14557203845796562])]"
      ]
     },
     "execution_count": 75,
     "metadata": {},
     "output_type": "execute_result"
    }
   ],
   "source": [
    "[(s['critic'], s['prev_obs'][2:], s['obs'][2:]) for s in steps_of_500 if s['obs'][3] < 0][-50:]"
   ]
  },
  {
   "cell_type": "code",
   "execution_count": null,
   "id": "fa5a6f51",
   "metadata": {},
   "outputs": [],
   "source": []
  },
  {
   "cell_type": "code",
   "execution_count": null,
   "id": "d37f13f8",
   "metadata": {},
   "outputs": [],
   "source": []
  },
  {
   "cell_type": "code",
   "execution_count": 49,
   "id": "9bcbd323",
   "metadata": {},
   "outputs": [],
   "source": [
    "prev_obs, curr_obs = ([0,0, 0.010115322829615376, -0.30229472323071627],\n",
    "  [0,0, 0.00406942836500105, -0.00643888418187788])"
   ]
  },
  {
   "cell_type": "code",
   "execution_count": 61,
   "id": "95bbb4f0",
   "metadata": {},
   "outputs": [
    {
     "data": {
      "text/plain": [
       "2.0"
      ]
     },
     "execution_count": 61,
     "metadata": {},
     "output_type": "execute_result"
    }
   ],
   "source": [
    "critic.calc_reward(np.array(curr_obs), np.array(prev_obs))"
   ]
  },
  {
   "cell_type": "code",
   "execution_count": 54,
   "id": "752021f4",
   "metadata": {},
   "outputs": [],
   "source": [
    "curr_loss = critic._loss(curr_obs)"
   ]
  },
  {
   "cell_type": "code",
   "execution_count": 55,
   "id": "2f55944c",
   "metadata": {},
   "outputs": [],
   "source": [
    "prev_loss = critic._loss(prev_obs)"
   ]
  },
  {
   "cell_type": "code",
   "execution_count": 59,
   "id": "8b908606",
   "metadata": {},
   "outputs": [
    {
     "data": {
      "text/plain": [
       "-0.1305830231161892"
      ]
     },
     "execution_count": 59,
     "metadata": {},
     "output_type": "execute_result"
    }
   ],
   "source": [
    "curr_loss - prev_loss"
   ]
  },
  {
   "cell_type": "code",
   "execution_count": null,
   "id": "d7598260",
   "metadata": {},
   "outputs": [],
   "source": []
  }
 ],
 "metadata": {
  "kernelspec": {
   "display_name": "Python 3",
   "language": "python",
   "name": "python3"
  },
  "language_info": {
   "codemirror_mode": {
    "name": "ipython",
    "version": 3
   },
   "file_extension": ".py",
   "mimetype": "text/x-python",
   "name": "python",
   "nbconvert_exporter": "python",
   "pygments_lexer": "ipython3",
   "version": "3.7.9"
  }
 },
 "nbformat": 4,
 "nbformat_minor": 5
}
