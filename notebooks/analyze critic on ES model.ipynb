{
 "cells": [
  {
   "cell_type": "code",
   "execution_count": 38,
   "id": "35a07227",
   "metadata": {},
   "outputs": [],
   "source": [
    "import os\n",
    "\n",
    "wdir_m = '../results/20210801-1000it-1eps'\n",
    "wdir_e = os.path.join(wdir_m, 'evaluation_10')\n",
    "\n",
    "rew_file = os.path.join(wdir_e, 'ActionsRewards.txt')\n",
    "results_file = os.path.join(wdir_e, 'ActionsPerEpisode.txt')\n",
    "motor_file = os.path.join(wdir_e, 'MotorOutputs.txt')\n",
    "\n",
    "\n",
    "conf_file = os.path.join(wdir_m, 'backupcfg_sim.json')"
   ]
  },
  {
   "cell_type": "code",
   "execution_count": 5,
   "id": "b43afb31",
   "metadata": {},
   "outputs": [],
   "source": [
    "# Compied from `Observe Critic.ipynb`\n",
    "import json\n",
    "\n",
    "class MockAIGame:\n",
    "    observations = []\n",
    "    rewards = []\n",
    "    env = None\n",
    "\n",
    "    def __init__(self, env):\n",
    "        self.env = env\n",
    "    \n",
    "config = None\n",
    "with open('../config.json') as f:\n",
    "    config = json.load(f)\n",
    "\n",
    "\n",
    "import gym\n",
    "env = gym.make('CartPole-v1')\n",
    "\n",
    "from neurosim.game_interface import GameInterface\n",
    "\n",
    "game = MockAIGame(env)\n",
    "gi = GameInterface(game, config)\n"
   ]
  },
  {
   "cell_type": "code",
   "execution_count": 54,
   "id": "3a9fb8f4",
   "metadata": {},
   "outputs": [
    {
     "name": "stdout",
     "output_type": "stream",
     "text": [
      "total steps:  8033\n",
      "results: 24\n",
      "steps from results: 7813\n"
     ]
    }
   ],
   "source": [
    "# extract the data\n",
    "\n",
    "import csv\n",
    "import json\n",
    "\n",
    "motor = {}\n",
    "with open(motor_file) as f:\n",
    "    for row in csv.reader(f, delimiter='\\t'):\n",
    "        motor[row[0]] = [int(float(i)) for i in row[1:]]\n",
    "\n",
    "steps = []\n",
    "\n",
    "with open(rew_file) as f:\n",
    "    for row in csv.reader(f, delimiter='\\t'):\n",
    "        t, move, critic, obs_space_j = row\n",
    "#         print(obs_space_j)\n",
    "        obs_space = json.loads(obs_space_j)\n",
    "        game.observations = [obs_space]\n",
    "        fr = gi.input_firing_rates()\n",
    "        frind = (fr > 0).nonzero()\n",
    "        steps.append({\n",
    "            'move': move,\n",
    "            'critic_run': float(critic),\n",
    "            'critic': \n",
    "            'motor': motor[t] if len(steps) > 0 else [0,0],\n",
    "            'obs': obs_space,\n",
    "            'fr': list(frind[0])\n",
    "        })\n",
    "\n",
    "print('total steps: ', len(steps))\n",
    "        \n",
    "results = []\n",
    "with open(results_file) as f:\n",
    "    for row in csv.reader(f, delimiter='\\t'):\n",
    "        results.append(int(float(row[1])))\n",
    "        \n",
    "print('results:', len(results))\n",
    "print('steps from results:', sum(results))"
   ]
  },
  {
   "cell_type": "code",
   "execution_count": 55,
   "id": "cd877f51",
   "metadata": {},
   "outputs": [
    {
     "name": "stdout",
     "output_type": "stream",
     "text": [
      "[211, 500, 500, 197, 500, 81, 235, 307, 345, 188, 500, 240, 344, 121, 230, 381, 247, 500, 419, 97, 500, 486, 500, 184]\n"
     ]
    }
   ],
   "source": [
    "# separate by iteration\n",
    "\n",
    "steps_seq = []\n",
    "\n",
    "idx = 0\n",
    "for r in results:\n",
    "    steps_seq.append(steps[idx:idx+r])\n",
    "    idx += r\n",
    "    \n",
    "print([len(s) for s in steps_seq])"
   ]
  },
  {
   "cell_type": "code",
   "execution_count": 56,
   "id": "32fafc76",
   "metadata": {},
   "outputs": [
    {
     "name": "stdout",
     "output_type": "stream",
     "text": [
      "{'move': '0.0', 'critic': -0.73952, 'motor': [3, 2], 'obs': [-1.1907861442852647, -0.8208725750161674, 0.19809805542063222, 1.1739129864315632], 'fr': [2, 21, 59, 78]}\n",
      "{'move': '1.0', 'critic': -0.56343, 'motor': [1, 3], 'obs': [-0.9245501888685338, 0.9050119212542392, 0.05964666355148726, -0.5583231650494036], 'fr': [3, 39, 54, 64]}\n",
      "{'move': '0.0', 'critic': 1.20707, 'motor': [6, 0], 'obs': [0.11535710983061902, -0.8635910047585998, -0.0452731384720687, -0.2953699618816748], 'fr': [10, 21, 45, 66]}\n",
      "{'move': '1.0', 'critic': -0.61396, 'motor': [3, 5], 'obs': [-1.9280055215389686, -1.7397771931771862, -0.20187765093402688, -0.7091628691023091], 'fr': [0, 20, 40, 63]}\n",
      "{'move': '1.0', 'critic': 0.45392, 'motor': [2, 4], 'obs': [-0.26798835726960984, 0.18721978620568608, 0.03235362994225614, -0.0822804699667185], 'fr': [7, 33, 52, 68]}\n",
      "{'move': '0.0', 'critic': 0.73642, 'motor': [5, 1], 'obs': [-0.9091664824030803, -1.3961016658968206, -0.2045020412037015, -0.499207770067454], 'fr': [3, 20, 40, 65]}\n",
      "{'move': '0.0', 'critic': -1.0, 'motor': [1, 1], 'obs': [-1.6888592090954047, 0.46109718755628437, -0.206768214379975, -1.6832246762665146], 'fr': [0, 36, 40, 60]}\n",
      "{'move': '0.0', 'critic': -1.0, 'motor': [2, 2], 'obs': [-0.5256471615182386, -0.09278888924113066, 0.20590538447386159, 1.122289484288969], 'fr': [6, 29, 59, 78]}\n",
      "{'move': '0.0', 'critic': 0.6554, 'motor': [5, 2], 'obs': [-2.0299021181537955, -1.0341526343024732, -0.2056458339377414, -0.3700544404273344], 'fr': [0, 20, 40, 66]}\n",
      "{'move': '1.0', 'critic': 0.4323, 'motor': [3, 6], 'obs': [-1.5280550512183693, 0.2015404578589013, 0.20819985827629675, 0.1566219057695063], 'fr': [1, 33, 59, 71]}\n",
      "{'move': '0.0', 'critic': 1.29843, 'motor': [4, 1], 'obs': [2.1639388982072365, 0.5655124788840089, -0.010263373113717845, -0.14106835394565248], 'fr': [19, 37, 48, 68]}\n",
      "{'move': '0.0', 'critic': 0.60582, 'motor': [8, 4], 'obs': [-2.2649553633219135, -1.212492464321525, -0.20582515999024745, -0.3084694533941317], 'fr': [0, 20, 40, 66]}\n",
      "{'move': '0.0', 'critic': 0.66351, 'motor': [8, 3], 'obs': [-0.2625465102395264, -0.5709481391035813, -0.2027255083644016, -0.36821615659732776], 'fr': [7, 23, 40, 66]}\n",
      "{'move': '0.0', 'critic': 0.37676, 'motor': [3, 0], 'obs': [-0.5261980195704928, -1.0394699327868095, -0.2081644593938252, -0.11686237249456874], 'fr': [6, 20, 40, 68]}\n",
      "{'move': '1.0', 'critic': -0.42215, 'motor': [0, 2], 'obs': [-1.0695314383929366, -1.5888134438381576, -0.20621775817502314, -0.47354453173720734], 'fr': [2, 20, 40, 65]}\n",
      "{'move': '0.0', 'critic': -0.40354, 'motor': [5, 4], 'obs': [1.4905507834201006, 0.7295903806396887, 0.20482497624718252, 0.4556424087058405], 'fr': [18, 38, 59, 73]}\n",
      "{'move': '1.0', 'critic': -0.66308, 'motor': [1, 3], 'obs': [-2.1173673065965355, -1.0083060766292269, -0.20586855871726892, -0.8272482852276279], 'fr': [0, 20, 40, 62]}\n",
      "{'move': '0.0', 'critic': 1.33622, 'motor': [8, 5], 'obs': [-0.5711135728299028, 0.19811477424832616, 0.0037029022577381217, -0.3411045161414227], 'fr': [5, 33, 49, 66]}\n",
      "{'move': '1.0', 'critic': -0.66447, 'motor': [1, 2], 'obs': [-1.9101936626441904, -1.8044214167916706, -0.1965191745090212, -0.8166368998843618], 'fr': [0, 20, 40, 62]}\n",
      "{'move': '1.0', 'critic': -1.0, 'motor': [0, 0], 'obs': [-0.8568534851649552, -1.387729296856958, -0.20026936050553398, -0.4737809501605037], 'fr': [3, 20, 40, 65]}\n",
      "{'move': '1.0', 'critic': 1.32317, 'motor': [1, 4], 'obs': [-0.7475810303641366, -0.21917113696238497, 0.0006838469468184501, 0.1822252208066552], 'fr': [4, 27, 49, 71]}\n",
      "{'move': '1.0', 'critic': -1.0, 'motor': [0, 0], 'obs': [2.3900366604518095, 0.9568544498831111, -0.006325226719306481, -0.2163876438222152], 'fr': [19, 39, 48, 67]}\n",
      "{'move': '1.0', 'critic': 0.8519, 'motor': [1, 4], 'obs': [0.44248496456257697, 0.18219086022424766, 0.002951622019500507, -0.05120018253551928], 'fr': [13, 33, 49, 69]}\n",
      "{'move': '1.0', 'critic': 0.87975, 'motor': [2, 8], 'obs': [-1.3947312457678291, -1.2902356414383762, 0.20359345187972933, 1.0115899057817341], 'fr': [1, 20, 59, 77]}\n"
     ]
    }
   ],
   "source": [
    "for s in steps_seq:\n",
    "    print(s[-2])"
   ]
  },
  {
   "cell_type": "code",
   "execution_count": 57,
   "id": "da4ac963",
   "metadata": {},
   "outputs": [
    {
     "name": "stdout",
     "output_type": "stream",
     "text": [
      "steps for each 500eps run that are not unk: [424, 420, 465, 420, 466, 415, 441]\n"
     ]
    }
   ],
   "source": [
    "\n",
    "critic_vals = []\n",
    "\n",
    "for steps in steps_seq:\n",
    "    vals = []\n",
    "    if len(steps) == 500:\n",
    "        for j in steps[:-1]:\n",
    "            left, right = j['motor']\n",
    "            if left != right:\n",
    "                vals.append(j['critic'])\n",
    "        critic_vals.append(vals)\n",
    "    \n",
    "print('steps for each 500eps run that are not unk:', [len(cv) for cv in critic_vals])"
   ]
  },
  {
   "cell_type": "code",
   "execution_count": 66,
   "id": "890f8eef",
   "metadata": {},
   "outputs": [
    {
     "data": {
      "image/png": "[encoded data removed]",
      "text/plain": [
       "<Figure size 720x720 with 1 Axes>"
      ]
     },
     "metadata": {
      "needs_background": "light"
     },
     "output_type": "display_data"
    }
   ],
   "source": [
    "import matplotlib.pyplot as plt\n",
    "\n",
    "plt.figure(figsize=(10,10))\n",
    "plt.hist([v for cv in critic_vals for v in cv], bins=30)\n",
    "plt.title('critic on ES best model on {} episodes of 500steps'.format(len(critic_vals)))\n",
    "plt.xlabel('critic value')\n",
    "plt.ylabel('steps count')\n",
    "plt.show()"
   ]
  },
  {
   "cell_type": "code",
   "execution_count": 76,
   "id": "a453f822",
   "metadata": {},
   "outputs": [
    {
     "name": "stdout",
     "output_type": "stream",
     "text": [
      "Magnitude of average critic result 0.335\n",
      "Magnitude of average critic result per episode [0.332, 0.335, 0.304, 0.338, 0.308, 0.342, 0.387]\n",
      "--\n",
      "Ratio of reward/punishment 0.526\n",
      "Ratio of reward/punishment per episode [0.54, 0.529, 0.505, 0.531, 0.517, 0.53, 0.533]\n"
     ]
    }
   ],
   "source": [
    "import numpy as np\n",
    "\n",
    "print('Magnitude of average critic result', round(np.mean([v for cv in critic_vals for v in cv]), 3))\n",
    "print('Magnitude of average critic result per episode', [round(np.mean(cv), 3) for cv in critic_vals])\n",
    "\n",
    "print('--')\n",
    "\n",
    "print('Ratio of reward/punishment', round(\n",
    "    np.mean([1 if v > 0 else 0 for cv in critic_vals for v in cv]), 3))\n",
    "print('Ratio of reward/punishment per episode', [round(np.mean([1 if v > 0 else 0 for v in cv]), 3) for cv in critic_vals])"
   ]
  },
  {
   "cell_type": "code",
   "execution_count": null,
   "id": "4c0f1d79",
   "metadata": {},
   "outputs": [],
   "source": []
  }
 ],
 "metadata": {
  "kernelspec": {
   "display_name": "Python 3",
   "language": "python",
   "name": "python3"
  },
  "language_info": {
   "codemirror_mode": {
    "name": "ipython",
    "version": 3
   },
   "file_extension": ".py",
   "mimetype": "text/x-python",
   "name": "python",
   "nbconvert_exporter": "python",
   "pygments_lexer": "ipython3",
   "version": "3.7.9"
  }
 },
 "nbformat": 4,
 "nbformat_minor": 5
}
