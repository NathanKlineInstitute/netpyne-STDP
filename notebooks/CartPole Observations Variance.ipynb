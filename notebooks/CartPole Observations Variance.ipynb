{
 "cells": [
  {
   "cell_type": "code",
   "execution_count": 1,
   "id": "64908e86",
   "metadata": {},
   "outputs": [],
   "source": [
    "import os\n",
    "os.chdir('../')"
   ]
  },
  {
   "cell_type": "markdown",
   "id": "60853dc8",
   "metadata": {},
   "source": [
    "## Observe variation in the observation space"
   ]
  },
  {
   "cell_type": "code",
   "execution_count": 2,
   "id": "65907ea4",
   "metadata": {},
   "outputs": [],
   "source": [
    "import json\n",
    "\n",
    "class MockAIGame:\n",
    "    observations = []\n",
    "    rewards = []\n",
    "    env = None\n",
    "\n",
    "    def __init__(self, env):\n",
    "        self.env = env\n",
    "    \n",
    "config = None\n",
    "with open('config.json') as f:\n",
    "    config = json.load(f)\n"
   ]
  },
  {
   "cell_type": "code",
   "execution_count": 3,
   "id": "49d5a1ac",
   "metadata": {},
   "outputs": [],
   "source": [
    "import gym\n",
    "\n",
    "all_observations = []"
   ]
  },
  {
   "cell_type": "code",
   "execution_count": 4,
   "id": "1b5aab15",
   "metadata": {
    "scrolled": true
   },
   "outputs": [],
   "source": [
    "\n",
    "env = gym.make('CartPole-v1')\n",
    "\n",
    "for i_episode in range(200):\n",
    "    observation = env.reset()\n",
    "    for t in range(1000):\n",
    "        env.render()\n",
    "#         print(observation)\n",
    "        all_observations.append(observation)\n",
    "        action = env.action_space.sample()\n",
    "        observation, reward, done, info = env.step(action)\n",
    "        if done:\n",
    "#             print(\"Episode finished after {} timesteps\".format(t+1))\n",
    "            break\n",
    "\n",
    "env.close()\n"
   ]
  },
  {
   "cell_type": "code",
   "execution_count": 5,
   "id": "57ac73bd",
   "metadata": {},
   "outputs": [
    {
     "data": {
      "text/plain": [
       "4523"
      ]
     },
     "execution_count": 5,
     "metadata": {},
     "output_type": "execute_result"
    }
   ],
   "source": [
    "len(all_observations)"
   ]
  },
  {
   "cell_type": "code",
   "execution_count": 6,
   "id": "4ef375bc",
   "metadata": {},
   "outputs": [],
   "source": [
    "import pandas as pd\n",
    "\n",
    "cols = ['pos', 'velocity', 'angle', 'angular velocity']\n",
    "df = pd.DataFrame(data=all_observations, columns=cols)"
   ]
  },
  {
   "cell_type": "code",
   "execution_count": 7,
   "id": "104c89a9",
   "metadata": {},
   "outputs": [
    {
     "data": {
      "text/html": [
       "<div>\n",
       "<style scoped>\n",
       "    .dataframe tbody tr th:only-of-type {\n",
       "        vertical-align: middle;\n",
       "    }\n",
       "\n",
       "    .dataframe tbody tr th {\n",
       "        vertical-align: top;\n",
       "    }\n",
       "\n",
       "    .dataframe thead th {\n",
       "        text-align: right;\n",
       "    }\n",
       "</style>\n",
       "<table border=\"1\" class=\"dataframe\">\n",
       "  <thead>\n",
       "    <tr style=\"text-align: right;\">\n",
       "      <th></th>\n",
       "      <th>pos</th>\n",
       "      <th>velocity</th>\n",
       "      <th>angle</th>\n",
       "      <th>angular velocity</th>\n",
       "    </tr>\n",
       "  </thead>\n",
       "  <tbody>\n",
       "    <tr>\n",
       "      <th>count</th>\n",
       "      <td>4523.000000</td>\n",
       "      <td>4523.000000</td>\n",
       "      <td>4523.000000</td>\n",
       "      <td>4523.000000</td>\n",
       "    </tr>\n",
       "    <tr>\n",
       "      <th>mean</th>\n",
       "      <td>-0.009191</td>\n",
       "      <td>-0.019753</td>\n",
       "      <td>-0.009521</td>\n",
       "      <td>-0.017292</td>\n",
       "    </tr>\n",
       "    <tr>\n",
       "      <th>std</th>\n",
       "      <td>0.099260</td>\n",
       "      <td>0.528773</td>\n",
       "      <td>0.090523</td>\n",
       "      <td>0.783163</td>\n",
       "    </tr>\n",
       "    <tr>\n",
       "      <th>min</th>\n",
       "      <td>-0.762246</td>\n",
       "      <td>-2.285626</td>\n",
       "      <td>-0.209095</td>\n",
       "      <td>-2.849260</td>\n",
       "    </tr>\n",
       "    <tr>\n",
       "      <th>25%</th>\n",
       "      <td>-0.043869</td>\n",
       "      <td>-0.370242</td>\n",
       "      <td>-0.064795</td>\n",
       "      <td>-0.538533</td>\n",
       "    </tr>\n",
       "    <tr>\n",
       "      <th>50%</th>\n",
       "      <td>-0.005464</td>\n",
       "      <td>-0.008009</td>\n",
       "      <td>-0.011314</td>\n",
       "      <td>-0.012012</td>\n",
       "    </tr>\n",
       "    <tr>\n",
       "      <th>75%</th>\n",
       "      <td>0.035057</td>\n",
       "      <td>0.347880</td>\n",
       "      <td>0.041752</td>\n",
       "      <td>0.479990</td>\n",
       "    </tr>\n",
       "    <tr>\n",
       "      <th>max</th>\n",
       "      <td>0.539514</td>\n",
       "      <td>2.653481</td>\n",
       "      <td>0.209206</td>\n",
       "      <td>2.632457</td>\n",
       "    </tr>\n",
       "  </tbody>\n",
       "</table>\n",
       "</div>"
      ],
      "text/plain": [
       "               pos     velocity        angle  angular velocity\n",
       "count  4523.000000  4523.000000  4523.000000       4523.000000\n",
       "mean     -0.009191    -0.019753    -0.009521         -0.017292\n",
       "std       0.099260     0.528773     0.090523          0.783163\n",
       "min      -0.762246    -2.285626    -0.209095         -2.849260\n",
       "25%      -0.043869    -0.370242    -0.064795         -0.538533\n",
       "50%      -0.005464    -0.008009    -0.011314         -0.012012\n",
       "75%       0.035057     0.347880     0.041752          0.479990\n",
       "max       0.539514     2.653481     0.209206          2.632457"
      ]
     },
     "execution_count": 7,
     "metadata": {},
     "output_type": "execute_result"
    }
   ],
   "source": [
    "df.describe()"
   ]
  },
  {
   "cell_type": "code",
   "execution_count": 8,
   "id": "696a56ca",
   "metadata": {},
   "outputs": [
    {
     "name": "stdout",
     "output_type": "stream",
     "text": [
      "theoretical min: [-4.8000002e+00 -3.4028235e+38 -4.1887903e-01 -3.4028235e+38]\n",
      "theoretical max: [4.8000002e+00 3.4028235e+38 4.1887903e-01 3.4028235e+38]\n"
     ]
    }
   ],
   "source": [
    "print('theoretical min:', env.observation_space.low)\n",
    "print('theoretical max:', env.observation_space.high)"
   ]
  },
  {
   "cell_type": "markdown",
   "id": "d5fe6912",
   "metadata": {},
   "source": [
    "## Analyze game inputs on those observations"
   ]
  },
  {
   "cell_type": "code",
   "execution_count": 9,
   "id": "fe607115",
   "metadata": {},
   "outputs": [],
   "source": [
    "from game_interface import GameInterface\n",
    "\n",
    "game = MockAIGame(env)\n",
    "gi = GameInterface(game, config)"
   ]
  },
  {
   "cell_type": "code",
   "execution_count": 10,
   "id": "f01cc6e0",
   "metadata": {},
   "outputs": [
    {
     "name": "stdout",
     "output_type": "stream",
     "text": [
      "4523\n"
     ]
    }
   ],
   "source": [
    "all_firing_rates = []\n",
    "\n",
    "for obs in all_observations:\n",
    "    game.observations = [obs]\n",
    "    all_firing_rates.append(gi.input_firing_rates()[:4])\n",
    "    \n",
    "print(len(all_firing_rates))"
   ]
  },
  {
   "cell_type": "code",
   "execution_count": 11,
   "id": "057c5173",
   "metadata": {},
   "outputs": [],
   "source": [
    "df_fr = pd.DataFrame(data=all_firing_rates, columns=['fr_'+c for c in cols])"
   ]
  },
  {
   "cell_type": "code",
   "execution_count": 12,
   "id": "9c5fa44e",
   "metadata": {},
   "outputs": [
    {
     "data": {
      "text/html": [
       "<div>\n",
       "<style scoped>\n",
       "    .dataframe tbody tr th:only-of-type {\n",
       "        vertical-align: middle;\n",
       "    }\n",
       "\n",
       "    .dataframe tbody tr th {\n",
       "        vertical-align: top;\n",
       "    }\n",
       "\n",
       "    .dataframe thead th {\n",
       "        text-align: right;\n",
       "    }\n",
       "</style>\n",
       "<table border=\"1\" class=\"dataframe\">\n",
       "  <thead>\n",
       "    <tr style=\"text-align: right;\">\n",
       "      <th></th>\n",
       "      <th>fr_pos</th>\n",
       "      <th>fr_velocity</th>\n",
       "      <th>fr_angle</th>\n",
       "      <th>fr_angular velocity</th>\n",
       "    </tr>\n",
       "  </thead>\n",
       "  <tbody>\n",
       "    <tr>\n",
       "      <th>count</th>\n",
       "      <td>4523.000000</td>\n",
       "      <td>4523.000000</td>\n",
       "      <td>4523.000000</td>\n",
       "      <td>4523.000000</td>\n",
       "    </tr>\n",
       "    <tr>\n",
       "      <th>mean</th>\n",
       "      <td>74.856383</td>\n",
       "      <td>74.315639</td>\n",
       "      <td>73.295183</td>\n",
       "      <td>74.350244</td>\n",
       "    </tr>\n",
       "    <tr>\n",
       "      <th>std</th>\n",
       "      <td>1.550939</td>\n",
       "      <td>18.435506</td>\n",
       "      <td>16.208143</td>\n",
       "      <td>25.763694</td>\n",
       "    </tr>\n",
       "    <tr>\n",
       "      <th>min</th>\n",
       "      <td>63.089905</td>\n",
       "      <td>13.848065</td>\n",
       "      <td>37.561694</td>\n",
       "      <td>8.207936</td>\n",
       "    </tr>\n",
       "    <tr>\n",
       "      <th>25%</th>\n",
       "      <td>74.314552</td>\n",
       "      <td>61.272396</td>\n",
       "      <td>63.398501</td>\n",
       "      <td>55.279349</td>\n",
       "    </tr>\n",
       "    <tr>\n",
       "      <th>50%</th>\n",
       "      <td>74.914624</td>\n",
       "      <td>74.699663</td>\n",
       "      <td>72.974250</td>\n",
       "      <td>74.549537</td>\n",
       "    </tr>\n",
       "    <tr>\n",
       "      <th>75%</th>\n",
       "      <td>75.547764</td>\n",
       "      <td>87.915497</td>\n",
       "      <td>82.475708</td>\n",
       "      <td>92.661821</td>\n",
       "    </tr>\n",
       "    <tr>\n",
       "      <th>max</th>\n",
       "      <td>83.429899</td>\n",
       "      <td>140.133779</td>\n",
       "      <td>112.458235</td>\n",
       "      <td>139.938219</td>\n",
       "    </tr>\n",
       "  </tbody>\n",
       "</table>\n",
       "</div>"
      ],
      "text/plain": [
       "            fr_pos  fr_velocity     fr_angle  fr_angular velocity\n",
       "count  4523.000000  4523.000000  4523.000000          4523.000000\n",
       "mean     74.856383    74.315639    73.295183            74.350244\n",
       "std       1.550939    18.435506    16.208143            25.763694\n",
       "min      63.089905    13.848065    37.561694             8.207936\n",
       "25%      74.314552    61.272396    63.398501            55.279349\n",
       "50%      74.914624    74.699663    72.974250            74.549537\n",
       "75%      75.547764    87.915497    82.475708            92.661821\n",
       "max      83.429899   140.133779   112.458235           139.938219"
      ]
     },
     "execution_count": 12,
     "metadata": {},
     "output_type": "execute_result"
    }
   ],
   "source": [
    "df_fr.describe()"
   ]
  },
  {
   "cell_type": "code",
   "execution_count": 13,
   "id": "6d3aa2e6",
   "metadata": {},
   "outputs": [],
   "source": [
    "maxFiring = config['net']['InputMaxRate']\n",
    "df_interval = pd.DataFrame(data=[[maxFiring/fr for fr in k]for k in all_firing_rates], columns=['int_'+c for c in cols])"
   ]
  },
  {
   "cell_type": "code",
   "execution_count": 14,
   "id": "17eb5b42",
   "metadata": {},
   "outputs": [
    {
     "data": {
      "text/html": [
       "<div>\n",
       "<style scoped>\n",
       "    .dataframe tbody tr th:only-of-type {\n",
       "        vertical-align: middle;\n",
       "    }\n",
       "\n",
       "    .dataframe tbody tr th {\n",
       "        vertical-align: top;\n",
       "    }\n",
       "\n",
       "    .dataframe thead th {\n",
       "        text-align: right;\n",
       "    }\n",
       "</style>\n",
       "<table border=\"1\" class=\"dataframe\">\n",
       "  <thead>\n",
       "    <tr style=\"text-align: right;\">\n",
       "      <th></th>\n",
       "      <th>int_pos</th>\n",
       "      <th>int_velocity</th>\n",
       "      <th>int_angle</th>\n",
       "      <th>int_angular velocity</th>\n",
       "    </tr>\n",
       "  </thead>\n",
       "  <tbody>\n",
       "    <tr>\n",
       "      <th>count</th>\n",
       "      <td>4523.000000</td>\n",
       "      <td>4523.000000</td>\n",
       "      <td>4523.000000</td>\n",
       "      <td>4523.000000</td>\n",
       "    </tr>\n",
       "    <tr>\n",
       "      <th>mean</th>\n",
       "      <td>2.004750</td>\n",
       "      <td>2.175908</td>\n",
       "      <td>2.159594</td>\n",
       "      <td>2.377400</td>\n",
       "    </tr>\n",
       "    <tr>\n",
       "      <th>std</th>\n",
       "      <td>0.044198</td>\n",
       "      <td>0.708282</td>\n",
       "      <td>0.536902</td>\n",
       "      <td>1.249285</td>\n",
       "    </tr>\n",
       "    <tr>\n",
       "      <th>min</th>\n",
       "      <td>1.797917</td>\n",
       "      <td>1.070406</td>\n",
       "      <td>1.333829</td>\n",
       "      <td>1.071902</td>\n",
       "    </tr>\n",
       "    <tr>\n",
       "      <th>25%</th>\n",
       "      <td>1.985499</td>\n",
       "      <td>1.706184</td>\n",
       "      <td>1.818717</td>\n",
       "      <td>1.618790</td>\n",
       "    </tr>\n",
       "    <tr>\n",
       "      <th>50%</th>\n",
       "      <td>2.002279</td>\n",
       "      <td>2.008041</td>\n",
       "      <td>2.055520</td>\n",
       "      <td>2.012085</td>\n",
       "    </tr>\n",
       "    <tr>\n",
       "      <th>75%</th>\n",
       "      <td>2.018447</td>\n",
       "      <td>2.448084</td>\n",
       "      <td>2.365987</td>\n",
       "      <td>2.713491</td>\n",
       "    </tr>\n",
       "    <tr>\n",
       "      <th>max</th>\n",
       "      <td>2.377559</td>\n",
       "      <td>10.831838</td>\n",
       "      <td>3.993430</td>\n",
       "      <td>18.274996</td>\n",
       "    </tr>\n",
       "  </tbody>\n",
       "</table>\n",
       "</div>"
      ],
      "text/plain": [
       "           int_pos  int_velocity    int_angle  int_angular velocity\n",
       "count  4523.000000   4523.000000  4523.000000           4523.000000\n",
       "mean      2.004750      2.175908     2.159594              2.377400\n",
       "std       0.044198      0.708282     0.536902              1.249285\n",
       "min       1.797917      1.070406     1.333829              1.071902\n",
       "25%       1.985499      1.706184     1.818717              1.618790\n",
       "50%       2.002279      2.008041     2.055520              2.012085\n",
       "75%       2.018447      2.448084     2.365987              2.713491\n",
       "max       2.377559     10.831838     3.993430             18.274996"
      ]
     },
     "execution_count": 14,
     "metadata": {},
     "output_type": "execute_result"
    }
   ],
   "source": [
    "df_interval.describe()"
   ]
  },
  {
   "cell_type": "code",
   "execution_count": null,
   "id": "44e489a9",
   "metadata": {},
   "outputs": [],
   "source": []
  }
 ],
 "metadata": {
  "kernelspec": {
   "display_name": "Python 3",
   "language": "python",
   "name": "python3"
  },
  "language_info": {
   "codemirror_mode": {
    "name": "ipython",
    "version": 3
   },
   "file_extension": ".py",
   "mimetype": "text/x-python",
   "name": "python",
   "nbconvert_exporter": "python",
   "pygments_lexer": "ipython3",
   "version": "3.7.9"
  }
 },
 "nbformat": 4,
 "nbformat_minor": 5
}
