{
 "cells": [
  {
   "cell_type": "code",
   "execution_count": 1,
   "id": "64908e86",
   "metadata": {},
   "outputs": [],
   "source": [
    "import os\n",
    "os.chdir('../')"
   ]
  },
  {
   "cell_type": "markdown",
   "id": "60853dc8",
   "metadata": {},
   "source": [
    "## Observe variation in the observation space"
   ]
  },
  {
   "cell_type": "code",
   "execution_count": 2,
   "id": "65907ea4",
   "metadata": {},
   "outputs": [],
   "source": [
    "import json\n",
    "\n",
    "class MockAIGame:\n",
    "    observations = []\n",
    "    rewards = []\n",
    "    env = None\n",
    "\n",
    "    def __init__(self, env):\n",
    "        self.env = env\n",
    "    \n",
    "config = None\n",
    "with open('config.json') as f:\n",
    "    config = json.load(f)\n"
   ]
  },
  {
   "cell_type": "code",
   "execution_count": 3,
   "id": "49d5a1ac",
   "metadata": {},
   "outputs": [],
   "source": [
    "import gym\n",
    "\n",
    "all_observations = []"
   ]
  },
  {
   "cell_type": "code",
   "execution_count": 4,
   "id": "1b5aab15",
   "metadata": {
    "scrolled": true
   },
   "outputs": [],
   "source": [
    "\n",
    "env = gym.make('CartPole-v1')\n",
    "\n",
    "steps = []\n",
    "\n",
    "for i_episode in range(200):\n",
    "    observation = env.reset()\n",
    "    for t in range(1000):\n",
    "        env.render()\n",
    "#         print(observation)\n",
    "        all_observations.append(observation)\n",
    "        action = env.action_space.sample()\n",
    "        observation, reward, done, info = env.step(action)\n",
    "        if done:\n",
    "            steps.append(t+1)\n",
    "#             print(\"Episode finished after {} timesteps\".format(t+1))\n",
    "            break\n",
    "\n",
    "env.close()\n"
   ]
  },
  {
   "cell_type": "code",
   "execution_count": 5,
   "id": "57ac73bd",
   "metadata": {},
   "outputs": [
    {
     "data": {
      "text/plain": [
       "4358"
      ]
     },
     "execution_count": 5,
     "metadata": {},
     "output_type": "execute_result"
    }
   ],
   "source": [
    "len(all_observations)"
   ]
  },
  {
   "cell_type": "code",
   "execution_count": 6,
   "id": "4ef375bc",
   "metadata": {},
   "outputs": [],
   "source": [
    "import pandas as pd\n",
    "\n",
    "cols = ['pos', 'velocity', 'angle', 'angular velocity']\n",
    "df = pd.DataFrame(data=all_observations, columns=cols)"
   ]
  },
  {
   "cell_type": "code",
   "execution_count": 7,
   "id": "104c89a9",
   "metadata": {},
   "outputs": [
    {
     "data": {
      "text/html": [
       "<div>\n",
       "<style scoped>\n",
       "    .dataframe tbody tr th:only-of-type {\n",
       "        vertical-align: middle;\n",
       "    }\n",
       "\n",
       "    .dataframe tbody tr th {\n",
       "        vertical-align: top;\n",
       "    }\n",
       "\n",
       "    .dataframe thead th {\n",
       "        text-align: right;\n",
       "    }\n",
       "</style>\n",
       "<table border=\"1\" class=\"dataframe\">\n",
       "  <thead>\n",
       "    <tr style=\"text-align: right;\">\n",
       "      <th></th>\n",
       "      <th>pos</th>\n",
       "      <th>velocity</th>\n",
       "      <th>angle</th>\n",
       "      <th>angular velocity</th>\n",
       "    </tr>\n",
       "  </thead>\n",
       "  <tbody>\n",
       "    <tr>\n",
       "      <th>count</th>\n",
       "      <td>4358.000000</td>\n",
       "      <td>4358.000000</td>\n",
       "      <td>4358.000000</td>\n",
       "      <td>4358.000000</td>\n",
       "    </tr>\n",
       "    <tr>\n",
       "      <th>mean</th>\n",
       "      <td>-0.006138</td>\n",
       "      <td>-0.034693</td>\n",
       "      <td>0.009551</td>\n",
       "      <td>0.064462</td>\n",
       "    </tr>\n",
       "    <tr>\n",
       "      <th>std</th>\n",
       "      <td>0.082357</td>\n",
       "      <td>0.518938</td>\n",
       "      <td>0.090671</td>\n",
       "      <td>0.788913</td>\n",
       "    </tr>\n",
       "    <tr>\n",
       "      <th>min</th>\n",
       "      <td>-0.446588</td>\n",
       "      <td>-1.614273</td>\n",
       "      <td>-0.209236</td>\n",
       "      <td>-2.802509</td>\n",
       "    </tr>\n",
       "    <tr>\n",
       "      <th>25%</th>\n",
       "      <td>-0.044179</td>\n",
       "      <td>-0.384109</td>\n",
       "      <td>-0.044752</td>\n",
       "      <td>-0.396088</td>\n",
       "    </tr>\n",
       "    <tr>\n",
       "      <th>50%</th>\n",
       "      <td>-0.005367</td>\n",
       "      <td>-0.022509</td>\n",
       "      <td>0.011472</td>\n",
       "      <td>0.042293</td>\n",
       "    </tr>\n",
       "    <tr>\n",
       "      <th>75%</th>\n",
       "      <td>0.036274</td>\n",
       "      <td>0.240318</td>\n",
       "      <td>0.067749</td>\n",
       "      <td>0.590095</td>\n",
       "    </tr>\n",
       "    <tr>\n",
       "      <th>max</th>\n",
       "      <td>0.495205</td>\n",
       "      <td>2.155326</td>\n",
       "      <td>0.209062</td>\n",
       "      <td>2.489823</td>\n",
       "    </tr>\n",
       "  </tbody>\n",
       "</table>\n",
       "</div>"
      ],
      "text/plain": [
       "               pos     velocity        angle  angular velocity\n",
       "count  4358.000000  4358.000000  4358.000000       4358.000000\n",
       "mean     -0.006138    -0.034693     0.009551          0.064462\n",
       "std       0.082357     0.518938     0.090671          0.788913\n",
       "min      -0.446588    -1.614273    -0.209236         -2.802509\n",
       "25%      -0.044179    -0.384109    -0.044752         -0.396088\n",
       "50%      -0.005367    -0.022509     0.011472          0.042293\n",
       "75%       0.036274     0.240318     0.067749          0.590095\n",
       "max       0.495205     2.155326     0.209062          2.489823"
      ]
     },
     "execution_count": 7,
     "metadata": {},
     "output_type": "execute_result"
    }
   ],
   "source": [
    "df.describe()"
   ]
  },
  {
   "cell_type": "code",
   "execution_count": 8,
   "id": "696a56ca",
   "metadata": {},
   "outputs": [
    {
     "name": "stdout",
     "output_type": "stream",
     "text": [
      "theoretical min: [-4.8000002e+00 -3.4028235e+38 -4.1887903e-01 -3.4028235e+38]\n",
      "theoretical max: [4.8000002e+00 3.4028235e+38 4.1887903e-01 3.4028235e+38]\n"
     ]
    }
   ],
   "source": [
    "print('theoretical min:', env.observation_space.low)\n",
    "print('theoretical max:', env.observation_space.high)"
   ]
  },
  {
   "cell_type": "markdown",
   "id": "d5fe6912",
   "metadata": {},
   "source": [
    "## Analyze game inputs on those observations"
   ]
  },
  {
   "cell_type": "code",
   "execution_count": 9,
   "id": "fe607115",
   "metadata": {},
   "outputs": [],
   "source": [
    "from game_interface import GameInterface\n",
    "\n",
    "game = MockAIGame(env)\n",
    "gi = GameInterface(game, config)"
   ]
  },
  {
   "cell_type": "code",
   "execution_count": 10,
   "id": "f01cc6e0",
   "metadata": {},
   "outputs": [
    {
     "name": "stdout",
     "output_type": "stream",
     "text": [
      "4358\n"
     ]
    }
   ],
   "source": [
    "all_firing_rates = []\n",
    "\n",
    "for obs in all_observations:\n",
    "    game.observations = [obs]\n",
    "    all_firing_rates.append(gi.input_firing_rates()[:4])\n",
    "    \n",
    "print(len(all_firing_rates))"
   ]
  },
  {
   "cell_type": "code",
   "execution_count": 11,
   "id": "057c5173",
   "metadata": {},
   "outputs": [],
   "source": [
    "df_fr = pd.DataFrame(data=all_firing_rates, columns=['fr_'+c for c in cols])"
   ]
  },
  {
   "cell_type": "code",
   "execution_count": 12,
   "id": "9c5fa44e",
   "metadata": {},
   "outputs": [
    {
     "data": {
      "text/html": [
       "<div>\n",
       "<style scoped>\n",
       "    .dataframe tbody tr th:only-of-type {\n",
       "        vertical-align: middle;\n",
       "    }\n",
       "\n",
       "    .dataframe tbody tr th {\n",
       "        vertical-align: top;\n",
       "    }\n",
       "\n",
       "    .dataframe thead th {\n",
       "        text-align: right;\n",
       "    }\n",
       "</style>\n",
       "<table border=\"1\" class=\"dataframe\">\n",
       "  <thead>\n",
       "    <tr style=\"text-align: right;\">\n",
       "      <th></th>\n",
       "      <th>fr_pos</th>\n",
       "      <th>fr_velocity</th>\n",
       "      <th>fr_angle</th>\n",
       "      <th>fr_angular velocity</th>\n",
       "    </tr>\n",
       "  </thead>\n",
       "  <tbody>\n",
       "    <tr>\n",
       "      <th>count</th>\n",
       "      <td>4358.000000</td>\n",
       "      <td>4358.000000</td>\n",
       "      <td>4358.000000</td>\n",
       "      <td>4358.000000</td>\n",
       "    </tr>\n",
       "    <tr>\n",
       "      <th>mean</th>\n",
       "      <td>24.780772</td>\n",
       "      <td>24.565898</td>\n",
       "      <td>26.191847</td>\n",
       "      <td>25.645865</td>\n",
       "    </tr>\n",
       "    <tr>\n",
       "      <th>std</th>\n",
       "      <td>2.941306</td>\n",
       "      <td>6.484911</td>\n",
       "      <td>11.312401</td>\n",
       "      <td>7.884888</td>\n",
       "    </tr>\n",
       "    <tr>\n",
       "      <th>min</th>\n",
       "      <td>9.050440</td>\n",
       "      <td>4.821581</td>\n",
       "      <td>0.000000</td>\n",
       "      <td>0.000000</td>\n",
       "    </tr>\n",
       "    <tr>\n",
       "      <th>25%</th>\n",
       "      <td>23.422171</td>\n",
       "      <td>20.198642</td>\n",
       "      <td>19.405970</td>\n",
       "      <td>21.039118</td>\n",
       "    </tr>\n",
       "    <tr>\n",
       "      <th>50%</th>\n",
       "      <td>24.808320</td>\n",
       "      <td>24.718641</td>\n",
       "      <td>26.433955</td>\n",
       "      <td>25.422935</td>\n",
       "    </tr>\n",
       "    <tr>\n",
       "      <th>75%</th>\n",
       "      <td>26.295514</td>\n",
       "      <td>28.003981</td>\n",
       "      <td>33.468654</td>\n",
       "      <td>30.900947</td>\n",
       "    </tr>\n",
       "    <tr>\n",
       "      <th>max</th>\n",
       "      <td>42.685878</td>\n",
       "      <td>50.000000</td>\n",
       "      <td>50.000000</td>\n",
       "      <td>49.898230</td>\n",
       "    </tr>\n",
       "  </tbody>\n",
       "</table>\n",
       "</div>"
      ],
      "text/plain": [
       "            fr_pos  fr_velocity     fr_angle  fr_angular velocity\n",
       "count  4358.000000  4358.000000  4358.000000          4358.000000\n",
       "mean     24.780772    24.565898    26.191847            25.645865\n",
       "std       2.941306     6.484911    11.312401             7.884888\n",
       "min       9.050440     4.821581     0.000000             0.000000\n",
       "25%      23.422171    20.198642    19.405970            21.039118\n",
       "50%      24.808320    24.718641    26.433955            25.422935\n",
       "75%      26.295514    28.003981    33.468654            30.900947\n",
       "max      42.685878    50.000000    50.000000            49.898230"
      ]
     },
     "execution_count": 12,
     "metadata": {},
     "output_type": "execute_result"
    }
   ],
   "source": [
    "df_fr.describe()"
   ]
  },
  {
   "cell_type": "code",
   "execution_count": 13,
   "id": "6d3aa2e6",
   "metadata": {},
   "outputs": [
    {
     "name": "stderr",
     "output_type": "stream",
     "text": [
      "/Users/danielhasegan/workspace/netpyne-project/venv/lib/python3.7/site-packages/ipykernel_launcher.py:2: RuntimeWarning: divide by zero encountered in double_scalars\n",
      "  \n"
     ]
    }
   ],
   "source": [
    "maxFiring = config['net']['InputMaxRate']\n",
    "df_interval = pd.DataFrame(data=[[maxFiring/fr for fr in k]for k in all_firing_rates], columns=['int_'+c for c in cols])"
   ]
  },
  {
   "cell_type": "code",
   "execution_count": 14,
   "id": "17eb5b42",
   "metadata": {},
   "outputs": [
    {
     "data": {
      "text/html": [
       "<div>\n",
       "<style scoped>\n",
       "    .dataframe tbody tr th:only-of-type {\n",
       "        vertical-align: middle;\n",
       "    }\n",
       "\n",
       "    .dataframe tbody tr th {\n",
       "        vertical-align: top;\n",
       "    }\n",
       "\n",
       "    .dataframe thead th {\n",
       "        text-align: right;\n",
       "    }\n",
       "</style>\n",
       "<table border=\"1\" class=\"dataframe\">\n",
       "  <thead>\n",
       "    <tr style=\"text-align: right;\">\n",
       "      <th></th>\n",
       "      <th>int_pos</th>\n",
       "      <th>int_velocity</th>\n",
       "      <th>int_angle</th>\n",
       "      <th>int_angular velocity</th>\n",
       "    </tr>\n",
       "  </thead>\n",
       "  <tbody>\n",
       "    <tr>\n",
       "      <th>count</th>\n",
       "      <td>4358.000000</td>\n",
       "      <td>4358.000000</td>\n",
       "      <td>4358.000000</td>\n",
       "      <td>4358.000000</td>\n",
       "    </tr>\n",
       "    <tr>\n",
       "      <th>mean</th>\n",
       "      <td>2.053138</td>\n",
       "      <td>2.207854</td>\n",
       "      <td>inf</td>\n",
       "      <td>inf</td>\n",
       "    </tr>\n",
       "    <tr>\n",
       "      <th>std</th>\n",
       "      <td>0.325521</td>\n",
       "      <td>0.734820</td>\n",
       "      <td>NaN</td>\n",
       "      <td>NaN</td>\n",
       "    </tr>\n",
       "    <tr>\n",
       "      <th>min</th>\n",
       "      <td>1.171348</td>\n",
       "      <td>1.000000</td>\n",
       "      <td>1.000000</td>\n",
       "      <td>1.002040</td>\n",
       "    </tr>\n",
       "    <tr>\n",
       "      <th>25%</th>\n",
       "      <td>1.901465</td>\n",
       "      <td>1.785460</td>\n",
       "      <td>1.493935</td>\n",
       "      <td>1.618073</td>\n",
       "    </tr>\n",
       "    <tr>\n",
       "      <th>50%</th>\n",
       "      <td>2.015453</td>\n",
       "      <td>2.022765</td>\n",
       "      <td>1.891507</td>\n",
       "      <td>1.966728</td>\n",
       "    </tr>\n",
       "    <tr>\n",
       "      <th>75%</th>\n",
       "      <td>2.134730</td>\n",
       "      <td>2.475414</td>\n",
       "      <td>2.576527</td>\n",
       "      <td>2.376525</td>\n",
       "    </tr>\n",
       "    <tr>\n",
       "      <th>max</th>\n",
       "      <td>5.524593</td>\n",
       "      <td>10.370042</td>\n",
       "      <td>inf</td>\n",
       "      <td>inf</td>\n",
       "    </tr>\n",
       "  </tbody>\n",
       "</table>\n",
       "</div>"
      ],
      "text/plain": [
       "           int_pos  int_velocity    int_angle  int_angular velocity\n",
       "count  4358.000000   4358.000000  4358.000000           4358.000000\n",
       "mean      2.053138      2.207854          inf                   inf\n",
       "std       0.325521      0.734820          NaN                   NaN\n",
       "min       1.171348      1.000000     1.000000              1.002040\n",
       "25%       1.901465      1.785460     1.493935              1.618073\n",
       "50%       2.015453      2.022765     1.891507              1.966728\n",
       "75%       2.134730      2.475414     2.576527              2.376525\n",
       "max       5.524593     10.370042          inf                   inf"
      ]
     },
     "execution_count": 14,
     "metadata": {},
     "output_type": "execute_result"
    }
   ],
   "source": [
    "df_interval.describe()"
   ]
  },
  {
   "cell_type": "markdown",
   "id": "b5a92a91",
   "metadata": {},
   "source": [
    "## Analyze steps per episode"
   ]
  },
  {
   "cell_type": "code",
   "execution_count": 15,
   "id": "f57a07d4",
   "metadata": {},
   "outputs": [
    {
     "data": {
      "text/html": [
       "<div>\n",
       "<style scoped>\n",
       "    .dataframe tbody tr th:only-of-type {\n",
       "        vertical-align: middle;\n",
       "    }\n",
       "\n",
       "    .dataframe tbody tr th {\n",
       "        vertical-align: top;\n",
       "    }\n",
       "\n",
       "    .dataframe thead th {\n",
       "        text-align: right;\n",
       "    }\n",
       "</style>\n",
       "<table border=\"1\" class=\"dataframe\">\n",
       "  <thead>\n",
       "    <tr style=\"text-align: right;\">\n",
       "      <th></th>\n",
       "      <th>steps_per_episode</th>\n",
       "    </tr>\n",
       "  </thead>\n",
       "  <tbody>\n",
       "    <tr>\n",
       "      <th>count</th>\n",
       "      <td>200.000000</td>\n",
       "    </tr>\n",
       "    <tr>\n",
       "      <th>mean</th>\n",
       "      <td>21.790000</td>\n",
       "    </tr>\n",
       "    <tr>\n",
       "      <th>std</th>\n",
       "      <td>11.855745</td>\n",
       "    </tr>\n",
       "    <tr>\n",
       "      <th>min</th>\n",
       "      <td>9.000000</td>\n",
       "    </tr>\n",
       "    <tr>\n",
       "      <th>25%</th>\n",
       "      <td>14.000000</td>\n",
       "    </tr>\n",
       "    <tr>\n",
       "      <th>50%</th>\n",
       "      <td>18.000000</td>\n",
       "    </tr>\n",
       "    <tr>\n",
       "      <th>75%</th>\n",
       "      <td>26.000000</td>\n",
       "    </tr>\n",
       "    <tr>\n",
       "      <th>max</th>\n",
       "      <td>84.000000</td>\n",
       "    </tr>\n",
       "  </tbody>\n",
       "</table>\n",
       "</div>"
      ],
      "text/plain": [
       "       steps_per_episode\n",
       "count         200.000000\n",
       "mean           21.790000\n",
       "std            11.855745\n",
       "min             9.000000\n",
       "25%            14.000000\n",
       "50%            18.000000\n",
       "75%            26.000000\n",
       "max            84.000000"
      ]
     },
     "execution_count": 15,
     "metadata": {},
     "output_type": "execute_result"
    }
   ],
   "source": [
    "df_steps = pd.DataFrame(steps, columns=['steps_per_episode'])\n",
    "df_steps.describe()"
   ]
  },
  {
   "cell_type": "markdown",
   "id": "4c27f223",
   "metadata": {},
   "source": [
    "Metric to evalute: rolling median should be higher than 17"
   ]
  },
  {
   "cell_type": "code",
   "execution_count": 3,
   "id": "487eb182",
   "metadata": {},
   "outputs": [],
   "source": [
    "import csv\n",
    "import pandas as pd\n",
    "items = []\n",
    "with open('/Users/danielhasegan/workspace/netpyne-project/results/20210617/ActionsPerEpisode.txt') as f:\n",
    "    for row in csv.reader(f, delimiter='\\t'):\n",
    "        items.append(int(float(row[1])))\n"
   ]
  },
  {
   "cell_type": "code",
   "execution_count": 12,
   "id": "32f0fe5c",
   "metadata": {},
   "outputs": [
    {
     "name": "stdout",
     "output_type": "stream",
     "text": [
      "        st_per_ep\n",
      "count  209.000000\n",
      "mean    24.148325\n",
      "std     12.312127\n",
      "min      9.000000\n",
      "25%     15.000000\n",
      "50%     21.000000\n",
      "75%     29.000000\n",
      "max     78.000000\n",
      "        st_per_ep\n",
      "count  209.000000\n",
      "mean    22.784689\n",
      "std      9.901270\n",
      "min      9.000000\n",
      "25%     16.000000\n",
      "50%     21.000000\n",
      "75%     28.000000\n",
      "max     67.000000\n",
      "        st_per_ep\n",
      "count  209.000000\n",
      "mean    22.712919\n",
      "std     11.467088\n",
      "min      9.000000\n",
      "25%     14.000000\n",
      "50%     19.000000\n",
      "75%     28.000000\n",
      "max     63.000000\n",
      "        st_per_ep\n",
      "count  209.000000\n",
      "mean    23.909091\n",
      "std     11.463419\n",
      "min      9.000000\n",
      "25%     15.000000\n",
      "50%     21.000000\n",
      "75%     30.000000\n",
      "max     72.000000\n"
     ]
    }
   ],
   "source": [
    "\n",
    "STEP = int(len(items) / 4)\n",
    "for i in range(int(len(items) / STEP)):\n",
    "    sub_items = items[STEP * i: STEP * (i+1)]\n",
    "    print(pd.DataFrame(sub_items, columns=['st_per_ep']).describe())"
   ]
  },
  {
   "cell_type": "code",
   "execution_count": 7,
   "id": "acf051fc",
   "metadata": {},
   "outputs": [
    {
     "data": {
      "text/plain": [
       "209.0"
      ]
     },
     "execution_count": 7,
     "metadata": {},
     "output_type": "execute_result"
    }
   ],
   "source": [
    "len(items) / 4"
   ]
  },
  {
   "cell_type": "code",
   "execution_count": null,
   "id": "eb6423a7",
   "metadata": {},
   "outputs": [],
   "source": []
  }
 ],
 "metadata": {
  "kernelspec": {
   "display_name": "Python 3",
   "language": "python",
   "name": "python3"
  },
  "language_info": {
   "codemirror_mode": {
    "name": "ipython",
    "version": 3
   },
   "file_extension": ".py",
   "mimetype": "text/x-python",
   "name": "python",
   "nbconvert_exporter": "python",
   "pygments_lexer": "ipython3",
   "version": "3.7.9"
  }
 },
 "nbformat": 4,
 "nbformat_minor": 5
}
