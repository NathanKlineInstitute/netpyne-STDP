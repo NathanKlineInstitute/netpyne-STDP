{
 "cells": [
  {
   "cell_type": "code",
   "execution_count": 1,
   "id": "5cd01f78",
   "metadata": {},
   "outputs": [],
   "source": [
    "import os\n",
    "os.chdir('../')"
   ]
  },
  {
   "cell_type": "code",
   "execution_count": 2,
   "id": "da42ac13",
   "metadata": {},
   "outputs": [],
   "source": [
    "import json\n",
    "\n",
    "class MockAIGame:\n",
    "    observations = []\n",
    "    rewards = []\n",
    "    env = None\n",
    "\n",
    "    def __init__(self, env):\n",
    "        self.env = env\n",
    "    \n",
    "config = None\n",
    "with open('config.json') as f:\n",
    "    config = json.load(f)\n"
   ]
  },
  {
   "cell_type": "code",
   "execution_count": 3,
   "id": "87a7eef4",
   "metadata": {},
   "outputs": [],
   "source": [
    "import gym\n",
    "\n",
    "all_observations = []"
   ]
  },
  {
   "cell_type": "code",
   "execution_count": 4,
   "id": "4f07fd4c",
   "metadata": {},
   "outputs": [],
   "source": [
    "\n",
    "env = gym.make('CartPole-v1')\n",
    "\n",
    "steps = []\n",
    "\n",
    "for i_episode in range(200):\n",
    "    observation = env.reset()\n",
    "    for t in range(1000):\n",
    "        env.render()\n",
    "#         print(observation)\n",
    "        all_observations.append(observation)\n",
    "        action = env.action_space.sample()\n",
    "        observation, reward, done, info = env.step(action)\n",
    "        if done:\n",
    "            steps.append(t+1)\n",
    "#             print(\"Episode finished after {} timesteps\".format(t+1))\n",
    "            break\n",
    "\n",
    "env.close()\n"
   ]
  },
  {
   "cell_type": "code",
   "execution_count": 6,
   "id": "72026ddc",
   "metadata": {},
   "outputs": [
    {
     "data": {
      "text/plain": [
       "4212"
      ]
     },
     "execution_count": 6,
     "metadata": {},
     "output_type": "execute_result"
    }
   ],
   "source": [
    "len(all_observations)"
   ]
  },
  {
   "cell_type": "code",
   "execution_count": 7,
   "id": "27cb6b8f",
   "metadata": {},
   "outputs": [],
   "source": [
    "import pandas as pd\n",
    "\n",
    "cols = ['pos', 'velocity', 'angle', 'angular velocity']\n",
    "df = pd.DataFrame(data=all_observations, columns=cols)"
   ]
  },
  {
   "cell_type": "code",
   "execution_count": 12,
   "id": "a37b7189",
   "metadata": {},
   "outputs": [
    {
     "data": {
      "text/html": [
       "<div>\n",
       "<style scoped>\n",
       "    .dataframe tbody tr th:only-of-type {\n",
       "        vertical-align: middle;\n",
       "    }\n",
       "\n",
       "    .dataframe tbody tr th {\n",
       "        vertical-align: top;\n",
       "    }\n",
       "\n",
       "    .dataframe thead th {\n",
       "        text-align: right;\n",
       "    }\n",
       "</style>\n",
       "<table border=\"1\" class=\"dataframe\">\n",
       "  <thead>\n",
       "    <tr style=\"text-align: right;\">\n",
       "      <th></th>\n",
       "      <th>pos</th>\n",
       "      <th>velocity</th>\n",
       "      <th>angle</th>\n",
       "      <th>angular velocity</th>\n",
       "    </tr>\n",
       "  </thead>\n",
       "  <tbody>\n",
       "    <tr>\n",
       "      <th>count</th>\n",
       "      <td>4212.000000</td>\n",
       "      <td>4212.000000</td>\n",
       "      <td>4212.000000</td>\n",
       "      <td>4212.000000</td>\n",
       "    </tr>\n",
       "    <tr>\n",
       "      <th>mean</th>\n",
       "      <td>-0.006458</td>\n",
       "      <td>-0.036341</td>\n",
       "      <td>0.005293</td>\n",
       "      <td>0.047520</td>\n",
       "    </tr>\n",
       "    <tr>\n",
       "      <th>std</th>\n",
       "      <td>0.068947</td>\n",
       "      <td>0.539895</td>\n",
       "      <td>0.091299</td>\n",
       "      <td>0.820706</td>\n",
       "    </tr>\n",
       "    <tr>\n",
       "      <th>min</th>\n",
       "      <td>-0.326433</td>\n",
       "      <td>-2.292229</td>\n",
       "      <td>-0.208935</td>\n",
       "      <td>-2.870586</td>\n",
       "    </tr>\n",
       "    <tr>\n",
       "      <th>25%</th>\n",
       "      <td>-0.043662</td>\n",
       "      <td>-0.386120</td>\n",
       "      <td>-0.046157</td>\n",
       "      <td>-0.443360</td>\n",
       "    </tr>\n",
       "    <tr>\n",
       "      <th>50%</th>\n",
       "      <td>-0.005977</td>\n",
       "      <td>-0.024303</td>\n",
       "      <td>0.005752</td>\n",
       "      <td>0.025472</td>\n",
       "    </tr>\n",
       "    <tr>\n",
       "      <th>75%</th>\n",
       "      <td>0.033438</td>\n",
       "      <td>0.241026</td>\n",
       "      <td>0.057785</td>\n",
       "      <td>0.575758</td>\n",
       "    </tr>\n",
       "    <tr>\n",
       "      <th>max</th>\n",
       "      <td>0.494948</td>\n",
       "      <td>2.290255</td>\n",
       "      <td>0.209399</td>\n",
       "      <td>3.011374</td>\n",
       "    </tr>\n",
       "  </tbody>\n",
       "</table>\n",
       "</div>"
      ],
      "text/plain": [
       "               pos     velocity        angle  angular velocity\n",
       "count  4212.000000  4212.000000  4212.000000       4212.000000\n",
       "mean     -0.006458    -0.036341     0.005293          0.047520\n",
       "std       0.068947     0.539895     0.091299          0.820706\n",
       "min      -0.326433    -2.292229    -0.208935         -2.870586\n",
       "25%      -0.043662    -0.386120    -0.046157         -0.443360\n",
       "50%      -0.005977    -0.024303     0.005752          0.025472\n",
       "75%       0.033438     0.241026     0.057785          0.575758\n",
       "max       0.494948     2.290255     0.209399          3.011374"
      ]
     },
     "execution_count": 12,
     "metadata": {},
     "output_type": "execute_result"
    }
   ],
   "source": [
    "df.describe()"
   ]
  },
  {
   "cell_type": "code",
   "execution_count": 15,
   "id": "506a171e",
   "metadata": {},
   "outputs": [],
   "source": [
    "means = df.describe().to_numpy()[1]\n",
    "vstds = df.describe().to_numpy()[2]"
   ]
  },
  {
   "cell_type": "code",
   "execution_count": 36,
   "id": "73858199",
   "metadata": {},
   "outputs": [
    {
     "data": {
      "text/plain": [
       "array([-0.00645789, -0.03634136,  0.00529333,  0.04752025])"
      ]
     },
     "execution_count": 36,
     "metadata": {},
     "output_type": "execute_result"
    }
   ],
   "source": [
    "means"
   ]
  },
  {
   "cell_type": "code",
   "execution_count": 29,
   "id": "bac2883d",
   "metadata": {},
   "outputs": [
    {
     "data": {
      "text/plain": [
       "array([0.06894682, 0.53989509, 0.09129902, 0.82070579])"
      ]
     },
     "execution_count": 29,
     "metadata": {},
     "output_type": "execute_result"
    }
   ],
   "source": [
    "vstds"
   ]
  },
  {
   "cell_type": "code",
   "execution_count": 61,
   "id": "5fe0a3e8",
   "metadata": {},
   "outputs": [
    {
     "name": "stdout",
     "output_type": "stream",
     "text": [
      "[<function normalize_f.<locals>._f at 0x12debbc20>, <function normalize_f.<locals>._f at 0x12debbdd0>, <function normalize_f.<locals>._f at 0x12debbe60>, <function normalize_f.<locals>._f at 0x12c111f80>]\n"
     ]
    }
   ],
   "source": [
    "def normalize_f(mean, std):\n",
    "    def _f(x):\n",
    "        return (x - mean) / std\n",
    "    return _f\n",
    "\n",
    "fs = [normalize_f(means[idx], vstds[idx]) for idx in range(4)]\n",
    "\n",
    "    \n",
    "print(fs)"
   ]
  },
  {
   "cell_type": "code",
   "execution_count": 63,
   "id": "bdcf2439",
   "metadata": {},
   "outputs": [
    {
     "name": "stdout",
     "output_type": "stream",
     "text": [
      "4212\n"
     ]
    }
   ],
   "source": [
    "normalized_observations = []\n",
    "\n",
    "for obs in all_observations:\n",
    "    normalized_observations.append([f(val) for f, val in zip(fs, obs)])\n",
    "\n",
    "print(len(normalized_observations))"
   ]
  },
  {
   "cell_type": "code",
   "execution_count": 64,
   "id": "873e02a4",
   "metadata": {},
   "outputs": [],
   "source": [
    "dfn = pd.DataFrame(data=normalized_observations, columns=cols)"
   ]
  },
  {
   "cell_type": "code",
   "execution_count": 65,
   "id": "4a8cd3fc",
   "metadata": {},
   "outputs": [
    {
     "data": {
      "text/html": [
       "<div>\n",
       "<style scoped>\n",
       "    .dataframe tbody tr th:only-of-type {\n",
       "        vertical-align: middle;\n",
       "    }\n",
       "\n",
       "    .dataframe tbody tr th {\n",
       "        vertical-align: top;\n",
       "    }\n",
       "\n",
       "    .dataframe thead th {\n",
       "        text-align: right;\n",
       "    }\n",
       "</style>\n",
       "<table border=\"1\" class=\"dataframe\">\n",
       "  <thead>\n",
       "    <tr style=\"text-align: right;\">\n",
       "      <th></th>\n",
       "      <th>pos</th>\n",
       "      <th>velocity</th>\n",
       "      <th>angle</th>\n",
       "      <th>angular velocity</th>\n",
       "    </tr>\n",
       "  </thead>\n",
       "  <tbody>\n",
       "    <tr>\n",
       "      <th>count</th>\n",
       "      <td>4.212000e+03</td>\n",
       "      <td>4.212000e+03</td>\n",
       "      <td>4.212000e+03</td>\n",
       "      <td>4.212000e+03</td>\n",
       "    </tr>\n",
       "    <tr>\n",
       "      <th>mean</th>\n",
       "      <td>2.699118e-17</td>\n",
       "      <td>-3.373897e-17</td>\n",
       "      <td>1.012169e-17</td>\n",
       "      <td>-1.518254e-17</td>\n",
       "    </tr>\n",
       "    <tr>\n",
       "      <th>std</th>\n",
       "      <td>1.000000e+00</td>\n",
       "      <td>1.000000e+00</td>\n",
       "      <td>1.000000e+00</td>\n",
       "      <td>1.000000e+00</td>\n",
       "    </tr>\n",
       "    <tr>\n",
       "      <th>min</th>\n",
       "      <td>-4.640901e+00</td>\n",
       "      <td>-4.178381e+00</td>\n",
       "      <td>-2.346443e+00</td>\n",
       "      <td>-3.555606e+00</td>\n",
       "    </tr>\n",
       "    <tr>\n",
       "      <th>25%</th>\n",
       "      <td>-5.395995e-01</td>\n",
       "      <td>-6.478641e-01</td>\n",
       "      <td>-5.635317e-01</td>\n",
       "      <td>-5.981193e-01</td>\n",
       "    </tr>\n",
       "    <tr>\n",
       "      <th>50%</th>\n",
       "      <td>6.977980e-03</td>\n",
       "      <td>2.229680e-02</td>\n",
       "      <td>5.028364e-03</td>\n",
       "      <td>-2.686450e-02</td>\n",
       "    </tr>\n",
       "    <tr>\n",
       "      <th>75%</th>\n",
       "      <td>5.786425e-01</td>\n",
       "      <td>5.137425e-01</td>\n",
       "      <td>5.749466e-01</td>\n",
       "      <td>6.436389e-01</td>\n",
       "    </tr>\n",
       "    <tr>\n",
       "      <th>max</th>\n",
       "      <td>7.272362e+00</td>\n",
       "      <td>4.309349e+00</td>\n",
       "      <td>2.235578e+00</td>\n",
       "      <td>3.611347e+00</td>\n",
       "    </tr>\n",
       "  </tbody>\n",
       "</table>\n",
       "</div>"
      ],
      "text/plain": [
       "                pos      velocity         angle  angular velocity\n",
       "count  4.212000e+03  4.212000e+03  4.212000e+03      4.212000e+03\n",
       "mean   2.699118e-17 -3.373897e-17  1.012169e-17     -1.518254e-17\n",
       "std    1.000000e+00  1.000000e+00  1.000000e+00      1.000000e+00\n",
       "min   -4.640901e+00 -4.178381e+00 -2.346443e+00     -3.555606e+00\n",
       "25%   -5.395995e-01 -6.478641e-01 -5.635317e-01     -5.981193e-01\n",
       "50%    6.977980e-03  2.229680e-02  5.028364e-03     -2.686450e-02\n",
       "75%    5.786425e-01  5.137425e-01  5.749466e-01      6.436389e-01\n",
       "max    7.272362e+00  4.309349e+00  2.235578e+00      3.611347e+00"
      ]
     },
     "execution_count": 65,
     "metadata": {},
     "output_type": "execute_result"
    }
   ],
   "source": [
    "dfn.describe()"
   ]
  },
  {
   "cell_type": "code",
   "execution_count": 67,
   "id": "966efa3a",
   "metadata": {},
   "outputs": [],
   "source": [
    "from scipy.stats import norm\n",
    "import numpy as np"
   ]
  },
  {
   "cell_type": "code",
   "execution_count": 110,
   "id": "aa5abf15",
   "metadata": {},
   "outputs": [
    {
     "name": "stdout",
     "output_type": "stream",
     "text": [
      "[-inf, -0.8416, -0.2533, 0.2533, 0.8416, inf]\n"
     ]
    }
   ],
   "source": [
    "# norm.ppf()\n",
    "EPS = 0\n",
    "bins = 5\n",
    "intervals = norm.ppf(np.linspace(EPS, 1.0 - EPS, bins + 1))\n",
    "print([round(k, 4) for k  in list(intervals)])"
   ]
  },
  {
   "cell_type": "code",
   "execution_count": 114,
   "id": "1a21b5c8",
   "metadata": {},
   "outputs": [
    {
     "data": {
      "text/plain": [
       "True"
      ]
     },
     "execution_count": 114,
     "metadata": {},
     "output_type": "execute_result"
    }
   ],
   "source": [
    "intervals[0] < -200002.0"
   ]
  },
  {
   "cell_type": "code",
   "execution_count": 91,
   "id": "ac8343d4",
   "metadata": {},
   "outputs": [
    {
     "data": {
      "text/plain": [
       "1"
      ]
     },
     "execution_count": 91,
     "metadata": {},
     "output_type": "execute_result"
    }
   ],
   "source": [
    "np.searchsorted(intervals, -2)"
   ]
  },
  {
   "cell_type": "code",
   "execution_count": 94,
   "id": "19ef248f",
   "metadata": {},
   "outputs": [
    {
     "data": {
      "text/plain": [
       "True"
      ]
     },
     "execution_count": 94,
     "metadata": {},
     "output_type": "execute_result"
    }
   ],
   "source": [
    "len(intervals) == bins + 1"
   ]
  },
  {
   "cell_type": "code",
   "execution_count": 96,
   "id": "567b5355",
   "metadata": {},
   "outputs": [
    {
     "data": {
      "text/plain": [
       "array([-1. , -0.6, -0.2,  0.2,  0.6,  1. ])"
      ]
     },
     "execution_count": 96,
     "metadata": {},
     "output_type": "execute_result"
    }
   ],
   "source": [
    "np.linspace(-1, 1, 6)"
   ]
  },
  {
   "cell_type": "code",
   "execution_count": null,
   "id": "a3b99917",
   "metadata": {},
   "outputs": [],
   "source": []
  }
 ],
 "metadata": {
  "kernelspec": {
   "display_name": "Python 3",
   "language": "python",
   "name": "python3"
  },
  "language_info": {
   "codemirror_mode": {
    "name": "ipython",
    "version": 3
   },
   "file_extension": ".py",
   "mimetype": "text/x-python",
   "name": "python",
   "nbconvert_exporter": "python",
   "pygments_lexer": "ipython3",
   "version": "3.7.9"
  }
 },
 "nbformat": 4,
 "nbformat_minor": 5
}
