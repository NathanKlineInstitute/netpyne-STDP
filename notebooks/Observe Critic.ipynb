{
 "cells": [
  {
   "cell_type": "code",
   "execution_count": 1,
   "id": "e51aec4d",
   "metadata": {},
   "outputs": [],
   "source": [
    "import os\n",
    "os.chdir('../')"
   ]
  },
  {
   "cell_type": "code",
   "execution_count": 2,
   "id": "8d09a9dc",
   "metadata": {},
   "outputs": [],
   "source": [
    "import json\n",
    "\n",
    "class MockAIGame:\n",
    "    observations = []\n",
    "    rewards = []\n",
    "    env = None\n",
    "\n",
    "    def __init__(self, env):\n",
    "        self.env = env\n",
    "    \n",
    "config = None\n",
    "with open('config.json') as f:\n",
    "    config = json.load(f)\n"
   ]
  },
  {
   "cell_type": "code",
   "execution_count": 3,
   "id": "82abcb78",
   "metadata": {},
   "outputs": [],
   "source": [
    "import gym\n",
    "env = gym.make('CartPole-v1')"
   ]
  },
  {
   "cell_type": "code",
   "execution_count": 4,
   "id": "09949686",
   "metadata": {},
   "outputs": [],
   "source": [
    "from neurosim.game_interface import GameInterface\n",
    "\n",
    "game = MockAIGame(env)\n",
    "gi = GameInterface(game, config)\n"
   ]
  },
  {
   "cell_type": "code",
   "execution_count": 5,
   "id": "5ccb29f8",
   "metadata": {},
   "outputs": [
    {
     "name": "stdout",
     "output_type": "stream",
     "text": [
      "[ 0.00426228 -0.00149451  0.00650002 -0.01660919]\n",
      "R [0.004, 0.194, 0.006, -0.307] -1.0195585745290625\n",
      "L [0.008, -0.002, 0.0, -0.013] 1.0420825559501499\n",
      "R [0.008, 0.193, -0.0, -0.305] -1.034765043203992\n",
      "R [0.012, 0.389, -0.006, -0.598] -1.035282454068159\n",
      "R [0.02, 0.584, -0.018, -0.893] -1.0429095622909061\n"
     ]
    },
    {
     "ename": "KeyboardInterrupt",
     "evalue": "",
     "output_type": "error",
     "traceback": [
      "\u001b[0;31m---------------------------------------------------------------------------\u001b[0m",
      "\u001b[0;31mKeyboardInterrupt\u001b[0m                         Traceback (most recent call last)",
      "\u001b[0;32m<ipython-input-5-5b6e48b006d9>\u001b[0m in \u001b[0;36m<module>\u001b[0;34m\u001b[0m\n\u001b[1;32m     34\u001b[0m \u001b[0;31m#             print(\"Episode finished after {} timesteps\".format(t+1))\u001b[0m\u001b[0;34m\u001b[0m\u001b[0;34m\u001b[0m\u001b[0;34m\u001b[0m\u001b[0m\n\u001b[1;32m     35\u001b[0m             \u001b[0;32mbreak\u001b[0m\u001b[0;34m\u001b[0m\u001b[0;34m\u001b[0m\u001b[0m\n\u001b[0;32m---> 36\u001b[0;31m         \u001b[0mtime\u001b[0m\u001b[0;34m.\u001b[0m\u001b[0msleep\u001b[0m\u001b[0;34m(\u001b[0m\u001b[0;36m4\u001b[0m\u001b[0;34m)\u001b[0m\u001b[0;34m\u001b[0m\u001b[0;34m\u001b[0m\u001b[0m\n\u001b[0m\u001b[1;32m     37\u001b[0m \u001b[0;34m\u001b[0m\u001b[0m\n\u001b[1;32m     38\u001b[0m \u001b[0menv\u001b[0m\u001b[0;34m.\u001b[0m\u001b[0mclose\u001b[0m\u001b[0;34m(\u001b[0m\u001b[0;34m)\u001b[0m\u001b[0;34m\u001b[0m\u001b[0;34m\u001b[0m\u001b[0m\n",
      "\u001b[0;31mKeyboardInterrupt\u001b[0m: "
     ]
    }
   ],
   "source": [
    "import time\n",
    "\n",
    "from neurosim.conf import read_conf\n",
    "from neurosim.critic import Critic\n",
    "\n",
    "dconf = read_conf('config.json')\n",
    "critic = Critic(dconf)\n",
    "\n",
    "\n",
    "steps = []\n",
    "observations = []\n",
    "firing_rates = []\n",
    "\n",
    "for i_episode in range(3):\n",
    "    observation = env.reset()\n",
    "    print(observation)\n",
    "    for t in range(20):\n",
    "        env.render()\n",
    "#         print(observation)\n",
    "        observations.append(observation)\n",
    "        action = env.action_space.sample()\n",
    "        observation, reward, done, info = env.step(action)\n",
    "        rrr = critic.calc_reward(observation, observations[-1])\n",
    "        \n",
    "        game.observations = [observation]\n",
    "        firing_rates.append(gi.input_firing_rates())\n",
    "        firing_indices = (firing_rates[-1] > 0).nonzero()\n",
    "        \n",
    "        print('R' if action else 'L', [round(k, 3) for k in observation], rrr)\n",
    "        \n",
    "        if done:\n",
    "            observations.append(observation)\n",
    "            steps.append(t+1)\n",
    "#             print(\"Episode finished after {} timesteps\".format(t+1))\n",
    "            break\n",
    "        time.sleep(4)\n",
    "\n",
    "env.close()\n"
   ]
  },
  {
   "cell_type": "code",
   "execution_count": 6,
   "id": "6da2b532",
   "metadata": {},
   "outputs": [],
   "source": []
  },
  {
   "cell_type": "code",
   "execution_count": 9,
   "id": "15b07ced",
   "metadata": {},
   "outputs": [],
   "source": [
    "cols = ['pos', 'velocity', 'angle', 'angular velocity']\n",
    "min_values = [-0.530120, -2.154456, -0.209409, -2.590083]\n",
    "max_values = [0.610815, 1.796593, 0.209186, 2.664974]"
   ]
  },
  {
   "cell_type": "code",
   "execution_count": 14,
   "id": "786a8c32",
   "metadata": {},
   "outputs": [
    {
     "data": {
      "text/plain": [
       "(200,)"
      ]
     },
     "execution_count": 14,
     "metadata": {},
     "output_type": "execute_result"
    }
   ],
   "source": [
    "import numpy as np\n",
    "STEPS = 200\n",
    "\n",
    "\n",
    "observation = [0] * 4\n",
    "for ang in np.linspace(min_values[2], max_values[2], STEPS):\n",
    "    observation[2] = ang\n",
    "    for angv in np.linspace(min_values[3], max_values[3], STEPS):\n",
    "        observation[3] = angv\n",
    "        \n",
    "        "
   ]
  },
  {
   "cell_type": "code",
   "execution_count": null,
   "id": "7678b06c",
   "metadata": {},
   "outputs": [],
   "source": []
  }
 ],
 "metadata": {
  "kernelspec": {
   "display_name": "Python 3",
   "language": "python",
   "name": "python3"
  },
  "language_info": {
   "codemirror_mode": {
    "name": "ipython",
    "version": 3
   },
   "file_extension": ".py",
   "mimetype": "text/x-python",
   "name": "python",
   "nbconvert_exporter": "python",
   "pygments_lexer": "ipython3",
   "version": "3.7.9"
  }
 },
 "nbformat": 4,
 "nbformat_minor": 5
}
