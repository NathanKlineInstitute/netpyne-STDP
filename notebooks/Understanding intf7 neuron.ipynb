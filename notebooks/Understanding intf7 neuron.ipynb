{
 "cells": [
  {
   "cell_type": "code",
   "execution_count": 1,
   "id": "7c27ed32",
   "metadata": {},
   "outputs": [],
   "source": [
    "import os\n",
    "os.chdir('../')"
   ]
  },
  {
   "cell_type": "code",
   "execution_count": 2,
   "id": "ff4273ce",
   "metadata": {},
   "outputs": [
    {
     "data": {
      "text/plain": [
       "1.0"
      ]
     },
     "execution_count": 2,
     "metadata": {},
     "output_type": "execute_result"
    }
   ],
   "source": [
    "from neuron import h\n",
    "h.load_file(\"stdrun.hoc\")"
   ]
  },
  {
   "cell_type": "code",
   "execution_count": null,
   "id": "d99b65e6",
   "metadata": {},
   "outputs": [],
   "source": [
    "from netpyne import specs, sim"
   ]
  },
  {
   "cell_type": "code",
   "execution_count": null,
   "id": "a52407ed",
   "metadata": {},
   "outputs": [],
   "source": [
    "# Network parameters\n",
    "netParams = specs.NetParams()  # object of class NetParams to store the network parameters\n",
    "\n",
    "## Population parameters\n",
    "netParams.popParams['E'] = {'cellType': 'INTF7', 'numCells': 20}\n",
    "netParams.popParams['I'] = {'cellType': 'INTF7', 'numCells': 20}\n",
    "\n",
    "## Synaptic mechanism parameters\n",
    "netParams.synMechParams['exc'] = {'mod': 'Exp2Syn', 'tau1': 0.1, 'tau2': 5.0, 'e': 0}  # excitatory synaptic mechanism\n",
    "\n",
    "# Stimulation parameters\n",
    "netParams.stimSourceParams['bkg'] = {'type': 'NetStim', 'rate': 10, 'noise': 0.5}\n",
    "netParams.stimTargetParams['bkg->PYR'] = {'source': 'bkg', 'conds': {'cellType': 'PYR'}, 'weight': 0.01, 'delay': 5, 'synMech': 'exc'}\n",
    "\n",
    "## Cell connectivity rules\n",
    "netParams.connParams['S->M'] = {    #  S -> M label\n",
    "    'preConds': {'pop': 'S'},       # conditions of presyn cells\n",
    "    'postConds': {'pop': 'M'},      # conditions of postsyn cells\n",
    "    'divergence': 12,               # probability of connection\n",
    "    'weight': 0.01,                 # synaptic weight\n",
    "    'delay': 5,                     # transmission delay (ms)\n",
    "    'synMech': 'exc'}               # synaptic mechanism\n",
    "\n",
    "\n",
    "# Simulation options\n",
    "simConfig = specs.SimConfig()       # object of class SimConfig to store simulation configuration\n",
    "\n",
    "simConfig.duration = 1*1e3          # Duration of the simulation, in ms\n",
    "simConfig.dt = 0.025                # Internal integration timestep to use\n",
    "simConfig.verbose = False           # Show detailed messages\n",
    "simConfig.recordTraces = {'V_soma':{'var':'Vm'}}  # Dict with traces to record\n",
    "simConfig.recordStep = 0.1          # Step size in ms to save data (eg. V traces, LFP, etc)\n",
    "simConfig.filename = 'tut2'  # Set file output name\n",
    "simConfig.savePickle = False        # Save params, network and sim output to pickle file\n",
    "simConfig.saveJson = True\n",
    "\n",
    "simConfig.analysis['plotRaster'] = {'saveFig': True}                  # Plot a raster\n",
    "simConfig.analysis['plotTraces'] = {'include': [1], 'saveFig': True}  # Plot recorded traces for this list of cells\n",
    "simConfig.analysis['plot2Dnet'] = {'saveFig': True}                   # plot 2D cell positions and connections\n"
   ]
  },
  {
   "cell_type": "code",
   "execution_count": null,
   "id": "b96fe42d",
   "metadata": {},
   "outputs": [],
   "source": [
    "EExcitSec = 'soma' # section where excitatory synapses placed\n",
    "netParams.defaultThreshold = -40.0\n",
    "for ty in ETypes:\n",
    "    netParams.popParams[ty] = {'cellType':ty, 'cellModel': 'INTF7', 'numCells': dnumc[ty]} # pop of IntFire4\n",
    "    for k,v in intf7.INTF7E.dparam.items(): netParams.popParams[ty][k] = v\n",
    "PlastWeightIndex = intf7.dsyn['AM2']"
   ]
  },
  {
   "cell_type": "code",
   "execution_count": null,
   "id": "8298450b",
   "metadata": {},
   "outputs": [],
   "source": []
  },
  {
   "cell_type": "code",
   "execution_count": null,
   "id": "90ae9d6b",
   "metadata": {},
   "outputs": [],
   "source": []
  },
  {
   "cell_type": "code",
   "execution_count": 1,
   "id": "7f2f0c35",
   "metadata": {},
   "outputs": [
    {
     "ename": "NameError",
     "evalue": "name 'cell' is not defined",
     "output_type": "error",
     "traceback": [
      "\u001b[0;31m---------------------------------------------------------------------------\u001b[0m",
      "\u001b[0;31mNameError\u001b[0m                                 Traceback (most recent call last)",
      "\u001b[0;32m<ipython-input-1-3f62741ae9ce>\u001b[0m in \u001b[0;36m<module>\u001b[0;34m\u001b[0m\n\u001b[0;32m----> 1\u001b[0;31m \u001b[0mcell\u001b[0m\u001b[0;34m\u001b[0m\u001b[0;34m\u001b[0m\u001b[0m\n\u001b[0m",
      "\u001b[0;31mNameError\u001b[0m: name 'cell' is not defined"
     ]
    },
    {
     "ename": "NameError",
     "evalue": "name 'cell' is not defined",
     "output_type": "error",
     "traceback": [
      "\u001b[0;31m---------------------------------------------------------------------------\u001b[0m",
      "\u001b[0;31mNameError\u001b[0m                                 Traceback (most recent call last)",
      "\u001b[0;32m<ipython-input-1-3f62741ae9ce>\u001b[0m in \u001b[0;36m<module>\u001b[0;34m\u001b[0m\n\u001b[0;32m----> 1\u001b[0;31m \u001b[0mcell\u001b[0m\u001b[0;34m\u001b[0m\u001b[0;34m\u001b[0m\u001b[0m\n\u001b[0m",
      "\u001b[0;31mNameError\u001b[0m: name 'cell' is not defined"
     ]
    }
   ],
   "source": [
    "\n",
    "# Create network and run simulation\n",
    "sim.createSimulateAnalyze(netParams = netParams, simConfig = simConfig)\n",
    "\n",
    "# import pylab; pylab.show()  # this line is only necessary in certain systems where figures appear empty\n",
    "\n",
    "# check model output\n",
    "sim.checkOutput('tut2')\n"
   ]
  },
  {
   "cell_type": "code",
   "execution_count": null,
   "id": "3c648b90",
   "metadata": {},
   "outputs": [],
   "source": []
  }
 ],
 "metadata": {
  "kernelspec": {
   "display_name": "Python 3",
   "language": "python",
   "name": "python3"
  },
  "language_info": {
   "codemirror_mode": {
    "name": "ipython",
    "version": 3
   },
   "file_extension": ".py",
   "mimetype": "text/x-python",
   "name": "python",
   "nbconvert_exporter": "python",
   "pygments_lexer": "ipython3",
   "version": "3.7.9"
  }
 },
 "nbformat": 4,
 "nbformat_minor": 5
}
